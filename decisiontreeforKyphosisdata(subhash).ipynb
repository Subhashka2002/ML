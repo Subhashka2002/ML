{
  "nbformat": 4,
  "nbformat_minor": 0,
  "metadata": {
    "colab": {
      "name": "decisiontreeforKyphosisdata(subhash).ipynb",
      "provenance": [],
      "collapsed_sections": [],
      "authorship_tag": "ABX9TyNck6guAocQv9yX7DX32DTa",
      "include_colab_link": true
    },
    "kernelspec": {
      "name": "python3",
      "display_name": "Python 3"
    },
    "language_info": {
      "name": "python"
    }
  },
  "cells": [
    {
      "cell_type": "markdown",
      "metadata": {
        "id": "view-in-github",
        "colab_type": "text"
      },
      "source": [
        "<a href=\"https://colab.research.google.com/github/Subhashka2002/ML/blob/main/decisiontreeforKyphosisdata(subhash).ipynb\" target=\"_parent\"><img src=\"https://colab.research.google.com/assets/colab-badge.svg\" alt=\"Open In Colab\"/></a>"
      ]
    },
    {
      "cell_type": "code",
      "execution_count": 1,
      "metadata": {
        "id": "aDNGyMuT2Zdj"
      },
      "outputs": [],
      "source": [
        "import pandas as pd"
      ]
    },
    {
      "cell_type": "code",
      "source": [
        "data = pd.read_csv(\"kyphosis.csv\")"
      ],
      "metadata": {
        "id": "8mNx6etO2moQ"
      },
      "execution_count": 3,
      "outputs": []
    },
    {
      "cell_type": "code",
      "source": [
        "data"
      ],
      "metadata": {
        "colab": {
          "base_uri": "https://localhost:8080/",
          "height": 424
        },
        "id": "dNypv4bl2mty",
        "outputId": "9298b41f-dd7c-46f1-803b-25cdad684f1a"
      },
      "execution_count": 4,
      "outputs": [
        {
          "output_type": "execute_result",
          "data": {
            "text/plain": [
              "    Unnamed: 0 Kyphosis  Age  Number  Start\n",
              "0            1   absent   71       3      5\n",
              "1            2   absent  158       3     14\n",
              "2            3  present  128       4      5\n",
              "3            4   absent    2       5      1\n",
              "4            5   absent    1       4     15\n",
              "..         ...      ...  ...     ...    ...\n",
              "76          77  present  157       3     13\n",
              "77          78   absent   26       7     13\n",
              "78          79   absent  120       2     13\n",
              "79          80  present   42       7      6\n",
              "80          81   absent   36       4     13\n",
              "\n",
              "[81 rows x 5 columns]"
            ],
            "text/html": [
              "\n",
              "  <div id=\"df-39ca9b12-6c9c-477b-8481-e7df3d8630b7\">\n",
              "    <div class=\"colab-df-container\">\n",
              "      <div>\n",
              "<style scoped>\n",
              "    .dataframe tbody tr th:only-of-type {\n",
              "        vertical-align: middle;\n",
              "    }\n",
              "\n",
              "    .dataframe tbody tr th {\n",
              "        vertical-align: top;\n",
              "    }\n",
              "\n",
              "    .dataframe thead th {\n",
              "        text-align: right;\n",
              "    }\n",
              "</style>\n",
              "<table border=\"1\" class=\"dataframe\">\n",
              "  <thead>\n",
              "    <tr style=\"text-align: right;\">\n",
              "      <th></th>\n",
              "      <th>Unnamed: 0</th>\n",
              "      <th>Kyphosis</th>\n",
              "      <th>Age</th>\n",
              "      <th>Number</th>\n",
              "      <th>Start</th>\n",
              "    </tr>\n",
              "  </thead>\n",
              "  <tbody>\n",
              "    <tr>\n",
              "      <th>0</th>\n",
              "      <td>1</td>\n",
              "      <td>absent</td>\n",
              "      <td>71</td>\n",
              "      <td>3</td>\n",
              "      <td>5</td>\n",
              "    </tr>\n",
              "    <tr>\n",
              "      <th>1</th>\n",
              "      <td>2</td>\n",
              "      <td>absent</td>\n",
              "      <td>158</td>\n",
              "      <td>3</td>\n",
              "      <td>14</td>\n",
              "    </tr>\n",
              "    <tr>\n",
              "      <th>2</th>\n",
              "      <td>3</td>\n",
              "      <td>present</td>\n",
              "      <td>128</td>\n",
              "      <td>4</td>\n",
              "      <td>5</td>\n",
              "    </tr>\n",
              "    <tr>\n",
              "      <th>3</th>\n",
              "      <td>4</td>\n",
              "      <td>absent</td>\n",
              "      <td>2</td>\n",
              "      <td>5</td>\n",
              "      <td>1</td>\n",
              "    </tr>\n",
              "    <tr>\n",
              "      <th>4</th>\n",
              "      <td>5</td>\n",
              "      <td>absent</td>\n",
              "      <td>1</td>\n",
              "      <td>4</td>\n",
              "      <td>15</td>\n",
              "    </tr>\n",
              "    <tr>\n",
              "      <th>...</th>\n",
              "      <td>...</td>\n",
              "      <td>...</td>\n",
              "      <td>...</td>\n",
              "      <td>...</td>\n",
              "      <td>...</td>\n",
              "    </tr>\n",
              "    <tr>\n",
              "      <th>76</th>\n",
              "      <td>77</td>\n",
              "      <td>present</td>\n",
              "      <td>157</td>\n",
              "      <td>3</td>\n",
              "      <td>13</td>\n",
              "    </tr>\n",
              "    <tr>\n",
              "      <th>77</th>\n",
              "      <td>78</td>\n",
              "      <td>absent</td>\n",
              "      <td>26</td>\n",
              "      <td>7</td>\n",
              "      <td>13</td>\n",
              "    </tr>\n",
              "    <tr>\n",
              "      <th>78</th>\n",
              "      <td>79</td>\n",
              "      <td>absent</td>\n",
              "      <td>120</td>\n",
              "      <td>2</td>\n",
              "      <td>13</td>\n",
              "    </tr>\n",
              "    <tr>\n",
              "      <th>79</th>\n",
              "      <td>80</td>\n",
              "      <td>present</td>\n",
              "      <td>42</td>\n",
              "      <td>7</td>\n",
              "      <td>6</td>\n",
              "    </tr>\n",
              "    <tr>\n",
              "      <th>80</th>\n",
              "      <td>81</td>\n",
              "      <td>absent</td>\n",
              "      <td>36</td>\n",
              "      <td>4</td>\n",
              "      <td>13</td>\n",
              "    </tr>\n",
              "  </tbody>\n",
              "</table>\n",
              "<p>81 rows × 5 columns</p>\n",
              "</div>\n",
              "      <button class=\"colab-df-convert\" onclick=\"convertToInteractive('df-39ca9b12-6c9c-477b-8481-e7df3d8630b7')\"\n",
              "              title=\"Convert this dataframe to an interactive table.\"\n",
              "              style=\"display:none;\">\n",
              "        \n",
              "  <svg xmlns=\"http://www.w3.org/2000/svg\" height=\"24px\"viewBox=\"0 0 24 24\"\n",
              "       width=\"24px\">\n",
              "    <path d=\"M0 0h24v24H0V0z\" fill=\"none\"/>\n",
              "    <path d=\"M18.56 5.44l.94 2.06.94-2.06 2.06-.94-2.06-.94-.94-2.06-.94 2.06-2.06.94zm-11 1L8.5 8.5l.94-2.06 2.06-.94-2.06-.94L8.5 2.5l-.94 2.06-2.06.94zm10 10l.94 2.06.94-2.06 2.06-.94-2.06-.94-.94-2.06-.94 2.06-2.06.94z\"/><path d=\"M17.41 7.96l-1.37-1.37c-.4-.4-.92-.59-1.43-.59-.52 0-1.04.2-1.43.59L10.3 9.45l-7.72 7.72c-.78.78-.78 2.05 0 2.83L4 21.41c.39.39.9.59 1.41.59.51 0 1.02-.2 1.41-.59l7.78-7.78 2.81-2.81c.8-.78.8-2.07 0-2.86zM5.41 20L4 18.59l7.72-7.72 1.47 1.35L5.41 20z\"/>\n",
              "  </svg>\n",
              "      </button>\n",
              "      \n",
              "  <style>\n",
              "    .colab-df-container {\n",
              "      display:flex;\n",
              "      flex-wrap:wrap;\n",
              "      gap: 12px;\n",
              "    }\n",
              "\n",
              "    .colab-df-convert {\n",
              "      background-color: #E8F0FE;\n",
              "      border: none;\n",
              "      border-radius: 50%;\n",
              "      cursor: pointer;\n",
              "      display: none;\n",
              "      fill: #1967D2;\n",
              "      height: 32px;\n",
              "      padding: 0 0 0 0;\n",
              "      width: 32px;\n",
              "    }\n",
              "\n",
              "    .colab-df-convert:hover {\n",
              "      background-color: #E2EBFA;\n",
              "      box-shadow: 0px 1px 2px rgba(60, 64, 67, 0.3), 0px 1px 3px 1px rgba(60, 64, 67, 0.15);\n",
              "      fill: #174EA6;\n",
              "    }\n",
              "\n",
              "    [theme=dark] .colab-df-convert {\n",
              "      background-color: #3B4455;\n",
              "      fill: #D2E3FC;\n",
              "    }\n",
              "\n",
              "    [theme=dark] .colab-df-convert:hover {\n",
              "      background-color: #434B5C;\n",
              "      box-shadow: 0px 1px 3px 1px rgba(0, 0, 0, 0.15);\n",
              "      filter: drop-shadow(0px 1px 2px rgba(0, 0, 0, 0.3));\n",
              "      fill: #FFFFFF;\n",
              "    }\n",
              "  </style>\n",
              "\n",
              "      <script>\n",
              "        const buttonEl =\n",
              "          document.querySelector('#df-39ca9b12-6c9c-477b-8481-e7df3d8630b7 button.colab-df-convert');\n",
              "        buttonEl.style.display =\n",
              "          google.colab.kernel.accessAllowed ? 'block' : 'none';\n",
              "\n",
              "        async function convertToInteractive(key) {\n",
              "          const element = document.querySelector('#df-39ca9b12-6c9c-477b-8481-e7df3d8630b7');\n",
              "          const dataTable =\n",
              "            await google.colab.kernel.invokeFunction('convertToInteractive',\n",
              "                                                     [key], {});\n",
              "          if (!dataTable) return;\n",
              "\n",
              "          const docLinkHtml = 'Like what you see? Visit the ' +\n",
              "            '<a target=\"_blank\" href=https://colab.research.google.com/notebooks/data_table.ipynb>data table notebook</a>'\n",
              "            + ' to learn more about interactive tables.';\n",
              "          element.innerHTML = '';\n",
              "          dataTable['output_type'] = 'display_data';\n",
              "          await google.colab.output.renderOutput(dataTable, element);\n",
              "          const docLink = document.createElement('div');\n",
              "          docLink.innerHTML = docLinkHtml;\n",
              "          element.appendChild(docLink);\n",
              "        }\n",
              "      </script>\n",
              "    </div>\n",
              "  </div>\n",
              "  "
            ]
          },
          "metadata": {},
          "execution_count": 4
        }
      ]
    },
    {
      "cell_type": "code",
      "source": [
        "data.head()"
      ],
      "metadata": {
        "colab": {
          "base_uri": "https://localhost:8080/",
          "height": 206
        },
        "id": "lYEy6k6c2-t1",
        "outputId": "e18382c0-7cf2-44b8-9393-c93cf10c1190"
      },
      "execution_count": 5,
      "outputs": [
        {
          "output_type": "execute_result",
          "data": {
            "text/plain": [
              "   Unnamed: 0 Kyphosis  Age  Number  Start\n",
              "0           1   absent   71       3      5\n",
              "1           2   absent  158       3     14\n",
              "2           3  present  128       4      5\n",
              "3           4   absent    2       5      1\n",
              "4           5   absent    1       4     15"
            ],
            "text/html": [
              "\n",
              "  <div id=\"df-75926da0-e33b-4902-89e8-932a31be2f23\">\n",
              "    <div class=\"colab-df-container\">\n",
              "      <div>\n",
              "<style scoped>\n",
              "    .dataframe tbody tr th:only-of-type {\n",
              "        vertical-align: middle;\n",
              "    }\n",
              "\n",
              "    .dataframe tbody tr th {\n",
              "        vertical-align: top;\n",
              "    }\n",
              "\n",
              "    .dataframe thead th {\n",
              "        text-align: right;\n",
              "    }\n",
              "</style>\n",
              "<table border=\"1\" class=\"dataframe\">\n",
              "  <thead>\n",
              "    <tr style=\"text-align: right;\">\n",
              "      <th></th>\n",
              "      <th>Unnamed: 0</th>\n",
              "      <th>Kyphosis</th>\n",
              "      <th>Age</th>\n",
              "      <th>Number</th>\n",
              "      <th>Start</th>\n",
              "    </tr>\n",
              "  </thead>\n",
              "  <tbody>\n",
              "    <tr>\n",
              "      <th>0</th>\n",
              "      <td>1</td>\n",
              "      <td>absent</td>\n",
              "      <td>71</td>\n",
              "      <td>3</td>\n",
              "      <td>5</td>\n",
              "    </tr>\n",
              "    <tr>\n",
              "      <th>1</th>\n",
              "      <td>2</td>\n",
              "      <td>absent</td>\n",
              "      <td>158</td>\n",
              "      <td>3</td>\n",
              "      <td>14</td>\n",
              "    </tr>\n",
              "    <tr>\n",
              "      <th>2</th>\n",
              "      <td>3</td>\n",
              "      <td>present</td>\n",
              "      <td>128</td>\n",
              "      <td>4</td>\n",
              "      <td>5</td>\n",
              "    </tr>\n",
              "    <tr>\n",
              "      <th>3</th>\n",
              "      <td>4</td>\n",
              "      <td>absent</td>\n",
              "      <td>2</td>\n",
              "      <td>5</td>\n",
              "      <td>1</td>\n",
              "    </tr>\n",
              "    <tr>\n",
              "      <th>4</th>\n",
              "      <td>5</td>\n",
              "      <td>absent</td>\n",
              "      <td>1</td>\n",
              "      <td>4</td>\n",
              "      <td>15</td>\n",
              "    </tr>\n",
              "  </tbody>\n",
              "</table>\n",
              "</div>\n",
              "      <button class=\"colab-df-convert\" onclick=\"convertToInteractive('df-75926da0-e33b-4902-89e8-932a31be2f23')\"\n",
              "              title=\"Convert this dataframe to an interactive table.\"\n",
              "              style=\"display:none;\">\n",
              "        \n",
              "  <svg xmlns=\"http://www.w3.org/2000/svg\" height=\"24px\"viewBox=\"0 0 24 24\"\n",
              "       width=\"24px\">\n",
              "    <path d=\"M0 0h24v24H0V0z\" fill=\"none\"/>\n",
              "    <path d=\"M18.56 5.44l.94 2.06.94-2.06 2.06-.94-2.06-.94-.94-2.06-.94 2.06-2.06.94zm-11 1L8.5 8.5l.94-2.06 2.06-.94-2.06-.94L8.5 2.5l-.94 2.06-2.06.94zm10 10l.94 2.06.94-2.06 2.06-.94-2.06-.94-.94-2.06-.94 2.06-2.06.94z\"/><path d=\"M17.41 7.96l-1.37-1.37c-.4-.4-.92-.59-1.43-.59-.52 0-1.04.2-1.43.59L10.3 9.45l-7.72 7.72c-.78.78-.78 2.05 0 2.83L4 21.41c.39.39.9.59 1.41.59.51 0 1.02-.2 1.41-.59l7.78-7.78 2.81-2.81c.8-.78.8-2.07 0-2.86zM5.41 20L4 18.59l7.72-7.72 1.47 1.35L5.41 20z\"/>\n",
              "  </svg>\n",
              "      </button>\n",
              "      \n",
              "  <style>\n",
              "    .colab-df-container {\n",
              "      display:flex;\n",
              "      flex-wrap:wrap;\n",
              "      gap: 12px;\n",
              "    }\n",
              "\n",
              "    .colab-df-convert {\n",
              "      background-color: #E8F0FE;\n",
              "      border: none;\n",
              "      border-radius: 50%;\n",
              "      cursor: pointer;\n",
              "      display: none;\n",
              "      fill: #1967D2;\n",
              "      height: 32px;\n",
              "      padding: 0 0 0 0;\n",
              "      width: 32px;\n",
              "    }\n",
              "\n",
              "    .colab-df-convert:hover {\n",
              "      background-color: #E2EBFA;\n",
              "      box-shadow: 0px 1px 2px rgba(60, 64, 67, 0.3), 0px 1px 3px 1px rgba(60, 64, 67, 0.15);\n",
              "      fill: #174EA6;\n",
              "    }\n",
              "\n",
              "    [theme=dark] .colab-df-convert {\n",
              "      background-color: #3B4455;\n",
              "      fill: #D2E3FC;\n",
              "    }\n",
              "\n",
              "    [theme=dark] .colab-df-convert:hover {\n",
              "      background-color: #434B5C;\n",
              "      box-shadow: 0px 1px 3px 1px rgba(0, 0, 0, 0.15);\n",
              "      filter: drop-shadow(0px 1px 2px rgba(0, 0, 0, 0.3));\n",
              "      fill: #FFFFFF;\n",
              "    }\n",
              "  </style>\n",
              "\n",
              "      <script>\n",
              "        const buttonEl =\n",
              "          document.querySelector('#df-75926da0-e33b-4902-89e8-932a31be2f23 button.colab-df-convert');\n",
              "        buttonEl.style.display =\n",
              "          google.colab.kernel.accessAllowed ? 'block' : 'none';\n",
              "\n",
              "        async function convertToInteractive(key) {\n",
              "          const element = document.querySelector('#df-75926da0-e33b-4902-89e8-932a31be2f23');\n",
              "          const dataTable =\n",
              "            await google.colab.kernel.invokeFunction('convertToInteractive',\n",
              "                                                     [key], {});\n",
              "          if (!dataTable) return;\n",
              "\n",
              "          const docLinkHtml = 'Like what you see? Visit the ' +\n",
              "            '<a target=\"_blank\" href=https://colab.research.google.com/notebooks/data_table.ipynb>data table notebook</a>'\n",
              "            + ' to learn more about interactive tables.';\n",
              "          element.innerHTML = '';\n",
              "          dataTable['output_type'] = 'display_data';\n",
              "          await google.colab.output.renderOutput(dataTable, element);\n",
              "          const docLink = document.createElement('div');\n",
              "          docLink.innerHTML = docLinkHtml;\n",
              "          element.appendChild(docLink);\n",
              "        }\n",
              "      </script>\n",
              "    </div>\n",
              "  </div>\n",
              "  "
            ]
          },
          "metadata": {},
          "execution_count": 5
        }
      ]
    },
    {
      "cell_type": "code",
      "source": [
        "data.filter([\"Kyphosis\",\"Age\"]).head()"
      ],
      "metadata": {
        "colab": {
          "base_uri": "https://localhost:8080/",
          "height": 206
        },
        "id": "ZIfi2mR53Cp2",
        "outputId": "b19a890f-4622-4ee0-b90e-63586bb6d2ae"
      },
      "execution_count": 6,
      "outputs": [
        {
          "output_type": "execute_result",
          "data": {
            "text/plain": [
              "  Kyphosis  Age\n",
              "0   absent   71\n",
              "1   absent  158\n",
              "2  present  128\n",
              "3   absent    2\n",
              "4   absent    1"
            ],
            "text/html": [
              "\n",
              "  <div id=\"df-39d565bb-c909-4ee9-9370-954feff51c51\">\n",
              "    <div class=\"colab-df-container\">\n",
              "      <div>\n",
              "<style scoped>\n",
              "    .dataframe tbody tr th:only-of-type {\n",
              "        vertical-align: middle;\n",
              "    }\n",
              "\n",
              "    .dataframe tbody tr th {\n",
              "        vertical-align: top;\n",
              "    }\n",
              "\n",
              "    .dataframe thead th {\n",
              "        text-align: right;\n",
              "    }\n",
              "</style>\n",
              "<table border=\"1\" class=\"dataframe\">\n",
              "  <thead>\n",
              "    <tr style=\"text-align: right;\">\n",
              "      <th></th>\n",
              "      <th>Kyphosis</th>\n",
              "      <th>Age</th>\n",
              "    </tr>\n",
              "  </thead>\n",
              "  <tbody>\n",
              "    <tr>\n",
              "      <th>0</th>\n",
              "      <td>absent</td>\n",
              "      <td>71</td>\n",
              "    </tr>\n",
              "    <tr>\n",
              "      <th>1</th>\n",
              "      <td>absent</td>\n",
              "      <td>158</td>\n",
              "    </tr>\n",
              "    <tr>\n",
              "      <th>2</th>\n",
              "      <td>present</td>\n",
              "      <td>128</td>\n",
              "    </tr>\n",
              "    <tr>\n",
              "      <th>3</th>\n",
              "      <td>absent</td>\n",
              "      <td>2</td>\n",
              "    </tr>\n",
              "    <tr>\n",
              "      <th>4</th>\n",
              "      <td>absent</td>\n",
              "      <td>1</td>\n",
              "    </tr>\n",
              "  </tbody>\n",
              "</table>\n",
              "</div>\n",
              "      <button class=\"colab-df-convert\" onclick=\"convertToInteractive('df-39d565bb-c909-4ee9-9370-954feff51c51')\"\n",
              "              title=\"Convert this dataframe to an interactive table.\"\n",
              "              style=\"display:none;\">\n",
              "        \n",
              "  <svg xmlns=\"http://www.w3.org/2000/svg\" height=\"24px\"viewBox=\"0 0 24 24\"\n",
              "       width=\"24px\">\n",
              "    <path d=\"M0 0h24v24H0V0z\" fill=\"none\"/>\n",
              "    <path d=\"M18.56 5.44l.94 2.06.94-2.06 2.06-.94-2.06-.94-.94-2.06-.94 2.06-2.06.94zm-11 1L8.5 8.5l.94-2.06 2.06-.94-2.06-.94L8.5 2.5l-.94 2.06-2.06.94zm10 10l.94 2.06.94-2.06 2.06-.94-2.06-.94-.94-2.06-.94 2.06-2.06.94z\"/><path d=\"M17.41 7.96l-1.37-1.37c-.4-.4-.92-.59-1.43-.59-.52 0-1.04.2-1.43.59L10.3 9.45l-7.72 7.72c-.78.78-.78 2.05 0 2.83L4 21.41c.39.39.9.59 1.41.59.51 0 1.02-.2 1.41-.59l7.78-7.78 2.81-2.81c.8-.78.8-2.07 0-2.86zM5.41 20L4 18.59l7.72-7.72 1.47 1.35L5.41 20z\"/>\n",
              "  </svg>\n",
              "      </button>\n",
              "      \n",
              "  <style>\n",
              "    .colab-df-container {\n",
              "      display:flex;\n",
              "      flex-wrap:wrap;\n",
              "      gap: 12px;\n",
              "    }\n",
              "\n",
              "    .colab-df-convert {\n",
              "      background-color: #E8F0FE;\n",
              "      border: none;\n",
              "      border-radius: 50%;\n",
              "      cursor: pointer;\n",
              "      display: none;\n",
              "      fill: #1967D2;\n",
              "      height: 32px;\n",
              "      padding: 0 0 0 0;\n",
              "      width: 32px;\n",
              "    }\n",
              "\n",
              "    .colab-df-convert:hover {\n",
              "      background-color: #E2EBFA;\n",
              "      box-shadow: 0px 1px 2px rgba(60, 64, 67, 0.3), 0px 1px 3px 1px rgba(60, 64, 67, 0.15);\n",
              "      fill: #174EA6;\n",
              "    }\n",
              "\n",
              "    [theme=dark] .colab-df-convert {\n",
              "      background-color: #3B4455;\n",
              "      fill: #D2E3FC;\n",
              "    }\n",
              "\n",
              "    [theme=dark] .colab-df-convert:hover {\n",
              "      background-color: #434B5C;\n",
              "      box-shadow: 0px 1px 3px 1px rgba(0, 0, 0, 0.15);\n",
              "      filter: drop-shadow(0px 1px 2px rgba(0, 0, 0, 0.3));\n",
              "      fill: #FFFFFF;\n",
              "    }\n",
              "  </style>\n",
              "\n",
              "      <script>\n",
              "        const buttonEl =\n",
              "          document.querySelector('#df-39d565bb-c909-4ee9-9370-954feff51c51 button.colab-df-convert');\n",
              "        buttonEl.style.display =\n",
              "          google.colab.kernel.accessAllowed ? 'block' : 'none';\n",
              "\n",
              "        async function convertToInteractive(key) {\n",
              "          const element = document.querySelector('#df-39d565bb-c909-4ee9-9370-954feff51c51');\n",
              "          const dataTable =\n",
              "            await google.colab.kernel.invokeFunction('convertToInteractive',\n",
              "                                                     [key], {});\n",
              "          if (!dataTable) return;\n",
              "\n",
              "          const docLinkHtml = 'Like what you see? Visit the ' +\n",
              "            '<a target=\"_blank\" href=https://colab.research.google.com/notebooks/data_table.ipynb>data table notebook</a>'\n",
              "            + ' to learn more about interactive tables.';\n",
              "          element.innerHTML = '';\n",
              "          dataTable['output_type'] = 'display_data';\n",
              "          await google.colab.output.renderOutput(dataTable, element);\n",
              "          const docLink = document.createElement('div');\n",
              "          docLink.innerHTML = docLinkHtml;\n",
              "          element.appendChild(docLink);\n",
              "        }\n",
              "      </script>\n",
              "    </div>\n",
              "  </div>\n",
              "  "
            ]
          },
          "metadata": {},
          "execution_count": 6
        }
      ]
    },
    {
      "cell_type": "code",
      "source": [
        "import matplotlib.pyplot as plot"
      ],
      "metadata": {
        "id": "SWSD-yIB3GHa"
      },
      "execution_count": 7,
      "outputs": []
    },
    {
      "cell_type": "code",
      "source": [
        "plot.bar(data[\"Kyphosis\"],data[\"Age\"])\n",
        "plot.title(\"Kyphosis Dataset\")\n",
        "plot.show()"
      ],
      "metadata": {
        "colab": {
          "base_uri": "https://localhost:8080/",
          "height": 281
        },
        "id": "RU02MtZL3ImG",
        "outputId": "113e8eb5-6bf0-4726-a4a0-4125799ac6c2"
      },
      "execution_count": 8,
      "outputs": [
        {
          "output_type": "display_data",
          "data": {
            "text/plain": [
              "<Figure size 432x288 with 1 Axes>"
            ],
            "image/png": "[encoded data removed]"
          },
          "metadata": {
            "needs_background": "light"
          }
        }
      ]
    },
    {
      "cell_type": "code",
      "source": [
        "plot.hist(data[\"Age\"])\n",
        "plot.title(\"Kyphosis Dataset\")\n",
        "plot.show()"
      ],
      "metadata": {
        "colab": {
          "base_uri": "https://localhost:8080/",
          "height": 281
        },
        "id": "nIUFPJ8f3IvY",
        "outputId": "b50a1c30-647b-4399-9529-be4d27a6570b"
      },
      "execution_count": 9,
      "outputs": [
        {
          "output_type": "display_data",
          "data": {
            "text/plain": [
              "<Figure size 432x288 with 1 Axes>"
            ],
            "image/png": "[encoded data removed]"
          },
          "metadata": {
            "needs_background": "light"
          }
        }
      ]
    },
    {
      "cell_type": "code",
      "source": [
        "plot.scatter(data[\"Kyphosis\"],data[\"Age\"])\n",
        "plot.title(\"Kyphosis Dataset\")\n",
        "plot.show()"
      ],
      "metadata": {
        "colab": {
          "base_uri": "https://localhost:8080/",
          "height": 281
        },
        "id": "GFd_PJuR3Ram",
        "outputId": "6d9a04a6-8968-4bb8-96b0-284a69d07fb9"
      },
      "execution_count": 10,
      "outputs": [
        {
          "output_type": "display_data",
          "data": {
            "text/plain": [
              "<Figure size 432x288 with 1 Axes>"
            ],
            "image/png": "[encoded data removed]"
          },
          "metadata": {
            "needs_background": "light"
          }
        }
      ]
    },
    {
      "cell_type": "code",
      "source": [
        "plot.boxplot(data[\"Age\"])\n",
        "plot.title(\"Kyphosis Dataset\")\n",
        "plot.show()"
      ],
      "metadata": {
        "colab": {
          "base_uri": "https://localhost:8080/",
          "height": 281
        },
        "id": "7d42Awgf3VbM",
        "outputId": "406489d1-c24e-4434-cf88-8df1afc9caa0"
      },
      "execution_count": 11,
      "outputs": [
        {
          "output_type": "display_data",
          "data": {
            "text/plain": [
              "<Figure size 432x288 with 1 Axes>"
            ],
            "image/png": "[encoded data removed]"
          },
          "metadata": {
            "needs_background": "light"
          }
        }
      ]
    },
    {
      "cell_type": "code",
      "source": [
        "data.isnull().sum()"
      ],
      "metadata": {
        "colab": {
          "base_uri": "https://localhost:8080/"
        },
        "id": "GdZcY9uS3a68",
        "outputId": "041196ae-62ab-40c0-c441-7c41372a2b83"
      },
      "execution_count": 12,
      "outputs": [
        {
          "output_type": "execute_result",
          "data": {
            "text/plain": [
              "Unnamed: 0    0\n",
              "Kyphosis      0\n",
              "Age           0\n",
              "Number        0\n",
              "Start         0\n",
              "dtype: int64"
            ]
          },
          "metadata": {},
          "execution_count": 12
        }
      ]
    },
    {
      "cell_type": "code",
      "source": [
        "import numpy as np\n",
        "import pandas.util.testing as tm\n",
        "import statsmodels.formula.api as sm"
      ],
      "metadata": {
        "id": "IfCdDlzp3dbE"
      },
      "execution_count": 14,
      "outputs": []
    },
    {
      "cell_type": "code",
      "source": [
        "data.describe()"
      ],
      "metadata": {
        "colab": {
          "base_uri": "https://localhost:8080/",
          "height": 300
        },
        "id": "BBVpj_gz3sMd",
        "outputId": "d77cae9e-754c-4e5e-ee35-25458f148a51"
      },
      "execution_count": 15,
      "outputs": [
        {
          "output_type": "execute_result",
          "data": {
            "text/plain": [
              "       Unnamed: 0         Age     Number      Start\n",
              "count   81.000000   81.000000  81.000000  81.000000\n",
              "mean    41.000000   83.654321   4.049383  11.493827\n",
              "std     23.526581   58.104251   1.619423   4.883962\n",
              "min      1.000000    1.000000   2.000000   1.000000\n",
              "25%     21.000000   26.000000   3.000000   9.000000\n",
              "50%     41.000000   87.000000   4.000000  13.000000\n",
              "75%     61.000000  130.000000   5.000000  16.000000\n",
              "max     81.000000  206.000000  10.000000  18.000000"
            ],
            "text/html": [
              "\n",
              "  <div id=\"df-fe9d6e03-49b7-4d39-ad96-30564eecac16\">\n",
              "    <div class=\"colab-df-container\">\n",
              "      <div>\n",
              "<style scoped>\n",
              "    .dataframe tbody tr th:only-of-type {\n",
              "        vertical-align: middle;\n",
              "    }\n",
              "\n",
              "    .dataframe tbody tr th {\n",
              "        vertical-align: top;\n",
              "    }\n",
              "\n",
              "    .dataframe thead th {\n",
              "        text-align: right;\n",
              "    }\n",
              "</style>\n",
              "<table border=\"1\" class=\"dataframe\">\n",
              "  <thead>\n",
              "    <tr style=\"text-align: right;\">\n",
              "      <th></th>\n",
              "      <th>Unnamed: 0</th>\n",
              "      <th>Age</th>\n",
              "      <th>Number</th>\n",
              "      <th>Start</th>\n",
              "    </tr>\n",
              "  </thead>\n",
              "  <tbody>\n",
              "    <tr>\n",
              "      <th>count</th>\n",
              "      <td>81.000000</td>\n",
              "      <td>81.000000</td>\n",
              "      <td>81.000000</td>\n",
              "      <td>81.000000</td>\n",
              "    </tr>\n",
              "    <tr>\n",
              "      <th>mean</th>\n",
              "      <td>41.000000</td>\n",
              "      <td>83.654321</td>\n",
              "      <td>4.049383</td>\n",
              "      <td>11.493827</td>\n",
              "    </tr>\n",
              "    <tr>\n",
              "      <th>std</th>\n",
              "      <td>23.526581</td>\n",
              "      <td>58.104251</td>\n",
              "      <td>1.619423</td>\n",
              "      <td>4.883962</td>\n",
              "    </tr>\n",
              "    <tr>\n",
              "      <th>min</th>\n",
              "      <td>1.000000</td>\n",
              "      <td>1.000000</td>\n",
              "      <td>2.000000</td>\n",
              "      <td>1.000000</td>\n",
              "    </tr>\n",
              "    <tr>\n",
              "      <th>25%</th>\n",
              "      <td>21.000000</td>\n",
              "      <td>26.000000</td>\n",
              "      <td>3.000000</td>\n",
              "      <td>9.000000</td>\n",
              "    </tr>\n",
              "    <tr>\n",
              "      <th>50%</th>\n",
              "      <td>41.000000</td>\n",
              "      <td>87.000000</td>\n",
              "      <td>4.000000</td>\n",
              "      <td>13.000000</td>\n",
              "    </tr>\n",
              "    <tr>\n",
              "      <th>75%</th>\n",
              "      <td>61.000000</td>\n",
              "      <td>130.000000</td>\n",
              "      <td>5.000000</td>\n",
              "      <td>16.000000</td>\n",
              "    </tr>\n",
              "    <tr>\n",
              "      <th>max</th>\n",
              "      <td>81.000000</td>\n",
              "      <td>206.000000</td>\n",
              "      <td>10.000000</td>\n",
              "      <td>18.000000</td>\n",
              "    </tr>\n",
              "  </tbody>\n",
              "</table>\n",
              "</div>\n",
              "      <button class=\"colab-df-convert\" onclick=\"convertToInteractive('df-fe9d6e03-49b7-4d39-ad96-30564eecac16')\"\n",
              "              title=\"Convert this dataframe to an interactive table.\"\n",
              "              style=\"display:none;\">\n",
              "        \n",
              "  <svg xmlns=\"http://www.w3.org/2000/svg\" height=\"24px\"viewBox=\"0 0 24 24\"\n",
              "       width=\"24px\">\n",
              "    <path d=\"M0 0h24v24H0V0z\" fill=\"none\"/>\n",
              "    <path d=\"M18.56 5.44l.94 2.06.94-2.06 2.06-.94-2.06-.94-.94-2.06-.94 2.06-2.06.94zm-11 1L8.5 8.5l.94-2.06 2.06-.94-2.06-.94L8.5 2.5l-.94 2.06-2.06.94zm10 10l.94 2.06.94-2.06 2.06-.94-2.06-.94-.94-2.06-.94 2.06-2.06.94z\"/><path d=\"M17.41 7.96l-1.37-1.37c-.4-.4-.92-.59-1.43-.59-.52 0-1.04.2-1.43.59L10.3 9.45l-7.72 7.72c-.78.78-.78 2.05 0 2.83L4 21.41c.39.39.9.59 1.41.59.51 0 1.02-.2 1.41-.59l7.78-7.78 2.81-2.81c.8-.78.8-2.07 0-2.86zM5.41 20L4 18.59l7.72-7.72 1.47 1.35L5.41 20z\"/>\n",
              "  </svg>\n",
              "      </button>\n",
              "      \n",
              "  <style>\n",
              "    .colab-df-container {\n",
              "      display:flex;\n",
              "      flex-wrap:wrap;\n",
              "      gap: 12px;\n",
              "    }\n",
              "\n",
              "    .colab-df-convert {\n",
              "      background-color: #E8F0FE;\n",
              "      border: none;\n",
              "      border-radius: 50%;\n",
              "      cursor: pointer;\n",
              "      display: none;\n",
              "      fill: #1967D2;\n",
              "      height: 32px;\n",
              "      padding: 0 0 0 0;\n",
              "      width: 32px;\n",
              "    }\n",
              "\n",
              "    .colab-df-convert:hover {\n",
              "      background-color: #E2EBFA;\n",
              "      box-shadow: 0px 1px 2px rgba(60, 64, 67, 0.3), 0px 1px 3px 1px rgba(60, 64, 67, 0.15);\n",
              "      fill: #174EA6;\n",
              "    }\n",
              "\n",
              "    [theme=dark] .colab-df-convert {\n",
              "      background-color: #3B4455;\n",
              "      fill: #D2E3FC;\n",
              "    }\n",
              "\n",
              "    [theme=dark] .colab-df-convert:hover {\n",
              "      background-color: #434B5C;\n",
              "      box-shadow: 0px 1px 3px 1px rgba(0, 0, 0, 0.15);\n",
              "      filter: drop-shadow(0px 1px 2px rgba(0, 0, 0, 0.3));\n",
              "      fill: #FFFFFF;\n",
              "    }\n",
              "  </style>\n",
              "\n",
              "      <script>\n",
              "        const buttonEl =\n",
              "          document.querySelector('#df-fe9d6e03-49b7-4d39-ad96-30564eecac16 button.colab-df-convert');\n",
              "        buttonEl.style.display =\n",
              "          google.colab.kernel.accessAllowed ? 'block' : 'none';\n",
              "\n",
              "        async function convertToInteractive(key) {\n",
              "          const element = document.querySelector('#df-fe9d6e03-49b7-4d39-ad96-30564eecac16');\n",
              "          const dataTable =\n",
              "            await google.colab.kernel.invokeFunction('convertToInteractive',\n",
              "                                                     [key], {});\n",
              "          if (!dataTable) return;\n",
              "\n",
              "          const docLinkHtml = 'Like what you see? Visit the ' +\n",
              "            '<a target=\"_blank\" href=https://colab.research.google.com/notebooks/data_table.ipynb>data table notebook</a>'\n",
              "            + ' to learn more about interactive tables.';\n",
              "          element.innerHTML = '';\n",
              "          dataTable['output_type'] = 'display_data';\n",
              "          await google.colab.output.renderOutput(dataTable, element);\n",
              "          const docLink = document.createElement('div');\n",
              "          docLink.innerHTML = docLinkHtml;\n",
              "          element.appendChild(docLink);\n",
              "        }\n",
              "      </script>\n",
              "    </div>\n",
              "  </div>\n",
              "  "
            ]
          },
          "metadata": {},
          "execution_count": 15
        }
      ]
    },
    {
      "cell_type": "code",
      "source": [
        "data[data.isnull().any(axis=1)]"
      ],
      "metadata": {
        "colab": {
          "base_uri": "https://localhost:8080/",
          "height": 49
        },
        "id": "1Q9wvewh3xJy",
        "outputId": "872fd090-433a-4f20-8352-b75884df5e6b"
      },
      "execution_count": 16,
      "outputs": [
        {
          "output_type": "execute_result",
          "data": {
            "text/plain": [
              "Empty DataFrame\n",
              "Columns: [Unnamed: 0, Kyphosis, Age, Number, Start]\n",
              "Index: []"
            ],
            "text/html": [
              "\n",
              "  <div id=\"df-aabe9859-357f-4a3b-8876-9adf938aeca7\">\n",
              "    <div class=\"colab-df-container\">\n",
              "      <div>\n",
              "<style scoped>\n",
              "    .dataframe tbody tr th:only-of-type {\n",
              "        vertical-align: middle;\n",
              "    }\n",
              "\n",
              "    .dataframe tbody tr th {\n",
              "        vertical-align: top;\n",
              "    }\n",
              "\n",
              "    .dataframe thead th {\n",
              "        text-align: right;\n",
              "    }\n",
              "</style>\n",
              "<table border=\"1\" class=\"dataframe\">\n",
              "  <thead>\n",
              "    <tr style=\"text-align: right;\">\n",
              "      <th></th>\n",
              "      <th>Unnamed: 0</th>\n",
              "      <th>Kyphosis</th>\n",
              "      <th>Age</th>\n",
              "      <th>Number</th>\n",
              "      <th>Start</th>\n",
              "    </tr>\n",
              "  </thead>\n",
              "  <tbody>\n",
              "  </tbody>\n",
              "</table>\n",
              "</div>\n",
              "      <button class=\"colab-df-convert\" onclick=\"convertToInteractive('df-aabe9859-357f-4a3b-8876-9adf938aeca7')\"\n",
              "              title=\"Convert this dataframe to an interactive table.\"\n",
              "              style=\"display:none;\">\n",
              "        \n",
              "  <svg xmlns=\"http://www.w3.org/2000/svg\" height=\"24px\"viewBox=\"0 0 24 24\"\n",
              "       width=\"24px\">\n",
              "    <path d=\"M0 0h24v24H0V0z\" fill=\"none\"/>\n",
              "    <path d=\"M18.56 5.44l.94 2.06.94-2.06 2.06-.94-2.06-.94-.94-2.06-.94 2.06-2.06.94zm-11 1L8.5 8.5l.94-2.06 2.06-.94-2.06-.94L8.5 2.5l-.94 2.06-2.06.94zm10 10l.94 2.06.94-2.06 2.06-.94-2.06-.94-.94-2.06-.94 2.06-2.06.94z\"/><path d=\"M17.41 7.96l-1.37-1.37c-.4-.4-.92-.59-1.43-.59-.52 0-1.04.2-1.43.59L10.3 9.45l-7.72 7.72c-.78.78-.78 2.05 0 2.83L4 21.41c.39.39.9.59 1.41.59.51 0 1.02-.2 1.41-.59l7.78-7.78 2.81-2.81c.8-.78.8-2.07 0-2.86zM5.41 20L4 18.59l7.72-7.72 1.47 1.35L5.41 20z\"/>\n",
              "  </svg>\n",
              "      </button>\n",
              "      \n",
              "  <style>\n",
              "    .colab-df-container {\n",
              "      display:flex;\n",
              "      flex-wrap:wrap;\n",
              "      gap: 12px;\n",
              "    }\n",
              "\n",
              "    .colab-df-convert {\n",
              "      background-color: #E8F0FE;\n",
              "      border: none;\n",
              "      border-radius: 50%;\n",
              "      cursor: pointer;\n",
              "      display: none;\n",
              "      fill: #1967D2;\n",
              "      height: 32px;\n",
              "      padding: 0 0 0 0;\n",
              "      width: 32px;\n",
              "    }\n",
              "\n",
              "    .colab-df-convert:hover {\n",
              "      background-color: #E2EBFA;\n",
              "      box-shadow: 0px 1px 2px rgba(60, 64, 67, 0.3), 0px 1px 3px 1px rgba(60, 64, 67, 0.15);\n",
              "      fill: #174EA6;\n",
              "    }\n",
              "\n",
              "    [theme=dark] .colab-df-convert {\n",
              "      background-color: #3B4455;\n",
              "      fill: #D2E3FC;\n",
              "    }\n",
              "\n",
              "    [theme=dark] .colab-df-convert:hover {\n",
              "      background-color: #434B5C;\n",
              "      box-shadow: 0px 1px 3px 1px rgba(0, 0, 0, 0.15);\n",
              "      filter: drop-shadow(0px 1px 2px rgba(0, 0, 0, 0.3));\n",
              "      fill: #FFFFFF;\n",
              "    }\n",
              "  </style>\n",
              "\n",
              "      <script>\n",
              "        const buttonEl =\n",
              "          document.querySelector('#df-aabe9859-357f-4a3b-8876-9adf938aeca7 button.colab-df-convert');\n",
              "        buttonEl.style.display =\n",
              "          google.colab.kernel.accessAllowed ? 'block' : 'none';\n",
              "\n",
              "        async function convertToInteractive(key) {\n",
              "          const element = document.querySelector('#df-aabe9859-357f-4a3b-8876-9adf938aeca7');\n",
              "          const dataTable =\n",
              "            await google.colab.kernel.invokeFunction('convertToInteractive',\n",
              "                                                     [key], {});\n",
              "          if (!dataTable) return;\n",
              "\n",
              "          const docLinkHtml = 'Like what you see? Visit the ' +\n",
              "            '<a target=\"_blank\" href=https://colab.research.google.com/notebooks/data_table.ipynb>data table notebook</a>'\n",
              "            + ' to learn more about interactive tables.';\n",
              "          element.innerHTML = '';\n",
              "          dataTable['output_type'] = 'display_data';\n",
              "          await google.colab.output.renderOutput(dataTable, element);\n",
              "          const docLink = document.createElement('div');\n",
              "          docLink.innerHTML = docLinkHtml;\n",
              "          element.appendChild(docLink);\n",
              "        }\n",
              "      </script>\n",
              "    </div>\n",
              "  </div>\n",
              "  "
            ]
          },
          "metadata": {},
          "execution_count": 16
        }
      ]
    },
    {
      "cell_type": "code",
      "source": [
        "y =data['Age']\n",
        "x =data.drop(['Age'], axis=1)"
      ],
      "metadata": {
        "id": "GXFjZsrs30T7"
      },
      "execution_count": 17,
      "outputs": []
    },
    {
      "cell_type": "code",
      "source": [
        "print(x.head())"
      ],
      "metadata": {
        "colab": {
          "base_uri": "https://localhost:8080/"
        },
        "id": "txlb8EGL33b8",
        "outputId": "ef68b133-08e8-4dc3-ca45-ce4abe0bb46a"
      },
      "execution_count": 18,
      "outputs": [
        {
          "output_type": "stream",
          "name": "stdout",
          "text": [
            "   Unnamed: 0 Kyphosis  Number  Start\n",
            "0           1   absent       3      5\n",
            "1           2   absent       3     14\n",
            "2           3  present       4      5\n",
            "3           4   absent       5      1\n",
            "4           5   absent       4     15\n"
          ]
        }
      ]
    },
    {
      "cell_type": "code",
      "source": [
        "from sklearn.preprocessing import LabelEncoder\n",
        "y=LabelEncoder().fit_transform(y)\n",
        "print(y[:10])"
      ],
      "metadata": {
        "colab": {
          "base_uri": "https://localhost:8080/"
        },
        "id": "5Wx6F_4m36iA",
        "outputId": "25f06d65-f36c-49ef-bd8c-f907d31d7ecc"
      },
      "execution_count": 19,
      "outputs": [
        {
          "output_type": "stream",
          "name": "stdout",
          "text": [
            "[23 56 46  1  0  0 21 16 39 20]\n"
          ]
        }
      ]
    },
    {
      "cell_type": "code",
      "source": [
        "x = pd.get_dummies(x)\n",
        "print(x.head())"
      ],
      "metadata": {
        "colab": {
          "base_uri": "https://localhost:8080/"
        },
        "id": "S_-B22Sb38xo",
        "outputId": "f106ba2a-641b-4b44-feac-ca571dbe1dc3"
      },
      "execution_count": 20,
      "outputs": [
        {
          "output_type": "stream",
          "name": "stdout",
          "text": [
            "   Unnamed: 0  Number  Start  Kyphosis_absent  Kyphosis_present\n",
            "0           1       3      5                1                 0\n",
            "1           2       3     14                1                 0\n",
            "2           3       4      5                0                 1\n",
            "3           4       5      1                1                 0\n",
            "4           5       4     15                1                 0\n"
          ]
        }
      ]
    },
    {
      "cell_type": "code",
      "source": [
        "from sklearn.model_selection import train_test_split\n",
        "x_train,x_test,y_train,y_test = train_test_split(x,y,test_size=0.3,random_state=0)"
      ],
      "metadata": {
        "id": "82697Nh33_aI"
      },
      "execution_count": 21,
      "outputs": []
    },
    {
      "cell_type": "code",
      "source": [
        "print(x_train.head())"
      ],
      "metadata": {
        "colab": {
          "base_uri": "https://localhost:8080/"
        },
        "id": "0I3Wqe6u4CN1",
        "outputId": "5b1664c7-8fc4-4280-f8bf-6ce937f301b1"
      },
      "execution_count": 22,
      "outputs": [
        {
          "output_type": "stream",
          "name": "stdout",
          "text": [
            "    Unnamed: 0  Number  Start  Kyphosis_absent  Kyphosis_present\n",
            "43          44       4      1                1                 0\n",
            "4            5       4     15                1                 0\n",
            "72          73       4     16                1                 0\n",
            "17          18       5     13                1                 0\n",
            "63          64       3     16                1                 0\n"
          ]
        }
      ]
    },
    {
      "cell_type": "code",
      "source": [
        "print(x_test.head())"
      ],
      "metadata": {
        "colab": {
          "base_uri": "https://localhost:8080/"
        },
        "id": "krc1F5-54Ek8",
        "outputId": "a691ede3-3a70-4178-837f-4f8a43af16e3"
      },
      "execution_count": 23,
      "outputs": [
        {
          "output_type": "stream",
          "name": "stdout",
          "text": [
            "    Unnamed: 0  Number  Start  Kyphosis_absent  Kyphosis_present\n",
            "22          23       3     12                0                 1\n",
            "27          28       3     14                1                 0\n",
            "61          62       7      8                0                 1\n",
            "13          14       4     12                1                 0\n",
            "71          72       4     12                1                 0\n"
          ]
        }
      ]
    },
    {
      "cell_type": "code",
      "source": [
        "print(y_train[:10])"
      ],
      "metadata": {
        "colab": {
          "base_uri": "https://localhost:8080/"
        },
        "id": "DvOZK4a64HQd",
        "outputId": "6aa5cfad-338e-487e-a579-bdd5739741e2"
      },
      "execution_count": 24,
      "outputs": [
        {
          "output_type": "stream",
          "name": "stdout",
          "text": [
            "[21  0 30 59 41 39 21 36  9  1]\n"
          ]
        }
      ]
    },
    {
      "cell_type": "code",
      "source": [
        "print(y_test[:10])"
      ],
      "metadata": {
        "colab": {
          "base_uri": "https://localhost:8080/"
        },
        "id": "RSpMj93y4Ij2",
        "outputId": "f37edb03-a90b-4be8-c9ad-aa6ef8f968de"
      },
      "execution_count": 25,
      "outputs": [
        {
          "output_type": "stream",
          "name": "stdout",
          "text": [
            "[33 35 40  0 45  5 13 24  1  3]\n"
          ]
        }
      ]
    },
    {
      "cell_type": "code",
      "source": [
        "from sklearn.tree import DecisionTreeClassifier\n",
        "classifier = DecisionTreeClassifier(criterion='entropy', random_state = 0)\n",
        "classifier.fit(x_train, y_train)"
      ],
      "metadata": {
        "colab": {
          "base_uri": "https://localhost:8080/"
        },
        "id": "Wlc83ehk4Mur",
        "outputId": "448c57cb-ca04-4e83-ea13-ccc8c2521243"
      },
      "execution_count": 26,
      "outputs": [
        {
          "output_type": "execute_result",
          "data": {
            "text/plain": [
              "DecisionTreeClassifier(criterion='entropy', random_state=0)"
            ]
          },
          "metadata": {},
          "execution_count": 26
        }
      ]
    },
    {
      "cell_type": "code",
      "source": [
        "y_pred=classifier.predict(x_test)"
      ],
      "metadata": {
        "id": "UzykRmjj4QFA"
      },
      "execution_count": 27,
      "outputs": []
    },
    {
      "cell_type": "code",
      "source": [
        "from sklearn.metrics import roc_curve, auc\n",
        "from sklearn.metrics import roc_auc_score,recall_score, precision_score, f1_score\n",
        "from sklearn.metrics import accuracy_score, confusion_matrix, classification_report, average_precision_score"
      ],
      "metadata": {
        "id": "51tkPIj44S3I"
      },
      "execution_count": 28,
      "outputs": []
    },
    {
      "cell_type": "code",
      "source": [
        "cm = confusion_matrix(y_test,y_pred)\n",
        "print(cm)"
      ],
      "metadata": {
        "colab": {
          "base_uri": "https://localhost:8080/"
        },
        "id": "Qcl2pIQc4U_B",
        "outputId": "e529e098-5f6c-4e3b-c3ff-c8e0806e00d2"
      },
      "execution_count": 29,
      "outputs": [
        {
          "output_type": "stream",
          "name": "stdout",
          "text": [
            "[[0 0 0 ... 0 0 0]\n",
            " [0 0 0 ... 0 0 0]\n",
            " [0 0 0 ... 0 0 0]\n",
            " ...\n",
            " [0 0 0 ... 0 0 0]\n",
            " [0 0 0 ... 0 0 0]\n",
            " [0 0 0 ... 0 0 0]]\n"
          ]
        }
      ]
    },
    {
      "cell_type": "code",
      "source": [
        "cr = classification_report(y_test,y_pred)\n",
        "print(cr)"
      ],
      "metadata": {
        "colab": {
          "base_uri": "https://localhost:8080/"
        },
        "id": "NYNO7Sci4Xys",
        "outputId": "56099e3b-9b47-4bc8-ccea-6b11c16343d4"
      },
      "execution_count": 30,
      "outputs": [
        {
          "output_type": "stream",
          "name": "stdout",
          "text": [
            "              precision    recall  f1-score   support\n",
            "\n",
            "           0       0.00      0.00      0.00       1.0\n",
            "           1       0.00      0.00      0.00       2.0\n",
            "           2       0.00      0.00      0.00       0.0\n",
            "           3       0.00      0.00      0.00       1.0\n",
            "           4       0.00      0.00      0.00       0.0\n",
            "           5       0.00      0.00      0.00       1.0\n",
            "           6       0.00      0.00      0.00       1.0\n",
            "           8       0.00      0.00      0.00       0.0\n",
            "           9       0.00      0.00      0.00       0.0\n",
            "          13       0.00      0.00      0.00       1.0\n",
            "          14       0.00      0.00      0.00       1.0\n",
            "          15       0.00      0.00      0.00       1.0\n",
            "          16       0.00      0.00      0.00       1.0\n",
            "          18       0.00      0.00      0.00       0.0\n",
            "          20       0.00      0.00      0.00       0.0\n",
            "          21       0.00      0.00      0.00       0.0\n",
            "          22       0.00      0.00      0.00       1.0\n",
            "          23       0.00      0.00      0.00       0.0\n",
            "          24       0.00      0.00      0.00       1.0\n",
            "          25       0.00      0.00      0.00       1.0\n",
            "          31       0.00      0.00      0.00       0.0\n",
            "          32       0.00      0.00      0.00       0.0\n",
            "          33       0.00      0.00      0.00       1.0\n",
            "          35       0.00      0.00      0.00       1.0\n",
            "          37       0.00      0.00      0.00       0.0\n",
            "          38       0.00      0.00      0.00       1.0\n",
            "          40       0.00      0.00      0.00       1.0\n",
            "          41       0.00      0.00      0.00       0.0\n",
            "          42       0.00      0.00      0.00       1.0\n",
            "          43       0.00      0.00      0.00       1.0\n",
            "          45       0.00      0.00      0.00       1.0\n",
            "          46       0.00      0.00      0.00       1.0\n",
            "          48       0.00      0.00      0.00       0.0\n",
            "          50       0.00      0.00      0.00       0.0\n",
            "          51       0.00      0.00      0.00       0.0\n",
            "          52       0.00      0.00      0.00       1.0\n",
            "          53       0.00      0.00      0.00       0.0\n",
            "          55       0.00      0.00      0.00       1.0\n",
            "          56       0.00      0.00      0.00       0.0\n",
            "          59       0.00      0.00      0.00       0.0\n",
            "          61       0.00      0.00      0.00       0.0\n",
            "          62       0.00      0.00      0.00       1.0\n",
            "          63       0.00      0.00      0.00       1.0\n",
            "\n",
            "    accuracy                           0.00      25.0\n",
            "   macro avg       0.00      0.00      0.00      25.0\n",
            "weighted avg       0.00      0.00      0.00      25.0\n",
            "\n"
          ]
        },
        {
          "output_type": "stream",
          "name": "stderr",
          "text": [
            "/usr/local/lib/python3.7/dist-packages/sklearn/metrics/_classification.py:1318: UndefinedMetricWarning: Precision and F-score are ill-defined and being set to 0.0 in labels with no predicted samples. Use `zero_division` parameter to control this behavior.\n",
            "  _warn_prf(average, modifier, msg_start, len(result))\n",
            "/usr/local/lib/python3.7/dist-packages/sklearn/metrics/_classification.py:1318: UndefinedMetricWarning: Recall and F-score are ill-defined and being set to 0.0 in labels with no true samples. Use `zero_division` parameter to control this behavior.\n",
            "  _warn_prf(average, modifier, msg_start, len(result))\n",
            "/usr/local/lib/python3.7/dist-packages/sklearn/metrics/_classification.py:1318: UndefinedMetricWarning: Precision and F-score are ill-defined and being set to 0.0 in labels with no predicted samples. Use `zero_division` parameter to control this behavior.\n",
            "  _warn_prf(average, modifier, msg_start, len(result))\n",
            "/usr/local/lib/python3.7/dist-packages/sklearn/metrics/_classification.py:1318: UndefinedMetricWarning: Recall and F-score are ill-defined and being set to 0.0 in labels with no true samples. Use `zero_division` parameter to control this behavior.\n",
            "  _warn_prf(average, modifier, msg_start, len(result))\n",
            "/usr/local/lib/python3.7/dist-packages/sklearn/metrics/_classification.py:1318: UndefinedMetricWarning: Precision and F-score are ill-defined and being set to 0.0 in labels with no predicted samples. Use `zero_division` parameter to control this behavior.\n",
            "  _warn_prf(average, modifier, msg_start, len(result))\n",
            "/usr/local/lib/python3.7/dist-packages/sklearn/metrics/_classification.py:1318: UndefinedMetricWarning: Recall and F-score are ill-defined and being set to 0.0 in labels with no true samples. Use `zero_division` parameter to control this behavior.\n",
            "  _warn_prf(average, modifier, msg_start, len(result))\n"
          ]
        }
      ]
    },
    {
      "cell_type": "code",
      "source": [
        "accuracy_score(y_test,y_pred)"
      ],
      "metadata": {
        "colab": {
          "base_uri": "https://localhost:8080/"
        },
        "id": "fcucTxeV4en3",
        "outputId": "c940231e-13b4-45ea-e0fc-8df3c269fd49"
      },
      "execution_count": 31,
      "outputs": [
        {
          "output_type": "execute_result",
          "data": {
            "text/plain": [
              "0.0"
            ]
          },
          "metadata": {},
          "execution_count": 31
        }
      ]
    },
    {
      "cell_type": "code",
      "source": [
        "from sklearn.tree import plot_tree\n",
        "plot_tree(classifier)"
      ],
      "metadata": {
        "colab": {
          "base_uri": "https://localhost:8080/",
          "height": 1000
        },
        "id": "C94b88k14i8X",
        "outputId": "b3e6f7af-371e-4224-d1bb-ee876efa1049"
      },
      "execution_count": 32,
      "outputs": [
        {
          "output_type": "execute_result",
          "data": {
            "text/plain": [
              "[Text(0.5420524691358025, 0.9444444444444444, 'X[2] <= 13.5\\nentropy = 5.343\\nsamples = 56\\nvalue = [4, 1, 1, 2, 1, 1, 2, 1, 1, 1, 1, 1, 1, 1\\n1, 2, 1, 1, 1, 1, 1, 1, 1, 1, 1, 1, 1, 1\\n2, 1, 1, 2, 2, 1, 2, 2, 1, 1, 2, 1, 1, 1\\n1, 1]'),\n",
              " Text(0.30092592592592593, 0.8333333333333334, 'X[0] <= 55.0\\nentropy = 4.696\\nsamples = 31\\nvalue = [1, 1, 0, 1, 1, 1, 2, 1, 0, 1, 1, 1, 1, 1\\n1, 1, 1, 0, 0, 1, 0, 0, 1, 0, 0, 1, 1, 0\\n0, 1, 1, 2, 2, 0, 2, 1, 0, 0, 0, 1, 0, 1\\n0, 0]'),\n",
              " Text(0.14506172839506173, 0.7222222222222222, 'X[3] <= 0.5\\nentropy = 4.122\\nsamples = 20\\nvalue = [1, 0, 0, 1, 1, 0, 1, 1, 0, 0, 1, 0, 0, 1\\n1, 1, 1, 0, 0, 0, 0, 0, 1, 0, 0, 0, 1, 0\\n0, 0, 1, 1, 2, 0, 2, 1, 0, 0, 0, 0, 0, 1\\n0, 0]'),\n",
              " Text(0.06172839506172839, 0.6111111111111112, 'X[0] <= 31.5\\nentropy = 2.522\\nsamples = 7\\nvalue = [0, 0, 0, 0, 1, 0, 0, 0, 0, 0, 0, 0, 0, 1\\n1, 0, 0, 0, 0, 0, 0, 0, 1, 0, 0, 0, 1, 0\\n0, 0, 0, 0, 0, 0, 2, 0, 0, 0, 0, 0, 0, 0\\n0, 0]'),\n",
              " Text(0.024691358024691357, 0.5, 'X[0] <= 16.0\\nentropy = 1.585\\nsamples = 3\\nvalue = [0, 0, 0, 0, 1, 0, 0, 0, 0, 0, 0, 0, 0, 0\\n1, 0, 0, 0, 0, 0, 0, 0, 0, 0, 0, 0, 1, 0\\n0, 0, 0, 0, 0, 0, 0, 0, 0, 0, 0, 0, 0, 0\\n0, 0]'),\n",
              " Text(0.012345679012345678, 0.3888888888888889, 'entropy = 0.0\\nsamples = 1\\nvalue = [0, 0, 0, 0, 0, 0, 0, 0, 0, 0, 0, 0, 0, 0\\n1, 0, 0, 0, 0, 0, 0, 0, 0, 0, 0, 0, 0, 0\\n0, 0, 0, 0, 0, 0, 0, 0, 0, 0, 0, 0, 0, 0\\n0, 0]'),\n",
              " Text(0.037037037037037035, 0.3888888888888889, 'X[2] <= 3.5\\nentropy = 1.0\\nsamples = 2\\nvalue = [0, 0, 0, 0, 1, 0, 0, 0, 0, 0, 0, 0, 0, 0\\n0, 0, 0, 0, 0, 0, 0, 0, 0, 0, 0, 0, 1, 0\\n0, 0, 0, 0, 0, 0, 0, 0, 0, 0, 0, 0, 0, 0\\n0, 0]'),\n",
              " Text(0.024691358024691357, 0.2777777777777778, 'entropy = 0.0\\nsamples = 1\\nvalue = [0, 0, 0, 0, 1, 0, 0, 0, 0, 0, 0, 0, 0, 0\\n0, 0, 0, 0, 0, 0, 0, 0, 0, 0, 0, 0, 0, 0\\n0, 0, 0, 0, 0, 0, 0, 0, 0, 0, 0, 0, 0, 0\\n0, 0]'),\n",
              " Text(0.04938271604938271, 0.2777777777777778, 'entropy = 0.0\\nsamples = 1\\nvalue = [0, 0, 0, 0, 0, 0, 0, 0, 0, 0, 0, 0, 0, 0\\n0, 0, 0, 0, 0, 0, 0, 0, 0, 0, 0, 0, 1, 0\\n0, 0, 0, 0, 0, 0, 0, 0, 0, 0, 0, 0, 0, 0\\n0, 0]'),\n",
              " Text(0.09876543209876543, 0.5, 'X[0] <= 43.0\\nentropy = 1.5\\nsamples = 4\\nvalue = [0, 0, 0, 0, 0, 0, 0, 0, 0, 0, 0, 0, 0, 1\\n0, 0, 0, 0, 0, 0, 0, 0, 1, 0, 0, 0, 0, 0\\n0, 0, 0, 0, 0, 0, 2, 0, 0, 0, 0, 0, 0, 0\\n0, 0]'),\n",
              " Text(0.08641975308641975, 0.3888888888888889, 'X[0] <= 39.0\\nentropy = 1.0\\nsamples = 2\\nvalue = [0, 0, 0, 0, 0, 0, 0, 0, 0, 0, 0, 0, 0, 1\\n0, 0, 0, 0, 0, 0, 0, 0, 1, 0, 0, 0, 0, 0\\n0, 0, 0, 0, 0, 0, 0, 0, 0, 0, 0, 0, 0, 0\\n0, 0]'),\n",
              " Text(0.07407407407407407, 0.2777777777777778, 'entropy = 0.0\\nsamples = 1\\nvalue = [0, 0, 0, 0, 0, 0, 0, 0, 0, 0, 0, 0, 0, 1\\n0, 0, 0, 0, 0, 0, 0, 0, 0, 0, 0, 0, 0, 0\\n0, 0, 0, 0, 0, 0, 0, 0, 0, 0, 0, 0, 0, 0\\n0, 0]'),\n",
              " Text(0.09876543209876543, 0.2777777777777778, 'entropy = 0.0\\nsamples = 1\\nvalue = [0, 0, 0, 0, 0, 0, 0, 0, 0, 0, 0, 0, 0, 0\\n0, 0, 0, 0, 0, 0, 0, 0, 1, 0, 0, 0, 0, 0\\n0, 0, 0, 0, 0, 0, 0, 0, 0, 0, 0, 0, 0, 0\\n0, 0]'),\n",
              " Text(0.1111111111111111, 0.3888888888888889, 'entropy = 0.0\\nsamples = 2\\nvalue = [0, 0, 0, 0, 0, 0, 0, 0, 0, 0, 0, 0, 0, 0\\n0, 0, 0, 0, 0, 0, 0, 0, 0, 0, 0, 0, 0, 0\\n0, 0, 0, 0, 0, 0, 2, 0, 0, 0, 0, 0, 0, 0\\n0, 0]'),\n",
              " Text(0.22839506172839505, 0.6111111111111112, 'X[0] <= 22.0\\nentropy = 3.547\\nsamples = 13\\nvalue = [1, 0, 0, 1, 0, 0, 1, 1, 0, 0, 1, 0, 0, 0\\n0, 1, 1, 0, 0, 0, 0, 0, 0, 0, 0, 0, 0, 0\\n0, 0, 1, 1, 2, 0, 0, 1, 0, 0, 0, 0, 0, 1\\n0, 0]'),\n",
              " Text(0.16049382716049382, 0.5, 'X[2] <= 7.0\\nentropy = 2.0\\nsamples = 4\\nvalue = [0, 0, 0, 0, 0, 0, 1, 0, 0, 0, 1, 0, 0, 0\\n0, 0, 1, 0, 0, 0, 0, 0, 0, 0, 0, 0, 0, 0\\n0, 0, 0, 0, 0, 0, 0, 0, 0, 0, 0, 0, 0, 1\\n0, 0]'),\n",
              " Text(0.13580246913580246, 0.3888888888888889, 'X[0] <= 7.0\\nentropy = 1.0\\nsamples = 2\\nvalue = [0, 0, 0, 0, 0, 0, 1, 0, 0, 0, 0, 0, 0, 0\\n0, 0, 1, 0, 0, 0, 0, 0, 0, 0, 0, 0, 0, 0\\n0, 0, 0, 0, 0, 0, 0, 0, 0, 0, 0, 0, 0, 0\\n0, 0]'),\n",
              " Text(0.12345679012345678, 0.2777777777777778, 'entropy = 0.0\\nsamples = 1\\nvalue = [0, 0, 0, 0, 0, 0, 0, 0, 0, 0, 0, 0, 0, 0\\n0, 0, 1, 0, 0, 0, 0, 0, 0, 0, 0, 0, 0, 0\\n0, 0, 0, 0, 0, 0, 0, 0, 0, 0, 0, 0, 0, 0\\n0, 0]'),\n",
              " Text(0.14814814814814814, 0.2777777777777778, 'entropy = 0.0\\nsamples = 1\\nvalue = [0, 0, 0, 0, 0, 0, 1, 0, 0, 0, 0, 0, 0, 0\\n0, 0, 0, 0, 0, 0, 0, 0, 0, 0, 0, 0, 0, 0\\n0, 0, 0, 0, 0, 0, 0, 0, 0, 0, 0, 0, 0, 0\\n0, 0]'),\n",
              " Text(0.18518518518518517, 0.3888888888888889, 'X[2] <= 11.0\\nentropy = 1.0\\nsamples = 2\\nvalue = [0, 0, 0, 0, 0, 0, 0, 0, 0, 0, 1, 0, 0, 0\\n0, 0, 0, 0, 0, 0, 0, 0, 0, 0, 0, 0, 0, 0\\n0, 0, 0, 0, 0, 0, 0, 0, 0, 0, 0, 0, 0, 1\\n0, 0]'),\n",
              " Text(0.1728395061728395, 0.2777777777777778, 'entropy = 0.0\\nsamples = 1\\nvalue = [0, 0, 0, 0, 0, 0, 0, 0, 0, 0, 1, 0, 0, 0\\n0, 0, 0, 0, 0, 0, 0, 0, 0, 0, 0, 0, 0, 0\\n0, 0, 0, 0, 0, 0, 0, 0, 0, 0, 0, 0, 0, 0\\n0, 0]'),\n",
              " Text(0.19753086419753085, 0.2777777777777778, 'entropy = 0.0\\nsamples = 1\\nvalue = [0, 0, 0, 0, 0, 0, 0, 0, 0, 0, 0, 0, 0, 0\\n0, 0, 0, 0, 0, 0, 0, 0, 0, 0, 0, 0, 0, 0\\n0, 0, 0, 0, 0, 0, 0, 0, 0, 0, 0, 0, 0, 1\\n0, 0]'),\n",
              " Text(0.2962962962962963, 0.5, 'X[0] <= 34.0\\nentropy = 2.948\\nsamples = 9\\nvalue = [1, 0, 0, 1, 0, 0, 0, 1, 0, 0, 0, 0, 0, 0\\n0, 1, 0, 0, 0, 0, 0, 0, 0, 0, 0, 0, 0, 0\\n0, 0, 1, 1, 2, 0, 0, 1, 0, 0, 0, 0, 0, 0\\n0, 0]'),\n",
              " Text(0.24691358024691357, 0.3888888888888889, 'X[0] <= 29.0\\nentropy = 2.0\\nsamples = 4\\nvalue = [0, 0, 0, 1, 0, 0, 0, 0, 0, 0, 0, 0, 0, 0\\n0, 0, 0, 0, 0, 0, 0, 0, 0, 0, 0, 0, 0, 0\\n0, 0, 1, 1, 1, 0, 0, 0, 0, 0, 0, 0, 0, 0\\n0, 0]'),\n",
              " Text(0.2222222222222222, 0.2777777777777778, 'X[0] <= 25.0\\nentropy = 1.0\\nsamples = 2\\nvalue = [0, 0, 0, 1, 0, 0, 0, 0, 0, 0, 0, 0, 0, 0\\n0, 0, 0, 0, 0, 0, 0, 0, 0, 0, 0, 0, 0, 0\\n0, 0, 0, 0, 1, 0, 0, 0, 0, 0, 0, 0, 0, 0\\n0, 0]'),\n",
              " Text(0.20987654320987653, 0.16666666666666666, 'entropy = 0.0\\nsamples = 1\\nvalue = [0, 0, 0, 0, 0, 0, 0, 0, 0, 0, 0, 0, 0, 0\\n0, 0, 0, 0, 0, 0, 0, 0, 0, 0, 0, 0, 0, 0\\n0, 0, 0, 0, 1, 0, 0, 0, 0, 0, 0, 0, 0, 0\\n0, 0]'),\n",
              " Text(0.2345679012345679, 0.16666666666666666, 'entropy = 0.0\\nsamples = 1\\nvalue = [0, 0, 0, 1, 0, 0, 0, 0, 0, 0, 0, 0, 0, 0\\n0, 0, 0, 0, 0, 0, 0, 0, 0, 0, 0, 0, 0, 0\\n0, 0, 0, 0, 0, 0, 0, 0, 0, 0, 0, 0, 0, 0\\n0, 0]'),\n",
              " Text(0.2716049382716049, 0.2777777777777778, 'X[0] <= 32.5\\nentropy = 1.0\\nsamples = 2\\nvalue = [0, 0, 0, 0, 0, 0, 0, 0, 0, 0, 0, 0, 0, 0\\n0, 0, 0, 0, 0, 0, 0, 0, 0, 0, 0, 0, 0, 0\\n0, 0, 1, 1, 0, 0, 0, 0, 0, 0, 0, 0, 0, 0\\n0, 0]'),\n",
              " Text(0.25925925925925924, 0.16666666666666666, 'entropy = 0.0\\nsamples = 1\\nvalue = [0, 0, 0, 0, 0, 0, 0, 0, 0, 0, 0, 0, 0, 0\\n0, 0, 0, 0, 0, 0, 0, 0, 0, 0, 0, 0, 0, 0\\n0, 0, 1, 0, 0, 0, 0, 0, 0, 0, 0, 0, 0, 0\\n0, 0]'),\n",
              " Text(0.2839506172839506, 0.16666666666666666, 'entropy = 0.0\\nsamples = 1\\nvalue = [0, 0, 0, 0, 0, 0, 0, 0, 0, 0, 0, 0, 0, 0\\n0, 0, 0, 0, 0, 0, 0, 0, 0, 0, 0, 0, 0, 0\\n0, 0, 0, 1, 0, 0, 0, 0, 0, 0, 0, 0, 0, 0\\n0, 0]'),\n",
              " Text(0.345679012345679, 0.3888888888888889, 'X[0] <= 38.0\\nentropy = 2.322\\nsamples = 5\\nvalue = [1, 0, 0, 0, 0, 0, 0, 1, 0, 0, 0, 0, 0, 0\\n0, 1, 0, 0, 0, 0, 0, 0, 0, 0, 0, 0, 0, 0\\n0, 0, 0, 0, 1, 0, 0, 1, 0, 0, 0, 0, 0, 0\\n0, 0]'),\n",
              " Text(0.32098765432098764, 0.2777777777777778, 'X[2] <= 10.0\\nentropy = 1.0\\nsamples = 2\\nvalue = [1, 0, 0, 0, 0, 0, 0, 0, 0, 0, 0, 0, 0, 0\\n0, 0, 0, 0, 0, 0, 0, 0, 0, 0, 0, 0, 0, 0\\n0, 0, 0, 0, 0, 0, 0, 1, 0, 0, 0, 0, 0, 0\\n0, 0]'),\n",
              " Text(0.30864197530864196, 0.16666666666666666, 'entropy = 0.0\\nsamples = 1\\nvalue = [1, 0, 0, 0, 0, 0, 0, 0, 0, 0, 0, 0, 0, 0\\n0, 0, 0, 0, 0, 0, 0, 0, 0, 0, 0, 0, 0, 0\\n0, 0, 0, 0, 0, 0, 0, 0, 0, 0, 0, 0, 0, 0\\n0, 0]'),\n",
              " Text(0.3333333333333333, 0.16666666666666666, 'entropy = 0.0\\nsamples = 1\\nvalue = [0, 0, 0, 0, 0, 0, 0, 0, 0, 0, 0, 0, 0, 0\\n0, 0, 0, 0, 0, 0, 0, 0, 0, 0, 0, 0, 0, 0\\n0, 0, 0, 0, 0, 0, 0, 1, 0, 0, 0, 0, 0, 0\\n0, 0]'),\n",
              " Text(0.37037037037037035, 0.2777777777777778, 'X[2] <= 5.0\\nentropy = 1.585\\nsamples = 3\\nvalue = [0, 0, 0, 0, 0, 0, 0, 1, 0, 0, 0, 0, 0, 0\\n0, 1, 0, 0, 0, 0, 0, 0, 0, 0, 0, 0, 0, 0\\n0, 0, 0, 0, 1, 0, 0, 0, 0, 0, 0, 0, 0, 0\\n0, 0]'),\n",
              " Text(0.35802469135802467, 0.16666666666666666, 'entropy = 0.0\\nsamples = 1\\nvalue = [0, 0, 0, 0, 0, 0, 0, 0, 0, 0, 0, 0, 0, 0\\n0, 1, 0, 0, 0, 0, 0, 0, 0, 0, 0, 0, 0, 0\\n0, 0, 0, 0, 0, 0, 0, 0, 0, 0, 0, 0, 0, 0\\n0, 0]'),\n",
              " Text(0.38271604938271603, 0.16666666666666666, 'X[0] <= 43.5\\nentropy = 1.0\\nsamples = 2\\nvalue = [0, 0, 0, 0, 0, 0, 0, 1, 0, 0, 0, 0, 0, 0\\n0, 0, 0, 0, 0, 0, 0, 0, 0, 0, 0, 0, 0, 0\\n0, 0, 0, 0, 1, 0, 0, 0, 0, 0, 0, 0, 0, 0\\n0, 0]'),\n",
              " Text(0.37037037037037035, 0.05555555555555555, 'entropy = 0.0\\nsamples = 1\\nvalue = [0, 0, 0, 0, 0, 0, 0, 1, 0, 0, 0, 0, 0, 0\\n0, 0, 0, 0, 0, 0, 0, 0, 0, 0, 0, 0, 0, 0\\n0, 0, 0, 0, 0, 0, 0, 0, 0, 0, 0, 0, 0, 0\\n0, 0]'),\n",
              " Text(0.3950617283950617, 0.05555555555555555, 'entropy = 0.0\\nsamples = 1\\nvalue = [0, 0, 0, 0, 0, 0, 0, 0, 0, 0, 0, 0, 0, 0\\n0, 0, 0, 0, 0, 0, 0, 0, 0, 0, 0, 0, 0, 0\\n0, 0, 0, 0, 1, 0, 0, 0, 0, 0, 0, 0, 0, 0\\n0, 0]'),\n",
              " Text(0.4567901234567901, 0.7222222222222222, 'X[0] <= 64.5\\nentropy = 3.459\\nsamples = 11\\nvalue = [0, 1, 0, 0, 0, 1, 1, 0, 0, 1, 0, 1, 1, 0\\n0, 0, 0, 0, 0, 1, 0, 0, 0, 0, 0, 1, 0, 0\\n0, 1, 0, 1, 0, 0, 0, 0, 0, 0, 0, 1, 0, 0\\n0, 0]'),\n",
              " Text(0.4074074074074074, 0.6111111111111112, 'X[2] <= 5.0\\nentropy = 2.322\\nsamples = 5\\nvalue = [0, 1, 0, 0, 0, 0, 0, 0, 0, 0, 0, 0, 1, 0\\n0, 0, 0, 0, 0, 1, 0, 0, 0, 0, 0, 1, 0, 0\\n0, 0, 0, 1, 0, 0, 0, 0, 0, 0, 0, 0, 0, 0\\n0, 0]'),\n",
              " Text(0.38271604938271603, 0.5, 'X[0] <= 62.0\\nentropy = 1.0\\nsamples = 2\\nvalue = [0, 0, 0, 0, 0, 0, 0, 0, 0, 0, 0, 0, 0, 0\\n0, 0, 0, 0, 0, 1, 0, 0, 0, 0, 0, 0, 0, 0\\n0, 0, 0, 1, 0, 0, 0, 0, 0, 0, 0, 0, 0, 0\\n0, 0]'),\n",
              " Text(0.37037037037037035, 0.3888888888888889, 'entropy = 0.0\\nsamples = 1\\nvalue = [0, 0, 0, 0, 0, 0, 0, 0, 0, 0, 0, 0, 0, 0\\n0, 0, 0, 0, 0, 0, 0, 0, 0, 0, 0, 0, 0, 0\\n0, 0, 0, 1, 0, 0, 0, 0, 0, 0, 0, 0, 0, 0\\n0, 0]'),\n",
              " Text(0.3950617283950617, 0.3888888888888889, 'entropy = 0.0\\nsamples = 1\\nvalue = [0, 0, 0, 0, 0, 0, 0, 0, 0, 0, 0, 0, 0, 0\\n0, 0, 0, 0, 0, 1, 0, 0, 0, 0, 0, 0, 0, 0\\n0, 0, 0, 0, 0, 0, 0, 0, 0, 0, 0, 0, 0, 0\\n0, 0]'),\n",
              " Text(0.43209876543209874, 0.5, 'X[0] <= 58.0\\nentropy = 1.585\\nsamples = 3\\nvalue = [0, 1, 0, 0, 0, 0, 0, 0, 0, 0, 0, 0, 1, 0\\n0, 0, 0, 0, 0, 0, 0, 0, 0, 0, 0, 1, 0, 0\\n0, 0, 0, 0, 0, 0, 0, 0, 0, 0, 0, 0, 0, 0\\n0, 0]'),\n",
              " Text(0.41975308641975306, 0.3888888888888889, 'entropy = 0.0\\nsamples = 1\\nvalue = [0, 1, 0, 0, 0, 0, 0, 0, 0, 0, 0, 0, 0, 0\\n0, 0, 0, 0, 0, 0, 0, 0, 0, 0, 0, 0, 0, 0\\n0, 0, 0, 0, 0, 0, 0, 0, 0, 0, 0, 0, 0, 0\\n0, 0]'),\n",
              " Text(0.4444444444444444, 0.3888888888888889, 'X[1] <= 5.0\\nentropy = 1.0\\nsamples = 2\\nvalue = [0, 0, 0, 0, 0, 0, 0, 0, 0, 0, 0, 0, 1, 0\\n0, 0, 0, 0, 0, 0, 0, 0, 0, 0, 0, 1, 0, 0\\n0, 0, 0, 0, 0, 0, 0, 0, 0, 0, 0, 0, 0, 0\\n0, 0]'),\n",
              " Text(0.43209876543209874, 0.2777777777777778, 'entropy = 0.0\\nsamples = 1\\nvalue = [0, 0, 0, 0, 0, 0, 0, 0, 0, 0, 0, 0, 0, 0\\n0, 0, 0, 0, 0, 0, 0, 0, 0, 0, 0, 1, 0, 0\\n0, 0, 0, 0, 0, 0, 0, 0, 0, 0, 0, 0, 0, 0\\n0, 0]'),\n",
              " Text(0.4567901234567901, 0.2777777777777778, 'entropy = 0.0\\nsamples = 1\\nvalue = [0, 0, 0, 0, 0, 0, 0, 0, 0, 0, 0, 0, 1, 0\\n0, 0, 0, 0, 0, 0, 0, 0, 0, 0, 0, 0, 0, 0\\n0, 0, 0, 0, 0, 0, 0, 0, 0, 0, 0, 0, 0, 0\\n0, 0]'),\n",
              " Text(0.5061728395061729, 0.6111111111111112, 'X[0] <= 73.5\\nentropy = 2.585\\nsamples = 6\\nvalue = [0, 0, 0, 0, 0, 1, 1, 0, 0, 1, 0, 1, 0, 0\\n0, 0, 0, 0, 0, 0, 0, 0, 0, 0, 0, 0, 0, 0\\n0, 1, 0, 0, 0, 0, 0, 0, 0, 0, 0, 1, 0, 0\\n0, 0]'),\n",
              " Text(0.48148148148148145, 0.5, 'X[2] <= 10.5\\nentropy = 1.585\\nsamples = 3\\nvalue = [0, 0, 0, 0, 0, 1, 1, 0, 0, 0, 0, 0, 0, 0\\n0, 0, 0, 0, 0, 0, 0, 0, 0, 0, 0, 0, 0, 0\\n0, 0, 0, 0, 0, 0, 0, 0, 0, 0, 0, 1, 0, 0\\n0, 0]'),\n",
              " Text(0.4691358024691358, 0.3888888888888889, 'entropy = 0.0\\nsamples = 1\\nvalue = [0, 0, 0, 0, 0, 1, 0, 0, 0, 0, 0, 0, 0, 0\\n0, 0, 0, 0, 0, 0, 0, 0, 0, 0, 0, 0, 0, 0\\n0, 0, 0, 0, 0, 0, 0, 0, 0, 0, 0, 0, 0, 0\\n0, 0]'),\n",
              " Text(0.49382716049382713, 0.3888888888888889, 'X[0] <= 68.5\\nentropy = 1.0\\nsamples = 2\\nvalue = [0, 0, 0, 0, 0, 0, 1, 0, 0, 0, 0, 0, 0, 0\\n0, 0, 0, 0, 0, 0, 0, 0, 0, 0, 0, 0, 0, 0\\n0, 0, 0, 0, 0, 0, 0, 0, 0, 0, 0, 1, 0, 0\\n0, 0]'),\n",
              " Text(0.48148148148148145, 0.2777777777777778, 'entropy = 0.0\\nsamples = 1\\nvalue = [0, 0, 0, 0, 0, 0, 0, 0, 0, 0, 0, 0, 0, 0\\n0, 0, 0, 0, 0, 0, 0, 0, 0, 0, 0, 0, 0, 0\\n0, 0, 0, 0, 0, 0, 0, 0, 0, 0, 0, 1, 0, 0\\n0, 0]'),\n",
              " Text(0.5061728395061729, 0.2777777777777778, 'entropy = 0.0\\nsamples = 1\\nvalue = [0, 0, 0, 0, 0, 0, 1, 0, 0, 0, 0, 0, 0, 0\\n0, 0, 0, 0, 0, 0, 0, 0, 0, 0, 0, 0, 0, 0\\n0, 0, 0, 0, 0, 0, 0, 0, 0, 0, 0, 0, 0, 0\\n0, 0]'),\n",
              " Text(0.5308641975308642, 0.5, 'X[1] <= 4.5\\nentropy = 1.585\\nsamples = 3\\nvalue = [0, 0, 0, 0, 0, 0, 0, 0, 0, 1, 0, 1, 0, 0\\n0, 0, 0, 0, 0, 0, 0, 0, 0, 0, 0, 0, 0, 0\\n0, 1, 0, 0, 0, 0, 0, 0, 0, 0, 0, 0, 0, 0\\n0, 0]'),\n",
              " Text(0.5185185185185185, 0.3888888888888889, 'entropy = 0.0\\nsamples = 1\\nvalue = [0, 0, 0, 0, 0, 0, 0, 0, 0, 0, 0, 0, 0, 0\\n0, 0, 0, 0, 0, 0, 0, 0, 0, 0, 0, 0, 0, 0\\n0, 1, 0, 0, 0, 0, 0, 0, 0, 0, 0, 0, 0, 0\\n0, 0]'),\n",
              " Text(0.5432098765432098, 0.3888888888888889, 'X[3] <= 0.5\\nentropy = 1.0\\nsamples = 2\\nvalue = [0, 0, 0, 0, 0, 0, 0, 0, 0, 1, 0, 1, 0, 0\\n0, 0, 0, 0, 0, 0, 0, 0, 0, 0, 0, 0, 0, 0\\n0, 0, 0, 0, 0, 0, 0, 0, 0, 0, 0, 0, 0, 0\\n0, 0]'),\n",
              " Text(0.5308641975308642, 0.2777777777777778, 'entropy = 0.0\\nsamples = 1\\nvalue = [0, 0, 0, 0, 0, 0, 0, 0, 0, 0, 0, 1, 0, 0\\n0, 0, 0, 0, 0, 0, 0, 0, 0, 0, 0, 0, 0, 0\\n0, 0, 0, 0, 0, 0, 0, 0, 0, 0, 0, 0, 0, 0\\n0, 0]'),\n",
              " Text(0.5555555555555556, 0.2777777777777778, 'entropy = 0.0\\nsamples = 1\\nvalue = [0, 0, 0, 0, 0, 0, 0, 0, 0, 1, 0, 0, 0, 0\\n0, 0, 0, 0, 0, 0, 0, 0, 0, 0, 0, 0, 0, 0\\n0, 0, 0, 0, 0, 0, 0, 0, 0, 0, 0, 0, 0, 0\\n0, 0]'),\n",
              " Text(0.783179012345679, 0.8333333333333334, 'X[0] <= 29.5\\nentropy = 4.294\\nsamples = 25\\nvalue = [3, 0, 1, 1, 0, 0, 0, 0, 1, 0, 0, 0, 0, 0\\n0, 1, 0, 1, 1, 0, 1, 1, 0, 1, 1, 0, 0, 1\\n2, 0, 0, 0, 0, 1, 0, 1, 1, 1, 2, 0, 1, 0\\n1, 1]'),\n",
              " Text(0.6774691358024691, 0.7222222222222222, 'X[0] <= 16.5\\nentropy = 3.335\\nsamples = 13\\nvalue = [3, 0, 1, 0, 0, 0, 0, 0, 1, 0, 0, 0, 0, 0\\n0, 1, 0, 1, 1, 0, 1, 0, 0, 0, 0, 0, 0, 1\\n0, 0, 0, 0, 0, 0, 0, 0, 1, 0, 1, 0, 1, 0\\n0, 0]'),\n",
              " Text(0.6141975308641975, 0.6111111111111112, 'X[2] <= 14.5\\nentropy = 2.642\\nsamples = 9\\nvalue = [3, 0, 0, 0, 0, 0, 0, 0, 0, 0, 0, 0, 0, 0\\n0, 1, 0, 0, 0, 0, 1, 0, 0, 0, 0, 0, 0, 1\\n0, 0, 0, 0, 0, 0, 0, 0, 1, 0, 1, 0, 1, 0\\n0, 0]'),\n",
              " Text(0.5802469135802469, 0.5, 'X[1] <= 4.0\\nentropy = 1.0\\nsamples = 2\\nvalue = [0, 0, 0, 0, 0, 0, 0, 0, 0, 0, 0, 0, 0, 0\\n0, 0, 0, 0, 0, 0, 1, 0, 0, 0, 0, 0, 0, 0\\n0, 0, 0, 0, 0, 0, 0, 0, 0, 0, 1, 0, 0, 0\\n0, 0]'),\n",
              " Text(0.5679012345679012, 0.3888888888888889, 'entropy = 0.0\\nsamples = 1\\nvalue = [0, 0, 0, 0, 0, 0, 0, 0, 0, 0, 0, 0, 0, 0\\n0, 0, 0, 0, 0, 0, 0, 0, 0, 0, 0, 0, 0, 0\\n0, 0, 0, 0, 0, 0, 0, 0, 0, 0, 1, 0, 0, 0\\n0, 0]'),\n",
              " Text(0.5925925925925926, 0.3888888888888889, 'entropy = 0.0\\nsamples = 1\\nvalue = [0, 0, 0, 0, 0, 0, 0, 0, 0, 0, 0, 0, 0, 0\\n0, 0, 0, 0, 0, 0, 1, 0, 0, 0, 0, 0, 0, 0\\n0, 0, 0, 0, 0, 0, 0, 0, 0, 0, 0, 0, 0, 0\\n0, 0]'),\n",
              " Text(0.6481481481481481, 0.5, 'X[2] <= 16.5\\nentropy = 2.128\\nsamples = 7\\nvalue = [3, 0, 0, 0, 0, 0, 0, 0, 0, 0, 0, 0, 0, 0\\n0, 1, 0, 0, 0, 0, 0, 0, 0, 0, 0, 0, 0, 1\\n0, 0, 0, 0, 0, 0, 0, 0, 1, 0, 0, 0, 1, 0\\n0, 0]'),\n",
              " Text(0.6172839506172839, 0.3888888888888889, 'X[1] <= 2.5\\nentropy = 1.371\\nsamples = 5\\nvalue = [3, 0, 0, 0, 0, 0, 0, 0, 0, 0, 0, 0, 0, 0\\n0, 0, 0, 0, 0, 0, 0, 0, 0, 0, 0, 0, 0, 1\\n0, 0, 0, 0, 0, 0, 0, 0, 1, 0, 0, 0, 0, 0\\n0, 0]'),\n",
              " Text(0.5925925925925926, 0.2777777777777778, 'X[0] <= 7.5\\nentropy = 1.0\\nsamples = 2\\nvalue = [1, 0, 0, 0, 0, 0, 0, 0, 0, 0, 0, 0, 0, 0\\n0, 0, 0, 0, 0, 0, 0, 0, 0, 0, 0, 0, 0, 1\\n0, 0, 0, 0, 0, 0, 0, 0, 0, 0, 0, 0, 0, 0\\n0, 0]'),\n",
              " Text(0.5802469135802469, 0.16666666666666666, 'entropy = 0.0\\nsamples = 1\\nvalue = [1, 0, 0, 0, 0, 0, 0, 0, 0, 0, 0, 0, 0, 0\\n0, 0, 0, 0, 0, 0, 0, 0, 0, 0, 0, 0, 0, 0\\n0, 0, 0, 0, 0, 0, 0, 0, 0, 0, 0, 0, 0, 0\\n0, 0]'),\n",
              " Text(0.6049382716049383, 0.16666666666666666, 'entropy = 0.0\\nsamples = 1\\nvalue = [0, 0, 0, 0, 0, 0, 0, 0, 0, 0, 0, 0, 0, 0\\n0, 0, 0, 0, 0, 0, 0, 0, 0, 0, 0, 0, 0, 1\\n0, 0, 0, 0, 0, 0, 0, 0, 0, 0, 0, 0, 0, 0\\n0, 0]'),\n",
              " Text(0.6419753086419753, 0.2777777777777778, 'X[2] <= 15.5\\nentropy = 0.918\\nsamples = 3\\nvalue = [2, 0, 0, 0, 0, 0, 0, 0, 0, 0, 0, 0, 0, 0\\n0, 0, 0, 0, 0, 0, 0, 0, 0, 0, 0, 0, 0, 0\\n0, 0, 0, 0, 0, 0, 0, 0, 1, 0, 0, 0, 0, 0\\n0, 0]'),\n",
              " Text(0.6296296296296297, 0.16666666666666666, 'entropy = 0.0\\nsamples = 1\\nvalue = [1, 0, 0, 0, 0, 0, 0, 0, 0, 0, 0, 0, 0, 0\\n0, 0, 0, 0, 0, 0, 0, 0, 0, 0, 0, 0, 0, 0\\n0, 0, 0, 0, 0, 0, 0, 0, 0, 0, 0, 0, 0, 0\\n0, 0]'),\n",
              " Text(0.654320987654321, 0.16666666666666666, 'X[0] <= 14.0\\nentropy = 1.0\\nsamples = 2\\nvalue = [1, 0, 0, 0, 0, 0, 0, 0, 0, 0, 0, 0, 0, 0\\n0, 0, 0, 0, 0, 0, 0, 0, 0, 0, 0, 0, 0, 0\\n0, 0, 0, 0, 0, 0, 0, 0, 1, 0, 0, 0, 0, 0\\n0, 0]'),\n",
              " Text(0.6419753086419753, 0.05555555555555555, 'entropy = 0.0\\nsamples = 1\\nvalue = [0, 0, 0, 0, 0, 0, 0, 0, 0, 0, 0, 0, 0, 0\\n0, 0, 0, 0, 0, 0, 0, 0, 0, 0, 0, 0, 0, 0\\n0, 0, 0, 0, 0, 0, 0, 0, 1, 0, 0, 0, 0, 0\\n0, 0]'),\n",
              " Text(0.6666666666666666, 0.05555555555555555, 'entropy = 0.0\\nsamples = 1\\nvalue = [1, 0, 0, 0, 0, 0, 0, 0, 0, 0, 0, 0, 0, 0\\n0, 0, 0, 0, 0, 0, 0, 0, 0, 0, 0, 0, 0, 0\\n0, 0, 0, 0, 0, 0, 0, 0, 0, 0, 0, 0, 0, 0\\n0, 0]'),\n",
              " Text(0.6790123456790124, 0.3888888888888889, 'X[2] <= 17.5\\nentropy = 1.0\\nsamples = 2\\nvalue = [0, 0, 0, 0, 0, 0, 0, 0, 0, 0, 0, 0, 0, 0\\n0, 1, 0, 0, 0, 0, 0, 0, 0, 0, 0, 0, 0, 0\\n0, 0, 0, 0, 0, 0, 0, 0, 0, 0, 0, 0, 1, 0\\n0, 0]'),\n",
              " Text(0.6666666666666666, 0.2777777777777778, 'entropy = 0.0\\nsamples = 1\\nvalue = [0, 0, 0, 0, 0, 0, 0, 0, 0, 0, 0, 0, 0, 0\\n0, 1, 0, 0, 0, 0, 0, 0, 0, 0, 0, 0, 0, 0\\n0, 0, 0, 0, 0, 0, 0, 0, 0, 0, 0, 0, 0, 0\\n0, 0]'),\n",
              " Text(0.691358024691358, 0.2777777777777778, 'entropy = 0.0\\nsamples = 1\\nvalue = [0, 0, 0, 0, 0, 0, 0, 0, 0, 0, 0, 0, 0, 0\\n0, 0, 0, 0, 0, 0, 0, 0, 0, 0, 0, 0, 0, 0\\n0, 0, 0, 0, 0, 0, 0, 0, 0, 0, 0, 0, 1, 0\\n0, 0]'),\n",
              " Text(0.7407407407407407, 0.6111111111111112, 'X[0] <= 20.0\\nentropy = 2.0\\nsamples = 4\\nvalue = [0, 0, 1, 0, 0, 0, 0, 0, 1, 0, 0, 0, 0, 0\\n0, 0, 0, 1, 1, 0, 0, 0, 0, 0, 0, 0, 0, 0\\n0, 0, 0, 0, 0, 0, 0, 0, 0, 0, 0, 0, 0, 0\\n0, 0]'),\n",
              " Text(0.7160493827160493, 0.5, 'X[0] <= 18.0\\nentropy = 1.0\\nsamples = 2\\nvalue = [0, 0, 0, 0, 0, 0, 0, 0, 0, 0, 0, 0, 0, 0\\n0, 0, 0, 1, 1, 0, 0, 0, 0, 0, 0, 0, 0, 0\\n0, 0, 0, 0, 0, 0, 0, 0, 0, 0, 0, 0, 0, 0\\n0, 0]'),\n",
              " Text(0.7037037037037037, 0.3888888888888889, 'entropy = 0.0\\nsamples = 1\\nvalue = [0, 0, 0, 0, 0, 0, 0, 0, 0, 0, 0, 0, 0, 0\\n0, 0, 0, 1, 0, 0, 0, 0, 0, 0, 0, 0, 0, 0\\n0, 0, 0, 0, 0, 0, 0, 0, 0, 0, 0, 0, 0, 0\\n0, 0]'),\n",
              " Text(0.7283950617283951, 0.3888888888888889, 'entropy = 0.0\\nsamples = 1\\nvalue = [0, 0, 0, 0, 0, 0, 0, 0, 0, 0, 0, 0, 0, 0\\n0, 0, 0, 0, 1, 0, 0, 0, 0, 0, 0, 0, 0, 0\\n0, 0, 0, 0, 0, 0, 0, 0, 0, 0, 0, 0, 0, 0\\n0, 0]'),\n",
              " Text(0.7654320987654321, 0.5, 'X[0] <= 25.0\\nentropy = 1.0\\nsamples = 2\\nvalue = [0, 0, 1, 0, 0, 0, 0, 0, 1, 0, 0, 0, 0, 0\\n0, 0, 0, 0, 0, 0, 0, 0, 0, 0, 0, 0, 0, 0\\n0, 0, 0, 0, 0, 0, 0, 0, 0, 0, 0, 0, 0, 0\\n0, 0]'),\n",
              " Text(0.7530864197530864, 0.3888888888888889, 'entropy = 0.0\\nsamples = 1\\nvalue = [0, 0, 0, 0, 0, 0, 0, 0, 1, 0, 0, 0, 0, 0\\n0, 0, 0, 0, 0, 0, 0, 0, 0, 0, 0, 0, 0, 0\\n0, 0, 0, 0, 0, 0, 0, 0, 0, 0, 0, 0, 0, 0\\n0, 0]'),\n",
              " Text(0.7777777777777778, 0.3888888888888889, 'entropy = 0.0\\nsamples = 1\\nvalue = [0, 0, 1, 0, 0, 0, 0, 0, 0, 0, 0, 0, 0, 0\\n0, 0, 0, 0, 0, 0, 0, 0, 0, 0, 0, 0, 0, 0\\n0, 0, 0, 0, 0, 0, 0, 0, 0, 0, 0, 0, 0, 0\\n0, 0]'),\n",
              " Text(0.8888888888888888, 0.7222222222222222, 'X[0] <= 53.5\\nentropy = 3.418\\nsamples = 12\\nvalue = [0, 0, 0, 1, 0, 0, 0, 0, 0, 0, 0, 0, 0, 0\\n0, 0, 0, 0, 0, 0, 0, 1, 0, 1, 1, 0, 0, 0\\n2, 0, 0, 0, 0, 1, 0, 1, 0, 1, 1, 0, 0, 0\\n1, 1]'),\n",
              " Text(0.8395061728395061, 0.6111111111111112, 'X[0] <= 46.0\\nentropy = 2.585\\nsamples = 6\\nvalue = [0, 0, 0, 1, 0, 0, 0, 0, 0, 0, 0, 0, 0, 0\\n0, 0, 0, 0, 0, 0, 0, 0, 0, 1, 1, 0, 0, 0\\n0, 0, 0, 0, 0, 1, 0, 0, 0, 1, 0, 0, 0, 0\\n1, 0]'),\n",
              " Text(0.8148148148148148, 0.5, 'X[1] <= 2.5\\nentropy = 1.585\\nsamples = 3\\nvalue = [0, 0, 0, 0, 0, 0, 0, 0, 0, 0, 0, 0, 0, 0\\n0, 0, 0, 0, 0, 0, 0, 0, 0, 1, 1, 0, 0, 0\\n0, 0, 0, 0, 0, 0, 0, 0, 0, 1, 0, 0, 0, 0\\n0, 0]'),\n",
              " Text(0.8024691358024691, 0.3888888888888889, 'entropy = 0.0\\nsamples = 1\\nvalue = [0, 0, 0, 0, 0, 0, 0, 0, 0, 0, 0, 0, 0, 0\\n0, 0, 0, 0, 0, 0, 0, 0, 0, 0, 0, 0, 0, 0\\n0, 0, 0, 0, 0, 0, 0, 0, 0, 1, 0, 0, 0, 0\\n0, 0]'),\n",
              " Text(0.8271604938271605, 0.3888888888888889, 'X[0] <= 40.5\\nentropy = 1.0\\nsamples = 2\\nvalue = [0, 0, 0, 0, 0, 0, 0, 0, 0, 0, 0, 0, 0, 0\\n0, 0, 0, 0, 0, 0, 0, 0, 0, 1, 1, 0, 0, 0\\n0, 0, 0, 0, 0, 0, 0, 0, 0, 0, 0, 0, 0, 0\\n0, 0]'),\n",
              " Text(0.8148148148148148, 0.2777777777777778, 'entropy = 0.0\\nsamples = 1\\nvalue = [0, 0, 0, 0, 0, 0, 0, 0, 0, 0, 0, 0, 0, 0\\n0, 0, 0, 0, 0, 0, 0, 0, 0, 1, 0, 0, 0, 0\\n0, 0, 0, 0, 0, 0, 0, 0, 0, 0, 0, 0, 0, 0\\n0, 0]'),\n",
              " Text(0.8395061728395061, 0.2777777777777778, 'entropy = 0.0\\nsamples = 1\\nvalue = [0, 0, 0, 0, 0, 0, 0, 0, 0, 0, 0, 0, 0, 0\\n0, 0, 0, 0, 0, 0, 0, 0, 0, 0, 1, 0, 0, 0\\n0, 0, 0, 0, 0, 0, 0, 0, 0, 0, 0, 0, 0, 0\\n0, 0]'),\n",
              " Text(0.8641975308641975, 0.5, 'X[0] <= 48.5\\nentropy = 1.585\\nsamples = 3\\nvalue = [0, 0, 0, 1, 0, 0, 0, 0, 0, 0, 0, 0, 0, 0\\n0, 0, 0, 0, 0, 0, 0, 0, 0, 0, 0, 0, 0, 0\\n0, 0, 0, 0, 0, 1, 0, 0, 0, 0, 0, 0, 0, 0\\n1, 0]'),\n",
              " Text(0.8518518518518519, 0.3888888888888889, 'entropy = 0.0\\nsamples = 1\\nvalue = [0, 0, 0, 0, 0, 0, 0, 0, 0, 0, 0, 0, 0, 0\\n0, 0, 0, 0, 0, 0, 0, 0, 0, 0, 0, 0, 0, 0\\n0, 0, 0, 0, 0, 1, 0, 0, 0, 0, 0, 0, 0, 0\\n0, 0]'),\n",
              " Text(0.8765432098765432, 0.3888888888888889, 'X[0] <= 51.0\\nentropy = 1.0\\nsamples = 2\\nvalue = [0, 0, 0, 1, 0, 0, 0, 0, 0, 0, 0, 0, 0, 0\\n0, 0, 0, 0, 0, 0, 0, 0, 0, 0, 0, 0, 0, 0\\n0, 0, 0, 0, 0, 0, 0, 0, 0, 0, 0, 0, 0, 0\\n1, 0]'),\n",
              " Text(0.8641975308641975, 0.2777777777777778, 'entropy = 0.0\\nsamples = 1\\nvalue = [0, 0, 0, 0, 0, 0, 0, 0, 0, 0, 0, 0, 0, 0\\n0, 0, 0, 0, 0, 0, 0, 0, 0, 0, 0, 0, 0, 0\\n0, 0, 0, 0, 0, 0, 0, 0, 0, 0, 0, 0, 0, 0\\n1, 0]'),\n",
              " Text(0.8888888888888888, 0.2777777777777778, 'entropy = 0.0\\nsamples = 1\\nvalue = [0, 0, 0, 1, 0, 0, 0, 0, 0, 0, 0, 0, 0, 0\\n0, 0, 0, 0, 0, 0, 0, 0, 0, 0, 0, 0, 0, 0\\n0, 0, 0, 0, 0, 0, 0, 0, 0, 0, 0, 0, 0, 0\\n0, 0]'),\n",
              " Text(0.9382716049382716, 0.6111111111111112, 'X[0] <= 68.0\\nentropy = 2.252\\nsamples = 6\\nvalue = [0, 0, 0, 0, 0, 0, 0, 0, 0, 0, 0, 0, 0, 0\\n0, 0, 0, 0, 0, 0, 0, 1, 0, 0, 0, 0, 0, 0\\n2, 0, 0, 0, 0, 0, 0, 1, 0, 0, 1, 0, 0, 0\\n0, 1]'),\n",
              " Text(0.9135802469135802, 0.5, 'X[0] <= 59.5\\nentropy = 0.918\\nsamples = 3\\nvalue = [0, 0, 0, 0, 0, 0, 0, 0, 0, 0, 0, 0, 0, 0\\n0, 0, 0, 0, 0, 0, 0, 0, 0, 0, 0, 0, 0, 0\\n2, 0, 0, 0, 0, 0, 0, 1, 0, 0, 0, 0, 0, 0\\n0, 0]'),\n",
              " Text(0.9012345679012346, 0.3888888888888889, 'entropy = 0.0\\nsamples = 1\\nvalue = [0, 0, 0, 0, 0, 0, 0, 0, 0, 0, 0, 0, 0, 0\\n0, 0, 0, 0, 0, 0, 0, 0, 0, 0, 0, 0, 0, 0\\n0, 0, 0, 0, 0, 0, 0, 1, 0, 0, 0, 0, 0, 0\\n0, 0]'),\n",
              " Text(0.9259259259259259, 0.3888888888888889, 'entropy = 0.0\\nsamples = 2\\nvalue = [0, 0, 0, 0, 0, 0, 0, 0, 0, 0, 0, 0, 0, 0\\n0, 0, 0, 0, 0, 0, 0, 0, 0, 0, 0, 0, 0, 0\\n2, 0, 0, 0, 0, 0, 0, 0, 0, 0, 0, 0, 0, 0\\n0, 0]'),\n",
              " Text(0.9629629629629629, 0.5, 'X[0] <= 72.0\\nentropy = 1.585\\nsamples = 3\\nvalue = [0, 0, 0, 0, 0, 0, 0, 0, 0, 0, 0, 0, 0, 0\\n0, 0, 0, 0, 0, 0, 0, 1, 0, 0, 0, 0, 0, 0\\n0, 0, 0, 0, 0, 0, 0, 0, 0, 0, 1, 0, 0, 0\\n0, 1]'),\n",
              " Text(0.9506172839506173, 0.3888888888888889, 'entropy = 0.0\\nsamples = 1\\nvalue = [0, 0, 0, 0, 0, 0, 0, 0, 0, 0, 0, 0, 0, 0\\n0, 0, 0, 0, 0, 0, 0, 0, 0, 0, 0, 0, 0, 0\\n0, 0, 0, 0, 0, 0, 0, 0, 0, 0, 1, 0, 0, 0\\n0, 0]'),\n",
              " Text(0.9753086419753086, 0.3888888888888889, 'X[0] <= 74.5\\nentropy = 1.0\\nsamples = 2\\nvalue = [0, 0, 0, 0, 0, 0, 0, 0, 0, 0, 0, 0, 0, 0\\n0, 0, 0, 0, 0, 0, 0, 1, 0, 0, 0, 0, 0, 0\\n0, 0, 0, 0, 0, 0, 0, 0, 0, 0, 0, 0, 0, 0\\n0, 1]'),\n",
              " Text(0.9629629629629629, 0.2777777777777778, 'entropy = 0.0\\nsamples = 1\\nvalue = [0, 0, 0, 0, 0, 0, 0, 0, 0, 0, 0, 0, 0, 0\\n0, 0, 0, 0, 0, 0, 0, 1, 0, 0, 0, 0, 0, 0\\n0, 0, 0, 0, 0, 0, 0, 0, 0, 0, 0, 0, 0, 0\\n0, 0]'),\n",
              " Text(0.9876543209876543, 0.2777777777777778, 'entropy = 0.0\\nsamples = 1\\nvalue = [0, 0, 0, 0, 0, 0, 0, 0, 0, 0, 0, 0, 0, 0\\n0, 0, 0, 0, 0, 0, 0, 0, 0, 0, 0, 0, 0, 0\\n0, 0, 0, 0, 0, 0, 0, 0, 0, 0, 0, 0, 0, 0\\n0, 1]')]"
            ]
          },
          "metadata": {},
          "execution_count": 32
        },
        {
          "output_type": "display_data",
          "data": {
            "text/plain": [
              "<Figure size 432x288 with 1 Axes>"
            ],
            "image/png": "[encoded data removed]"
          },
          "metadata": {
            "needs_background": "light"
          }
        }
      ]
    },
    {
      "cell_type": "code",
      "source": [
        "import graphviz as graph # Refer to https://forum.graphviz.org/t/new-simplified-installation-procedure-on-windows/224\n",
        "from sklearn import tree\n",
        "dot_data = tree.export_graphviz(classifier)\n",
        "graph = graph.Source(dot_data)\n",
        "graph"
      ],
      "metadata": {
        "colab": {
          "base_uri": "https://localhost:8080/",
          "height": 1000
        },
        "id": "MgX2SZGc4oFi",
        "outputId": "c4891fa8-9edc-4119-fc17-7f2e1cfd4767"
      },
      "execution_count": 37,
      "outputs": [
        {
          "output_type": "execute_result",
          "data": {
            "text/plain": [
              "<graphviz.files.Source at 0x7f3f4632f490>"
            ],
            "image/svg+xml": "<?xml version=\"1.0\" encoding=\"UTF-8\" standalone=\"no\"?>\n<!DOCTYPE svg PUBLIC \"-//W3C//DTD SVG 1.1//EN\"\n \"http://www.w3.org/Graphics/SVG/1.1/DTD/svg11.dtd\">\n<!-- Generated by graphviz version 2.40.1 (20161225.0304)\n -->\n<!-- Title: Tree Pages: 1 -->\n<svg width=\"10772pt\" height=\"1298pt\"\n viewBox=\"0.00 0.00 10772.00 1298.00\" xmlns=\"http://www.w3.org/2000/svg\" xmlns:xlink=\"http://www.w3.org/1999/xlink\">\n<g id=\"graph0\" class=\"graph\" transform=\"scale(1 1) rotate(0) translate(4 1294)\">\n<title>Tree</title>\n<polygon fill=\"#ffffff\" stroke=\"transparent\" points=\"-4,4 -4,-1294 10768,-1294 10768,4 -4,4\"/>\n<!-- 0 -->\n<g id=\"node1\" class=\"node\">\n<title>0</title>\n<polygon fill=\"none\" stroke=\"#000000\" points=\"6083,-1290 5799,-1290 5799,-1177 6083,-1177 6083,-1290\"/>\n<text text-anchor=\"middle\" x=\"5941\" y=\"-1274.8\" font-family=\"Helvetica,sans-Serif\" font-size=\"14.00\" fill=\"#000000\">X[2] &lt;= 13.5</text>\n<text text-anchor=\"middle\" x=\"5941\" y=\"-1259.8\" font-family=\"Helvetica,sans-Serif\" font-size=\"14.00\" fill=\"#000000\">entropy = 5.343</text>\n<text text-anchor=\"middle\" x=\"5941\" y=\"-1244.8\" font-family=\"Helvetica,sans-Serif\" font-size=\"14.00\" fill=\"#000000\">samples = 56</text>\n<text text-anchor=\"middle\" x=\"5941\" y=\"-1229.8\" font-family=\"Helvetica,sans-Serif\" font-size=\"14.00\" fill=\"#000000\">value = [4, 1, 1, 2, 1, 1, 2, 1, 1, 1, 1, 1, 1, 1</text>\n<text text-anchor=\"middle\" x=\"5941\" y=\"-1214.8\" font-family=\"Helvetica,sans-Serif\" font-size=\"14.00\" fill=\"#000000\">1, 2, 1, 1, 1, 1, 1, 1, 1, 1, 1, 1, 1, 1</text>\n<text text-anchor=\"middle\" x=\"5941\" y=\"-1199.8\" font-family=\"Helvetica,sans-Serif\" font-size=\"14.00\" fill=\"#000000\">2, 1, 1, 2, 2, 1, 2, 2, 1, 1, 2, 1, 1, 1</text>\n<text text-anchor=\"middle\" x=\"5941\" y=\"-1184.8\" font-family=\"Helvetica,sans-Serif\" font-size=\"14.00\" fill=\"#000000\">1, 1]</text>\n</g>\n<!-- 1 -->\n<g id=\"node2\" class=\"node\">\n<title>1</title>\n<polygon fill=\"none\" stroke=\"#000000\" points=\"4724,-1141 4440,-1141 4440,-1028 4724,-1028 4724,-1141\"/>\n<text text-anchor=\"middle\" x=\"4582\" y=\"-1125.8\" font-family=\"Helvetica,sans-Serif\" font-size=\"14.00\" fill=\"#000000\">X[0] &lt;= 55.0</text>\n<text text-anchor=\"middle\" x=\"4582\" y=\"-1110.8\" font-family=\"Helvetica,sans-Serif\" font-size=\"14.00\" fill=\"#000000\">entropy = 4.696</text>\n<text text-anchor=\"middle\" x=\"4582\" y=\"-1095.8\" font-family=\"Helvetica,sans-Serif\" font-size=\"14.00\" fill=\"#000000\">samples = 31</text>\n<text text-anchor=\"middle\" x=\"4582\" y=\"-1080.8\" font-family=\"Helvetica,sans-Serif\" font-size=\"14.00\" fill=\"#000000\">value = [1, 1, 0, 1, 1, 1, 2, 1, 0, 1, 1, 1, 1, 1</text>\n<text text-anchor=\"middle\" x=\"4582\" y=\"-1065.8\" font-family=\"Helvetica,sans-Serif\" font-size=\"14.00\" fill=\"#000000\">1, 1, 1, 0, 0, 1, 0, 0, 1, 0, 0, 1, 1, 0</text>\n<text text-anchor=\"middle\" x=\"4582\" y=\"-1050.8\" font-family=\"Helvetica,sans-Serif\" font-size=\"14.00\" fill=\"#000000\">0, 1, 1, 2, 2, 0, 2, 1, 0, 0, 0, 1, 0, 1</text>\n<text text-anchor=\"middle\" x=\"4582\" y=\"-1035.8\" font-family=\"Helvetica,sans-Serif\" font-size=\"14.00\" fill=\"#000000\">0, 0]</text>\n</g>\n<!-- 0&#45;&gt;1 -->\n<g id=\"edge1\" class=\"edge\">\n<title>0&#45;&gt;1</title>\n<path fill=\"none\" stroke=\"#000000\" d=\"M5798.771,-1217.9061C5541.0526,-1189.65 4999.0776,-1130.2282 4734.2111,-1101.1883\"/>\n<polygon fill=\"#000000\" stroke=\"#000000\" points=\"4734.4542,-1097.6941 4724.1323,-1100.0833 4733.6913,-1104.6524 4734.4542,-1097.6941\"/>\n<text text-anchor=\"middle\" x=\"4739.7781\" y=\"-1115.8823\" font-family=\"Helvetica,sans-Serif\" font-size=\"14.00\" fill=\"#000000\">True</text>\n</g>\n<!-- 60 -->\n<g id=\"node61\" class=\"node\">\n<title>60</title>\n<polygon fill=\"none\" stroke=\"#000000\" points=\"7140,-1141 6856,-1141 6856,-1028 7140,-1028 7140,-1141\"/>\n<text text-anchor=\"middle\" x=\"6998\" y=\"-1125.8\" font-family=\"Helvetica,sans-Serif\" font-size=\"14.00\" fill=\"#000000\">X[0] &lt;= 29.5</text>\n<text text-anchor=\"middle\" x=\"6998\" y=\"-1110.8\" font-family=\"Helvetica,sans-Serif\" font-size=\"14.00\" fill=\"#000000\">entropy = 4.294</text>\n<text text-anchor=\"middle\" x=\"6998\" y=\"-1095.8\" font-family=\"Helvetica,sans-Serif\" font-size=\"14.00\" fill=\"#000000\">samples = 25</text>\n<text text-anchor=\"middle\" x=\"6998\" y=\"-1080.8\" font-family=\"Helvetica,sans-Serif\" font-size=\"14.00\" fill=\"#000000\">value = [3, 0, 1, 1, 0, 0, 0, 0, 1, 0, 0, 0, 0, 0</text>\n<text text-anchor=\"middle\" x=\"6998\" y=\"-1065.8\" font-family=\"Helvetica,sans-Serif\" font-size=\"14.00\" fill=\"#000000\">0, 1, 0, 1, 1, 0, 1, 1, 0, 1, 1, 0, 0, 1</text>\n<text text-anchor=\"middle\" x=\"6998\" y=\"-1050.8\" font-family=\"Helvetica,sans-Serif\" font-size=\"14.00\" fill=\"#000000\">2, 0, 0, 0, 0, 1, 0, 1, 1, 1, 2, 0, 1, 0</text>\n<text text-anchor=\"middle\" x=\"6998\" y=\"-1035.8\" font-family=\"Helvetica,sans-Serif\" font-size=\"14.00\" fill=\"#000000\">1, 1]</text>\n</g>\n<!-- 0&#45;&gt;60 -->\n<g id=\"edge60\" class=\"edge\">\n<title>0&#45;&gt;60</title>\n<path fill=\"none\" stroke=\"#000000\" d=\"M6083.0029,-1213.4826C6281.8728,-1185.4489 6641.8231,-1134.7085 6845.9563,-1105.9328\"/>\n<polygon fill=\"#000000\" stroke=\"#000000\" points=\"6846.4454,-1109.3986 6855.8589,-1104.5369 6845.4682,-1102.4671 6846.4454,-1109.3986\"/>\n<text text-anchor=\"middle\" x=\"6840.8218\" y=\"-1120.8091\" font-family=\"Helvetica,sans-Serif\" font-size=\"14.00\" fill=\"#000000\">False</text>\n</g>\n<!-- 2 -->\n<g id=\"node3\" class=\"node\">\n<title>2</title>\n<polygon fill=\"none\" stroke=\"#000000\" points=\"2479,-992 2195,-992 2195,-879 2479,-879 2479,-992\"/>\n<text text-anchor=\"middle\" x=\"2337\" y=\"-976.8\" font-family=\"Helvetica,sans-Serif\" font-size=\"14.00\" fill=\"#000000\">X[3] &lt;= 0.5</text>\n<text text-anchor=\"middle\" x=\"2337\" y=\"-961.8\" font-family=\"Helvetica,sans-Serif\" font-size=\"14.00\" fill=\"#000000\">entropy = 4.122</text>\n<text text-anchor=\"middle\" x=\"2337\" y=\"-946.8\" font-family=\"Helvetica,sans-Serif\" font-size=\"14.00\" fill=\"#000000\">samples = 20</text>\n<text text-anchor=\"middle\" x=\"2337\" y=\"-931.8\" font-family=\"Helvetica,sans-Serif\" font-size=\"14.00\" fill=\"#000000\">value = [1, 0, 0, 1, 1, 0, 1, 1, 0, 0, 1, 0, 0, 1</text>\n<text text-anchor=\"middle\" x=\"2337\" y=\"-916.8\" font-family=\"Helvetica,sans-Serif\" font-size=\"14.00\" fill=\"#000000\">1, 1, 1, 0, 0, 0, 0, 0, 1, 0, 0, 0, 1, 0</text>\n<text text-anchor=\"middle\" x=\"2337\" y=\"-901.8\" font-family=\"Helvetica,sans-Serif\" font-size=\"14.00\" fill=\"#000000\">0, 0, 1, 1, 2, 0, 2, 1, 0, 0, 0, 0, 0, 1</text>\n<text text-anchor=\"middle\" x=\"2337\" y=\"-886.8\" font-family=\"Helvetica,sans-Serif\" font-size=\"14.00\" fill=\"#000000\">0, 0]</text>\n</g>\n<!-- 1&#45;&gt;2 -->\n<g id=\"edge2\" class=\"edge\">\n<title>1&#45;&gt;2</title>\n<path fill=\"none\" stroke=\"#000000\" d=\"M4439.8621,-1075.0663C4039.1177,-1048.4691 2902.5405,-973.0348 2489.4587,-945.6186\"/>\n<polygon fill=\"#000000\" stroke=\"#000000\" points=\"2489.4487,-942.1104 2479.2389,-944.9404 2488.9851,-949.095 2489.4487,-942.1104\"/>\n</g>\n<!-- 39 -->\n<g id=\"node40\" class=\"node\">\n<title>39</title>\n<polygon fill=\"none\" stroke=\"#000000\" points=\"4724,-992 4440,-992 4440,-879 4724,-879 4724,-992\"/>\n<text text-anchor=\"middle\" x=\"4582\" y=\"-976.8\" font-family=\"Helvetica,sans-Serif\" font-size=\"14.00\" fill=\"#000000\">X[0] &lt;= 64.5</text>\n<text text-anchor=\"middle\" x=\"4582\" y=\"-961.8\" font-family=\"Helvetica,sans-Serif\" font-size=\"14.00\" fill=\"#000000\">entropy = 3.459</text>\n<text text-anchor=\"middle\" x=\"4582\" y=\"-946.8\" font-family=\"Helvetica,sans-Serif\" font-size=\"14.00\" fill=\"#000000\">samples = 11</text>\n<text text-anchor=\"middle\" x=\"4582\" y=\"-931.8\" font-family=\"Helvetica,sans-Serif\" font-size=\"14.00\" fill=\"#000000\">value = [0, 1, 0, 0, 0, 1, 1, 0, 0, 1, 0, 1, 1, 0</text>\n<text text-anchor=\"middle\" x=\"4582\" y=\"-916.8\" font-family=\"Helvetica,sans-Serif\" font-size=\"14.00\" fill=\"#000000\">0, 0, 0, 0, 0, 1, 0, 0, 0, 0, 0, 1, 0, 0</text>\n<text text-anchor=\"middle\" x=\"4582\" y=\"-901.8\" font-family=\"Helvetica,sans-Serif\" font-size=\"14.00\" fill=\"#000000\">0, 1, 0, 1, 0, 0, 0, 0, 0, 0, 0, 1, 0, 0</text>\n<text text-anchor=\"middle\" x=\"4582\" y=\"-886.8\" font-family=\"Helvetica,sans-Serif\" font-size=\"14.00\" fill=\"#000000\">0, 0]</text>\n</g>\n<!-- 1&#45;&gt;39 -->\n<g id=\"edge39\" class=\"edge\">\n<title>1&#45;&gt;39</title>\n<path fill=\"none\" stroke=\"#000000\" d=\"M4582,-1027.7444C4582,-1019.442 4582,-1010.8273 4582,-1002.3464\"/>\n<polygon fill=\"#000000\" stroke=\"#000000\" points=\"4585.5001,-1002.0977 4582,-992.0978 4578.5001,-1002.0978 4585.5001,-1002.0977\"/>\n</g>\n<!-- 3 -->\n<g id=\"node4\" class=\"node\">\n<title>3</title>\n<polygon fill=\"none\" stroke=\"#000000\" points=\"1190,-843 906,-843 906,-730 1190,-730 1190,-843\"/>\n<text text-anchor=\"middle\" x=\"1048\" y=\"-827.8\" font-family=\"Helvetica,sans-Serif\" font-size=\"14.00\" fill=\"#000000\">X[0] &lt;= 31.5</text>\n<text text-anchor=\"middle\" x=\"1048\" y=\"-812.8\" font-family=\"Helvetica,sans-Serif\" font-size=\"14.00\" fill=\"#000000\">entropy = 2.522</text>\n<text text-anchor=\"middle\" x=\"1048\" y=\"-797.8\" font-family=\"Helvetica,sans-Serif\" font-size=\"14.00\" fill=\"#000000\">samples = 7</text>\n<text text-anchor=\"middle\" x=\"1048\" y=\"-782.8\" font-family=\"Helvetica,sans-Serif\" font-size=\"14.00\" fill=\"#000000\">value = [0, 0, 0, 0, 1, 0, 0, 0, 0, 0, 0, 0, 0, 1</text>\n<text text-anchor=\"middle\" x=\"1048\" y=\"-767.8\" font-family=\"Helvetica,sans-Serif\" font-size=\"14.00\" fill=\"#000000\">1, 0, 0, 0, 0, 0, 0, 0, 1, 0, 0, 0, 1, 0</text>\n<text text-anchor=\"middle\" x=\"1048\" y=\"-752.8\" font-family=\"Helvetica,sans-Serif\" font-size=\"14.00\" fill=\"#000000\">0, 0, 0, 0, 0, 0, 2, 0, 0, 0, 0, 0, 0, 0</text>\n<text text-anchor=\"middle\" x=\"1048\" y=\"-737.8\" font-family=\"Helvetica,sans-Serif\" font-size=\"14.00\" fill=\"#000000\">0, 0]</text>\n</g>\n<!-- 2&#45;&gt;3 -->\n<g id=\"edge3\" class=\"edge\">\n<title>2&#45;&gt;3</title>\n<path fill=\"none\" stroke=\"#000000\" d=\"M2194.7489,-919.0567C1950.0346,-890.7693 1451.5083,-833.1429 1200.1382,-804.0862\"/>\n<polygon fill=\"#000000\" stroke=\"#000000\" points=\"1200.5328,-800.6086 1190.1971,-802.9371 1199.729,-807.5623 1200.5328,-800.6086\"/>\n</g>\n<!-- 14 -->\n<g id=\"node15\" class=\"node\">\n<title>14</title>\n<polygon fill=\"none\" stroke=\"#000000\" points=\"2479,-843 2195,-843 2195,-730 2479,-730 2479,-843\"/>\n<text text-anchor=\"middle\" x=\"2337\" y=\"-827.8\" font-family=\"Helvetica,sans-Serif\" font-size=\"14.00\" fill=\"#000000\">X[0] &lt;= 22.0</text>\n<text text-anchor=\"middle\" x=\"2337\" y=\"-812.8\" font-family=\"Helvetica,sans-Serif\" font-size=\"14.00\" fill=\"#000000\">entropy = 3.547</text>\n<text text-anchor=\"middle\" x=\"2337\" y=\"-797.8\" font-family=\"Helvetica,sans-Serif\" font-size=\"14.00\" fill=\"#000000\">samples = 13</text>\n<text text-anchor=\"middle\" x=\"2337\" y=\"-782.8\" font-family=\"Helvetica,sans-Serif\" font-size=\"14.00\" fill=\"#000000\">value = [1, 0, 0, 1, 0, 0, 1, 1, 0, 0, 1, 0, 0, 0</text>\n<text text-anchor=\"middle\" x=\"2337\" y=\"-767.8\" font-family=\"Helvetica,sans-Serif\" font-size=\"14.00\" fill=\"#000000\">0, 1, 1, 0, 0, 0, 0, 0, 0, 0, 0, 0, 0, 0</text>\n<text text-anchor=\"middle\" x=\"2337\" y=\"-752.8\" font-family=\"Helvetica,sans-Serif\" font-size=\"14.00\" fill=\"#000000\">0, 0, 1, 1, 2, 0, 0, 1, 0, 0, 0, 0, 0, 1</text>\n<text text-anchor=\"middle\" x=\"2337\" y=\"-737.8\" font-family=\"Helvetica,sans-Serif\" font-size=\"14.00\" fill=\"#000000\">0, 0]</text>\n</g>\n<!-- 2&#45;&gt;14 -->\n<g id=\"edge14\" class=\"edge\">\n<title>2&#45;&gt;14</title>\n<path fill=\"none\" stroke=\"#000000\" d=\"M2337,-878.7444C2337,-870.442 2337,-861.8273 2337,-853.3464\"/>\n<polygon fill=\"#000000\" stroke=\"#000000\" points=\"2340.5001,-853.0977 2337,-843.0978 2333.5001,-853.0978 2340.5001,-853.0977\"/>\n</g>\n<!-- 4 -->\n<g id=\"node5\" class=\"node\">\n<title>4</title>\n<polygon fill=\"none\" stroke=\"#000000\" points=\"586,-694 302,-694 302,-581 586,-581 586,-694\"/>\n<text text-anchor=\"middle\" x=\"444\" y=\"-678.8\" font-family=\"Helvetica,sans-Serif\" font-size=\"14.00\" fill=\"#000000\">X[0] &lt;= 16.0</text>\n<text text-anchor=\"middle\" x=\"444\" y=\"-663.8\" font-family=\"Helvetica,sans-Serif\" font-size=\"14.00\" fill=\"#000000\">entropy = 1.585</text>\n<text text-anchor=\"middle\" x=\"444\" y=\"-648.8\" font-family=\"Helvetica,sans-Serif\" font-size=\"14.00\" fill=\"#000000\">samples = 3</text>\n<text text-anchor=\"middle\" x=\"444\" y=\"-633.8\" font-family=\"Helvetica,sans-Serif\" font-size=\"14.00\" fill=\"#000000\">value = [0, 0, 0, 0, 1, 0, 0, 0, 0, 0, 0, 0, 0, 0</text>\n<text text-anchor=\"middle\" x=\"444\" y=\"-618.8\" font-family=\"Helvetica,sans-Serif\" font-size=\"14.00\" fill=\"#000000\">1, 0, 0, 0, 0, 0, 0, 0, 0, 0, 0, 0, 1, 0</text>\n<text text-anchor=\"middle\" x=\"444\" y=\"-603.8\" font-family=\"Helvetica,sans-Serif\" font-size=\"14.00\" fill=\"#000000\">0, 0, 0, 0, 0, 0, 0, 0, 0, 0, 0, 0, 0, 0</text>\n<text text-anchor=\"middle\" x=\"444\" y=\"-588.8\" font-family=\"Helvetica,sans-Serif\" font-size=\"14.00\" fill=\"#000000\">0, 0]</text>\n</g>\n<!-- 3&#45;&gt;4 -->\n<g id=\"edge4\" class=\"edge\">\n<title>3&#45;&gt;4</title>\n<path fill=\"none\" stroke=\"#000000\" d=\"M905.6253,-751.3778C812.5714,-728.4224 691.1435,-698.4675 596.1827,-675.0417\"/>\n<polygon fill=\"#000000\" stroke=\"#000000\" points=\"596.75,-671.5768 586.2027,-672.5798 595.0734,-678.3731 596.75,-671.5768\"/>\n</g>\n<!-- 9 -->\n<g id=\"node10\" class=\"node\">\n<title>9</title>\n<polygon fill=\"none\" stroke=\"#000000\" points=\"1190,-694 906,-694 906,-581 1190,-581 1190,-694\"/>\n<text text-anchor=\"middle\" x=\"1048\" y=\"-678.8\" font-family=\"Helvetica,sans-Serif\" font-size=\"14.00\" fill=\"#000000\">X[0] &lt;= 43.0</text>\n<text text-anchor=\"middle\" x=\"1048\" y=\"-663.8\" font-family=\"Helvetica,sans-Serif\" font-size=\"14.00\" fill=\"#000000\">entropy = 1.5</text>\n<text text-anchor=\"middle\" x=\"1048\" y=\"-648.8\" font-family=\"Helvetica,sans-Serif\" font-size=\"14.00\" fill=\"#000000\">samples = 4</text>\n<text text-anchor=\"middle\" x=\"1048\" y=\"-633.8\" font-family=\"Helvetica,sans-Serif\" font-size=\"14.00\" fill=\"#000000\">value = [0, 0, 0, 0, 0, 0, 0, 0, 0, 0, 0, 0, 0, 1</text>\n<text text-anchor=\"middle\" x=\"1048\" y=\"-618.8\" font-family=\"Helvetica,sans-Serif\" font-size=\"14.00\" fill=\"#000000\">0, 0, 0, 0, 0, 0, 0, 0, 1, 0, 0, 0, 0, 0</text>\n<text text-anchor=\"middle\" x=\"1048\" y=\"-603.8\" font-family=\"Helvetica,sans-Serif\" font-size=\"14.00\" fill=\"#000000\">0, 0, 0, 0, 0, 0, 2, 0, 0, 0, 0, 0, 0, 0</text>\n<text text-anchor=\"middle\" x=\"1048\" y=\"-588.8\" font-family=\"Helvetica,sans-Serif\" font-size=\"14.00\" fill=\"#000000\">0, 0]</text>\n</g>\n<!-- 3&#45;&gt;9 -->\n<g id=\"edge9\" class=\"edge\">\n<title>3&#45;&gt;9</title>\n<path fill=\"none\" stroke=\"#000000\" d=\"M1048,-729.7444C1048,-721.442 1048,-712.8273 1048,-704.3464\"/>\n<polygon fill=\"#000000\" stroke=\"#000000\" points=\"1051.5001,-704.0977 1048,-694.0978 1044.5001,-704.0978 1051.5001,-704.0977\"/>\n</g>\n<!-- 5 -->\n<g id=\"node6\" class=\"node\">\n<title>5</title>\n<polygon fill=\"none\" stroke=\"#000000\" points=\"284,-537.5 0,-537.5 0,-439.5 284,-439.5 284,-537.5\"/>\n<text text-anchor=\"middle\" x=\"142\" y=\"-522.3\" font-family=\"Helvetica,sans-Serif\" font-size=\"14.00\" fill=\"#000000\">entropy = 0.0</text>\n<text text-anchor=\"middle\" x=\"142\" y=\"-507.3\" font-family=\"Helvetica,sans-Serif\" font-size=\"14.00\" fill=\"#000000\">samples = 1</text>\n<text text-anchor=\"middle\" x=\"142\" y=\"-492.3\" font-family=\"Helvetica,sans-Serif\" font-size=\"14.00\" fill=\"#000000\">value = [0, 0, 0, 0, 0, 0, 0, 0, 0, 0, 0, 0, 0, 0</text>\n<text text-anchor=\"middle\" x=\"142\" y=\"-477.3\" font-family=\"Helvetica,sans-Serif\" font-size=\"14.00\" fill=\"#000000\">1, 0, 0, 0, 0, 0, 0, 0, 0, 0, 0, 0, 0, 0</text>\n<text text-anchor=\"middle\" x=\"142\" y=\"-462.3\" font-family=\"Helvetica,sans-Serif\" font-size=\"14.00\" fill=\"#000000\">0, 0, 0, 0, 0, 0, 0, 0, 0, 0, 0, 0, 0, 0</text>\n<text text-anchor=\"middle\" x=\"142\" y=\"-447.3\" font-family=\"Helvetica,sans-Serif\" font-size=\"14.00\" fill=\"#000000\">0, 0]</text>\n</g>\n<!-- 4&#45;&gt;5 -->\n<g id=\"edge5\" class=\"edge\">\n<title>4&#45;&gt;5</title>\n<path fill=\"none\" stroke=\"#000000\" d=\"M329.3961,-580.957C303.6863,-568.2724 276.4796,-554.8492 251.0052,-542.2807\"/>\n<polygon fill=\"#000000\" stroke=\"#000000\" points=\"252.2208,-538.9777 241.7042,-537.6918 249.1235,-545.2552 252.2208,-538.9777\"/>\n</g>\n<!-- 6 -->\n<g id=\"node7\" class=\"node\">\n<title>6</title>\n<polygon fill=\"none\" stroke=\"#000000\" points=\"586,-545 302,-545 302,-432 586,-432 586,-545\"/>\n<text text-anchor=\"middle\" x=\"444\" y=\"-529.8\" font-family=\"Helvetica,sans-Serif\" font-size=\"14.00\" fill=\"#000000\">X[2] &lt;= 3.5</text>\n<text text-anchor=\"middle\" x=\"444\" y=\"-514.8\" font-family=\"Helvetica,sans-Serif\" font-size=\"14.00\" fill=\"#000000\">entropy = 1.0</text>\n<text text-anchor=\"middle\" x=\"444\" y=\"-499.8\" font-family=\"Helvetica,sans-Serif\" font-size=\"14.00\" fill=\"#000000\">samples = 2</text>\n<text text-anchor=\"middle\" x=\"444\" y=\"-484.8\" font-family=\"Helvetica,sans-Serif\" font-size=\"14.00\" fill=\"#000000\">value = [0, 0, 0, 0, 1, 0, 0, 0, 0, 0, 0, 0, 0, 0</text>\n<text text-anchor=\"middle\" x=\"444\" y=\"-469.8\" font-family=\"Helvetica,sans-Serif\" font-size=\"14.00\" fill=\"#000000\">0, 0, 0, 0, 0, 0, 0, 0, 0, 0, 0, 0, 1, 0</text>\n<text text-anchor=\"middle\" x=\"444\" y=\"-454.8\" font-family=\"Helvetica,sans-Serif\" font-size=\"14.00\" fill=\"#000000\">0, 0, 0, 0, 0, 0, 0, 0, 0, 0, 0, 0, 0, 0</text>\n<text text-anchor=\"middle\" x=\"444\" y=\"-439.8\" font-family=\"Helvetica,sans-Serif\" font-size=\"14.00\" fill=\"#000000\">0, 0]</text>\n</g>\n<!-- 4&#45;&gt;6 -->\n<g id=\"edge6\" class=\"edge\">\n<title>4&#45;&gt;6</title>\n<path fill=\"none\" stroke=\"#000000\" d=\"M444,-580.7444C444,-572.442 444,-563.8273 444,-555.3464\"/>\n<polygon fill=\"#000000\" stroke=\"#000000\" points=\"447.5001,-555.0977 444,-545.0978 440.5001,-555.0978 447.5001,-555.0977\"/>\n</g>\n<!-- 7 -->\n<g id=\"node8\" class=\"node\">\n<title>7</title>\n<polygon fill=\"none\" stroke=\"#000000\" points=\"284,-388.5 0,-388.5 0,-290.5 284,-290.5 284,-388.5\"/>\n<text text-anchor=\"middle\" x=\"142\" y=\"-373.3\" font-family=\"Helvetica,sans-Serif\" font-size=\"14.00\" fill=\"#000000\">entropy = 0.0</text>\n<text text-anchor=\"middle\" x=\"142\" y=\"-358.3\" font-family=\"Helvetica,sans-Serif\" font-size=\"14.00\" fill=\"#000000\">samples = 1</text>\n<text text-anchor=\"middle\" x=\"142\" y=\"-343.3\" font-family=\"Helvetica,sans-Serif\" font-size=\"14.00\" fill=\"#000000\">value = [0, 0, 0, 0, 1, 0, 0, 0, 0, 0, 0, 0, 0, 0</text>\n<text text-anchor=\"middle\" x=\"142\" y=\"-328.3\" font-family=\"Helvetica,sans-Serif\" font-size=\"14.00\" fill=\"#000000\">0, 0, 0, 0, 0, 0, 0, 0, 0, 0, 0, 0, 0, 0</text>\n<text text-anchor=\"middle\" x=\"142\" y=\"-313.3\" font-family=\"Helvetica,sans-Serif\" font-size=\"14.00\" fill=\"#000000\">0, 0, 0, 0, 0, 0, 0, 0, 0, 0, 0, 0, 0, 0</text>\n<text text-anchor=\"middle\" x=\"142\" y=\"-298.3\" font-family=\"Helvetica,sans-Serif\" font-size=\"14.00\" fill=\"#000000\">0, 0]</text>\n</g>\n<!-- 6&#45;&gt;7 -->\n<g id=\"edge7\" class=\"edge\">\n<title>6&#45;&gt;7</title>\n<path fill=\"none\" stroke=\"#000000\" d=\"M329.3961,-431.957C303.6863,-419.2724 276.4796,-405.8492 251.0052,-393.2807\"/>\n<polygon fill=\"#000000\" stroke=\"#000000\" points=\"252.2208,-389.9777 241.7042,-388.6918 249.1235,-396.2552 252.2208,-389.9777\"/>\n</g>\n<!-- 8 -->\n<g id=\"node9\" class=\"node\">\n<title>8</title>\n<polygon fill=\"none\" stroke=\"#000000\" points=\"586,-388.5 302,-388.5 302,-290.5 586,-290.5 586,-388.5\"/>\n<text text-anchor=\"middle\" x=\"444\" y=\"-373.3\" font-family=\"Helvetica,sans-Serif\" font-size=\"14.00\" fill=\"#000000\">entropy = 0.0</text>\n<text text-anchor=\"middle\" x=\"444\" y=\"-358.3\" font-family=\"Helvetica,sans-Serif\" font-size=\"14.00\" fill=\"#000000\">samples = 1</text>\n<text text-anchor=\"middle\" x=\"444\" y=\"-343.3\" font-family=\"Helvetica,sans-Serif\" font-size=\"14.00\" fill=\"#000000\">value = [0, 0, 0, 0, 0, 0, 0, 0, 0, 0, 0, 0, 0, 0</text>\n<text text-anchor=\"middle\" x=\"444\" y=\"-328.3\" font-family=\"Helvetica,sans-Serif\" font-size=\"14.00\" fill=\"#000000\">0, 0, 0, 0, 0, 0, 0, 0, 0, 0, 0, 0, 1, 0</text>\n<text text-anchor=\"middle\" x=\"444\" y=\"-313.3\" font-family=\"Helvetica,sans-Serif\" font-size=\"14.00\" fill=\"#000000\">0, 0, 0, 0, 0, 0, 0, 0, 0, 0, 0, 0, 0, 0</text>\n<text text-anchor=\"middle\" x=\"444\" y=\"-298.3\" font-family=\"Helvetica,sans-Serif\" font-size=\"14.00\" fill=\"#000000\">0, 0]</text>\n</g>\n<!-- 6&#45;&gt;8 -->\n<g id=\"edge8\" class=\"edge\">\n<title>6&#45;&gt;8</title>\n<path fill=\"none\" stroke=\"#000000\" d=\"M444,-431.7444C444,-421.0249 444,-409.7849 444,-398.9842\"/>\n<polygon fill=\"#000000\" stroke=\"#000000\" points=\"447.5001,-398.7947 444,-388.7948 440.5001,-398.7948 447.5001,-398.7947\"/>\n</g>\n<!-- 10 -->\n<g id=\"node11\" class=\"node\">\n<title>10</title>\n<polygon fill=\"none\" stroke=\"#000000\" points=\"1039,-545 755,-545 755,-432 1039,-432 1039,-545\"/>\n<text text-anchor=\"middle\" x=\"897\" y=\"-529.8\" font-family=\"Helvetica,sans-Serif\" font-size=\"14.00\" fill=\"#000000\">X[0] &lt;= 39.0</text>\n<text text-anchor=\"middle\" x=\"897\" y=\"-514.8\" font-family=\"Helvetica,sans-Serif\" font-size=\"14.00\" fill=\"#000000\">entropy = 1.0</text>\n<text text-anchor=\"middle\" x=\"897\" y=\"-499.8\" font-family=\"Helvetica,sans-Serif\" font-size=\"14.00\" fill=\"#000000\">samples = 2</text>\n<text text-anchor=\"middle\" x=\"897\" y=\"-484.8\" font-family=\"Helvetica,sans-Serif\" font-size=\"14.00\" fill=\"#000000\">value = [0, 0, 0, 0, 0, 0, 0, 0, 0, 0, 0, 0, 0, 1</text>\n<text text-anchor=\"middle\" x=\"897\" y=\"-469.8\" font-family=\"Helvetica,sans-Serif\" font-size=\"14.00\" fill=\"#000000\">0, 0, 0, 0, 0, 0, 0, 0, 1, 0, 0, 0, 0, 0</text>\n<text text-anchor=\"middle\" x=\"897\" y=\"-454.8\" font-family=\"Helvetica,sans-Serif\" font-size=\"14.00\" fill=\"#000000\">0, 0, 0, 0, 0, 0, 0, 0, 0, 0, 0, 0, 0, 0</text>\n<text text-anchor=\"middle\" x=\"897\" y=\"-439.8\" font-family=\"Helvetica,sans-Serif\" font-size=\"14.00\" fill=\"#000000\">0, 0]</text>\n</g>\n<!-- 9&#45;&gt;10 -->\n<g id=\"edge10\" class=\"edge\">\n<title>9&#45;&gt;10</title>\n<path fill=\"none\" stroke=\"#000000\" d=\"M990.4826,-580.7444C981.0516,-571.4384 971.2232,-561.7401 961.6336,-552.2775\"/>\n<polygon fill=\"#000000\" stroke=\"#000000\" points=\"963.9339,-549.6302 954.3575,-545.0978 959.0172,-554.6129 963.9339,-549.6302\"/>\n</g>\n<!-- 13 -->\n<g id=\"node14\" class=\"node\">\n<title>13</title>\n<polygon fill=\"none\" stroke=\"#000000\" points=\"1341,-537.5 1057,-537.5 1057,-439.5 1341,-439.5 1341,-537.5\"/>\n<text text-anchor=\"middle\" x=\"1199\" y=\"-522.3\" font-family=\"Helvetica,sans-Serif\" font-size=\"14.00\" fill=\"#000000\">entropy = 0.0</text>\n<text text-anchor=\"middle\" x=\"1199\" y=\"-507.3\" font-family=\"Helvetica,sans-Serif\" font-size=\"14.00\" fill=\"#000000\">samples = 2</text>\n<text text-anchor=\"middle\" x=\"1199\" y=\"-492.3\" font-family=\"Helvetica,sans-Serif\" font-size=\"14.00\" fill=\"#000000\">value = [0, 0, 0, 0, 0, 0, 0, 0, 0, 0, 0, 0, 0, 0</text>\n<text text-anchor=\"middle\" x=\"1199\" y=\"-477.3\" font-family=\"Helvetica,sans-Serif\" font-size=\"14.00\" fill=\"#000000\">0, 0, 0, 0, 0, 0, 0, 0, 0, 0, 0, 0, 0, 0</text>\n<text text-anchor=\"middle\" x=\"1199\" y=\"-462.3\" font-family=\"Helvetica,sans-Serif\" font-size=\"14.00\" fill=\"#000000\">0, 0, 0, 0, 0, 0, 2, 0, 0, 0, 0, 0, 0, 0</text>\n<text text-anchor=\"middle\" x=\"1199\" y=\"-447.3\" font-family=\"Helvetica,sans-Serif\" font-size=\"14.00\" fill=\"#000000\">0, 0]</text>\n</g>\n<!-- 9&#45;&gt;13 -->\n<g id=\"edge13\" class=\"edge\">\n<title>9&#45;&gt;13</title>\n<path fill=\"none\" stroke=\"#000000\" d=\"M1105.5174,-580.7444C1117.3888,-569.0303 1129.89,-556.6946 1141.7519,-544.9899\"/>\n<polygon fill=\"#000000\" stroke=\"#000000\" points=\"1144.3838,-547.3099 1149.0435,-537.7948 1139.4671,-542.3273 1144.3838,-547.3099\"/>\n</g>\n<!-- 11 -->\n<g id=\"node12\" class=\"node\">\n<title>11</title>\n<polygon fill=\"none\" stroke=\"#000000\" points=\"888,-388.5 604,-388.5 604,-290.5 888,-290.5 888,-388.5\"/>\n<text text-anchor=\"middle\" x=\"746\" y=\"-373.3\" font-family=\"Helvetica,sans-Serif\" font-size=\"14.00\" fill=\"#000000\">entropy = 0.0</text>\n<text text-anchor=\"middle\" x=\"746\" y=\"-358.3\" font-family=\"Helvetica,sans-Serif\" font-size=\"14.00\" fill=\"#000000\">samples = 1</text>\n<text text-anchor=\"middle\" x=\"746\" y=\"-343.3\" font-family=\"Helvetica,sans-Serif\" font-size=\"14.00\" fill=\"#000000\">value = [0, 0, 0, 0, 0, 0, 0, 0, 0, 0, 0, 0, 0, 1</text>\n<text text-anchor=\"middle\" x=\"746\" y=\"-328.3\" font-family=\"Helvetica,sans-Serif\" font-size=\"14.00\" fill=\"#000000\">0, 0, 0, 0, 0, 0, 0, 0, 0, 0, 0, 0, 0, 0</text>\n<text text-anchor=\"middle\" x=\"746\" y=\"-313.3\" font-family=\"Helvetica,sans-Serif\" font-size=\"14.00\" fill=\"#000000\">0, 0, 0, 0, 0, 0, 0, 0, 0, 0, 0, 0, 0, 0</text>\n<text text-anchor=\"middle\" x=\"746\" y=\"-298.3\" font-family=\"Helvetica,sans-Serif\" font-size=\"14.00\" fill=\"#000000\">0, 0]</text>\n</g>\n<!-- 10&#45;&gt;11 -->\n<g id=\"edge11\" class=\"edge\">\n<title>10&#45;&gt;11</title>\n<path fill=\"none\" stroke=\"#000000\" d=\"M839.4826,-431.7444C827.6112,-420.0303 815.11,-407.6946 803.2481,-395.9899\"/>\n<polygon fill=\"#000000\" stroke=\"#000000\" points=\"805.5329,-393.3273 795.9565,-388.7948 800.6162,-398.3099 805.5329,-393.3273\"/>\n</g>\n<!-- 12 -->\n<g id=\"node13\" class=\"node\">\n<title>12</title>\n<polygon fill=\"none\" stroke=\"#000000\" points=\"1190,-388.5 906,-388.5 906,-290.5 1190,-290.5 1190,-388.5\"/>\n<text text-anchor=\"middle\" x=\"1048\" y=\"-373.3\" font-family=\"Helvetica,sans-Serif\" font-size=\"14.00\" fill=\"#000000\">entropy = 0.0</text>\n<text text-anchor=\"middle\" x=\"1048\" y=\"-358.3\" font-family=\"Helvetica,sans-Serif\" font-size=\"14.00\" fill=\"#000000\">samples = 1</text>\n<text text-anchor=\"middle\" x=\"1048\" y=\"-343.3\" font-family=\"Helvetica,sans-Serif\" font-size=\"14.00\" fill=\"#000000\">value = [0, 0, 0, 0, 0, 0, 0, 0, 0, 0, 0, 0, 0, 0</text>\n<text text-anchor=\"middle\" x=\"1048\" y=\"-328.3\" font-family=\"Helvetica,sans-Serif\" font-size=\"14.00\" fill=\"#000000\">0, 0, 0, 0, 0, 0, 0, 0, 1, 0, 0, 0, 0, 0</text>\n<text text-anchor=\"middle\" x=\"1048\" y=\"-313.3\" font-family=\"Helvetica,sans-Serif\" font-size=\"14.00\" fill=\"#000000\">0, 0, 0, 0, 0, 0, 0, 0, 0, 0, 0, 0, 0, 0</text>\n<text text-anchor=\"middle\" x=\"1048\" y=\"-298.3\" font-family=\"Helvetica,sans-Serif\" font-size=\"14.00\" fill=\"#000000\">0, 0]</text>\n</g>\n<!-- 10&#45;&gt;12 -->\n<g id=\"edge12\" class=\"edge\">\n<title>10&#45;&gt;12</title>\n<path fill=\"none\" stroke=\"#000000\" d=\"M954.5174,-431.7444C966.3888,-420.0303 978.89,-407.6946 990.7519,-395.9899\"/>\n<polygon fill=\"#000000\" stroke=\"#000000\" points=\"993.3838,-398.3099 998.0435,-388.7948 988.4671,-393.3273 993.3838,-398.3099\"/>\n</g>\n<!-- 15 -->\n<g id=\"node16\" class=\"node\">\n<title>15</title>\n<polygon fill=\"none\" stroke=\"#000000\" points=\"2247,-694 1963,-694 1963,-581 2247,-581 2247,-694\"/>\n<text text-anchor=\"middle\" x=\"2105\" y=\"-678.8\" font-family=\"Helvetica,sans-Serif\" font-size=\"14.00\" fill=\"#000000\">X[2] &lt;= 7.0</text>\n<text text-anchor=\"middle\" x=\"2105\" y=\"-663.8\" font-family=\"Helvetica,sans-Serif\" font-size=\"14.00\" fill=\"#000000\">entropy = 2.0</text>\n<text text-anchor=\"middle\" x=\"2105\" y=\"-648.8\" font-family=\"Helvetica,sans-Serif\" font-size=\"14.00\" fill=\"#000000\">samples = 4</text>\n<text text-anchor=\"middle\" x=\"2105\" y=\"-633.8\" font-family=\"Helvetica,sans-Serif\" font-size=\"14.00\" fill=\"#000000\">value = [0, 0, 0, 0, 0, 0, 1, 0, 0, 0, 1, 0, 0, 0</text>\n<text text-anchor=\"middle\" x=\"2105\" y=\"-618.8\" font-family=\"Helvetica,sans-Serif\" font-size=\"14.00\" fill=\"#000000\">0, 0, 1, 0, 0, 0, 0, 0, 0, 0, 0, 0, 0, 0</text>\n<text text-anchor=\"middle\" x=\"2105\" y=\"-603.8\" font-family=\"Helvetica,sans-Serif\" font-size=\"14.00\" fill=\"#000000\">0, 0, 0, 0, 0, 0, 0, 0, 0, 0, 0, 0, 0, 1</text>\n<text text-anchor=\"middle\" x=\"2105\" y=\"-588.8\" font-family=\"Helvetica,sans-Serif\" font-size=\"14.00\" fill=\"#000000\">0, 0]</text>\n</g>\n<!-- 14&#45;&gt;15 -->\n<g id=\"edge15\" class=\"edge\">\n<title>14&#45;&gt;15</title>\n<path fill=\"none\" stroke=\"#000000\" d=\"M2248.9599,-729.957C2233.4935,-720.0239 2217.322,-709.6378 2201.6365,-699.564\"/>\n<polygon fill=\"#000000\" stroke=\"#000000\" points=\"2203.2855,-696.4634 2192.98,-694.0044 2199.5027,-702.3533 2203.2855,-696.4634\"/>\n</g>\n<!-- 22 -->\n<g id=\"node23\" class=\"node\">\n<title>22</title>\n<polygon fill=\"none\" stroke=\"#000000\" points=\"2922,-694 2638,-694 2638,-581 2922,-581 2922,-694\"/>\n<text text-anchor=\"middle\" x=\"2780\" y=\"-678.8\" font-family=\"Helvetica,sans-Serif\" font-size=\"14.00\" fill=\"#000000\">X[0] &lt;= 34.0</text>\n<text text-anchor=\"middle\" x=\"2780\" y=\"-663.8\" font-family=\"Helvetica,sans-Serif\" font-size=\"14.00\" fill=\"#000000\">entropy = 2.948</text>\n<text text-anchor=\"middle\" x=\"2780\" y=\"-648.8\" font-family=\"Helvetica,sans-Serif\" font-size=\"14.00\" fill=\"#000000\">samples = 9</text>\n<text text-anchor=\"middle\" x=\"2780\" y=\"-633.8\" font-family=\"Helvetica,sans-Serif\" font-size=\"14.00\" fill=\"#000000\">value = [1, 0, 0, 1, 0, 0, 0, 1, 0, 0, 0, 0, 0, 0</text>\n<text text-anchor=\"middle\" x=\"2780\" y=\"-618.8\" font-family=\"Helvetica,sans-Serif\" font-size=\"14.00\" fill=\"#000000\">0, 1, 0, 0, 0, 0, 0, 0, 0, 0, 0, 0, 0, 0</text>\n<text text-anchor=\"middle\" x=\"2780\" y=\"-603.8\" font-family=\"Helvetica,sans-Serif\" font-size=\"14.00\" fill=\"#000000\">0, 0, 1, 1, 2, 0, 0, 1, 0, 0, 0, 0, 0, 0</text>\n<text text-anchor=\"middle\" x=\"2780\" y=\"-588.8\" font-family=\"Helvetica,sans-Serif\" font-size=\"14.00\" fill=\"#000000\">0, 0]</text>\n</g>\n<!-- 14&#45;&gt;22 -->\n<g id=\"edge22\" class=\"edge\">\n<title>14&#45;&gt;22</title>\n<path fill=\"none\" stroke=\"#000000\" d=\"M2479.3011,-738.638C2526.8585,-722.6424 2580.0255,-704.7601 2628.2733,-688.5322\"/>\n<polygon fill=\"#000000\" stroke=\"#000000\" points=\"2629.4918,-691.8152 2637.8542,-685.3098 2627.2602,-685.1804 2629.4918,-691.8152\"/>\n</g>\n<!-- 16 -->\n<g id=\"node17\" class=\"node\">\n<title>16</title>\n<polygon fill=\"none\" stroke=\"#000000\" points=\"1794,-545 1510,-545 1510,-432 1794,-432 1794,-545\"/>\n<text text-anchor=\"middle\" x=\"1652\" y=\"-529.8\" font-family=\"Helvetica,sans-Serif\" font-size=\"14.00\" fill=\"#000000\">X[0] &lt;= 7.0</text>\n<text text-anchor=\"middle\" x=\"1652\" y=\"-514.8\" font-family=\"Helvetica,sans-Serif\" font-size=\"14.00\" fill=\"#000000\">entropy = 1.0</text>\n<text text-anchor=\"middle\" x=\"1652\" y=\"-499.8\" font-family=\"Helvetica,sans-Serif\" font-size=\"14.00\" fill=\"#000000\">samples = 2</text>\n<text text-anchor=\"middle\" x=\"1652\" y=\"-484.8\" font-family=\"Helvetica,sans-Serif\" font-size=\"14.00\" fill=\"#000000\">value = [0, 0, 0, 0, 0, 0, 1, 0, 0, 0, 0, 0, 0, 0</text>\n<text text-anchor=\"middle\" x=\"1652\" y=\"-469.8\" font-family=\"Helvetica,sans-Serif\" font-size=\"14.00\" fill=\"#000000\">0, 0, 1, 0, 0, 0, 0, 0, 0, 0, 0, 0, 0, 0</text>\n<text text-anchor=\"middle\" x=\"1652\" y=\"-454.8\" font-family=\"Helvetica,sans-Serif\" font-size=\"14.00\" fill=\"#000000\">0, 0, 0, 0, 0, 0, 0, 0, 0, 0, 0, 0, 0, 0</text>\n<text text-anchor=\"middle\" x=\"1652\" y=\"-439.8\" font-family=\"Helvetica,sans-Serif\" font-size=\"14.00\" fill=\"#000000\">0, 0]</text>\n</g>\n<!-- 15&#45;&gt;16 -->\n<g id=\"edge16\" class=\"edge\">\n<title>15&#45;&gt;16</title>\n<path fill=\"none\" stroke=\"#000000\" d=\"M1962.9109,-590.7643C1912.3471,-574.1329 1855.2341,-555.3474 1803.8819,-538.4567\"/>\n<polygon fill=\"#000000\" stroke=\"#000000\" points=\"1804.9562,-535.1257 1794.3632,-535.3259 1802.769,-541.7752 1804.9562,-535.1257\"/>\n</g>\n<!-- 19 -->\n<g id=\"node20\" class=\"node\">\n<title>19</title>\n<polygon fill=\"none\" stroke=\"#000000\" points=\"2247,-545 1963,-545 1963,-432 2247,-432 2247,-545\"/>\n<text text-anchor=\"middle\" x=\"2105\" y=\"-529.8\" font-family=\"Helvetica,sans-Serif\" font-size=\"14.00\" fill=\"#000000\">X[2] &lt;= 11.0</text>\n<text text-anchor=\"middle\" x=\"2105\" y=\"-514.8\" font-family=\"Helvetica,sans-Serif\" font-size=\"14.00\" fill=\"#000000\">entropy = 1.0</text>\n<text text-anchor=\"middle\" x=\"2105\" y=\"-499.8\" font-family=\"Helvetica,sans-Serif\" font-size=\"14.00\" fill=\"#000000\">samples = 2</text>\n<text text-anchor=\"middle\" x=\"2105\" y=\"-484.8\" font-family=\"Helvetica,sans-Serif\" font-size=\"14.00\" fill=\"#000000\">value = [0, 0, 0, 0, 0, 0, 0, 0, 0, 0, 1, 0, 0, 0</text>\n<text text-anchor=\"middle\" x=\"2105\" y=\"-469.8\" font-family=\"Helvetica,sans-Serif\" font-size=\"14.00\" fill=\"#000000\">0, 0, 0, 0, 0, 0, 0, 0, 0, 0, 0, 0, 0, 0</text>\n<text text-anchor=\"middle\" x=\"2105\" y=\"-454.8\" font-family=\"Helvetica,sans-Serif\" font-size=\"14.00\" fill=\"#000000\">0, 0, 0, 0, 0, 0, 0, 0, 0, 0, 0, 0, 0, 1</text>\n<text text-anchor=\"middle\" x=\"2105\" y=\"-439.8\" font-family=\"Helvetica,sans-Serif\" font-size=\"14.00\" fill=\"#000000\">0, 0]</text>\n</g>\n<!-- 15&#45;&gt;19 -->\n<g id=\"edge19\" class=\"edge\">\n<title>15&#45;&gt;19</title>\n<path fill=\"none\" stroke=\"#000000\" d=\"M2105,-580.7444C2105,-572.442 2105,-563.8273 2105,-555.3464\"/>\n<polygon fill=\"#000000\" stroke=\"#000000\" points=\"2108.5001,-555.0977 2105,-545.0978 2101.5001,-555.0978 2108.5001,-555.0977\"/>\n</g>\n<!-- 17 -->\n<g id=\"node18\" class=\"node\">\n<title>17</title>\n<polygon fill=\"none\" stroke=\"#000000\" points=\"1492,-388.5 1208,-388.5 1208,-290.5 1492,-290.5 1492,-388.5\"/>\n<text text-anchor=\"middle\" x=\"1350\" y=\"-373.3\" font-family=\"Helvetica,sans-Serif\" font-size=\"14.00\" fill=\"#000000\">entropy = 0.0</text>\n<text text-anchor=\"middle\" x=\"1350\" y=\"-358.3\" font-family=\"Helvetica,sans-Serif\" font-size=\"14.00\" fill=\"#000000\">samples = 1</text>\n<text text-anchor=\"middle\" x=\"1350\" y=\"-343.3\" font-family=\"Helvetica,sans-Serif\" font-size=\"14.00\" fill=\"#000000\">value = [0, 0, 0, 0, 0, 0, 0, 0, 0, 0, 0, 0, 0, 0</text>\n<text text-anchor=\"middle\" x=\"1350\" y=\"-328.3\" font-family=\"Helvetica,sans-Serif\" font-size=\"14.00\" fill=\"#000000\">0, 0, 1, 0, 0, 0, 0, 0, 0, 0, 0, 0, 0, 0</text>\n<text text-anchor=\"middle\" x=\"1350\" y=\"-313.3\" font-family=\"Helvetica,sans-Serif\" font-size=\"14.00\" fill=\"#000000\">0, 0, 0, 0, 0, 0, 0, 0, 0, 0, 0, 0, 0, 0</text>\n<text text-anchor=\"middle\" x=\"1350\" y=\"-298.3\" font-family=\"Helvetica,sans-Serif\" font-size=\"14.00\" fill=\"#000000\">0, 0]</text>\n</g>\n<!-- 16&#45;&gt;17 -->\n<g id=\"edge17\" class=\"edge\">\n<title>16&#45;&gt;17</title>\n<path fill=\"none\" stroke=\"#000000\" d=\"M1537.3961,-431.957C1511.6863,-419.2724 1484.4796,-405.8492 1459.0052,-393.2807\"/>\n<polygon fill=\"#000000\" stroke=\"#000000\" points=\"1460.2208,-389.9777 1449.7042,-388.6918 1457.1235,-396.2552 1460.2208,-389.9777\"/>\n</g>\n<!-- 18 -->\n<g id=\"node19\" class=\"node\">\n<title>18</title>\n<polygon fill=\"none\" stroke=\"#000000\" points=\"1794,-388.5 1510,-388.5 1510,-290.5 1794,-290.5 1794,-388.5\"/>\n<text text-anchor=\"middle\" x=\"1652\" y=\"-373.3\" font-family=\"Helvetica,sans-Serif\" font-size=\"14.00\" fill=\"#000000\">entropy = 0.0</text>\n<text text-anchor=\"middle\" x=\"1652\" y=\"-358.3\" font-family=\"Helvetica,sans-Serif\" font-size=\"14.00\" fill=\"#000000\">samples = 1</text>\n<text text-anchor=\"middle\" x=\"1652\" y=\"-343.3\" font-family=\"Helvetica,sans-Serif\" font-size=\"14.00\" fill=\"#000000\">value = [0, 0, 0, 0, 0, 0, 1, 0, 0, 0, 0, 0, 0, 0</text>\n<text text-anchor=\"middle\" x=\"1652\" y=\"-328.3\" font-family=\"Helvetica,sans-Serif\" font-size=\"14.00\" fill=\"#000000\">0, 0, 0, 0, 0, 0, 0, 0, 0, 0, 0, 0, 0, 0</text>\n<text text-anchor=\"middle\" x=\"1652\" y=\"-313.3\" font-family=\"Helvetica,sans-Serif\" font-size=\"14.00\" fill=\"#000000\">0, 0, 0, 0, 0, 0, 0, 0, 0, 0, 0, 0, 0, 0</text>\n<text text-anchor=\"middle\" x=\"1652\" y=\"-298.3\" font-family=\"Helvetica,sans-Serif\" font-size=\"14.00\" fill=\"#000000\">0, 0]</text>\n</g>\n<!-- 16&#45;&gt;18 -->\n<g id=\"edge18\" class=\"edge\">\n<title>16&#45;&gt;18</title>\n<path fill=\"none\" stroke=\"#000000\" d=\"M1652,-431.7444C1652,-421.0249 1652,-409.7849 1652,-398.9842\"/>\n<polygon fill=\"#000000\" stroke=\"#000000\" points=\"1655.5001,-398.7947 1652,-388.7948 1648.5001,-398.7948 1655.5001,-398.7947\"/>\n</g>\n<!-- 20 -->\n<g id=\"node21\" class=\"node\">\n<title>20</title>\n<polygon fill=\"none\" stroke=\"#000000\" points=\"2096,-388.5 1812,-388.5 1812,-290.5 2096,-290.5 2096,-388.5\"/>\n<text text-anchor=\"middle\" x=\"1954\" y=\"-373.3\" font-family=\"Helvetica,sans-Serif\" font-size=\"14.00\" fill=\"#000000\">entropy = 0.0</text>\n<text text-anchor=\"middle\" x=\"1954\" y=\"-358.3\" font-family=\"Helvetica,sans-Serif\" font-size=\"14.00\" fill=\"#000000\">samples = 1</text>\n<text text-anchor=\"middle\" x=\"1954\" y=\"-343.3\" font-family=\"Helvetica,sans-Serif\" font-size=\"14.00\" fill=\"#000000\">value = [0, 0, 0, 0, 0, 0, 0, 0, 0, 0, 1, 0, 0, 0</text>\n<text text-anchor=\"middle\" x=\"1954\" y=\"-328.3\" font-family=\"Helvetica,sans-Serif\" font-size=\"14.00\" fill=\"#000000\">0, 0, 0, 0, 0, 0, 0, 0, 0, 0, 0, 0, 0, 0</text>\n<text text-anchor=\"middle\" x=\"1954\" y=\"-313.3\" font-family=\"Helvetica,sans-Serif\" font-size=\"14.00\" fill=\"#000000\">0, 0, 0, 0, 0, 0, 0, 0, 0, 0, 0, 0, 0, 0</text>\n<text text-anchor=\"middle\" x=\"1954\" y=\"-298.3\" font-family=\"Helvetica,sans-Serif\" font-size=\"14.00\" fill=\"#000000\">0, 0]</text>\n</g>\n<!-- 19&#45;&gt;20 -->\n<g id=\"edge20\" class=\"edge\">\n<title>19&#45;&gt;20</title>\n<path fill=\"none\" stroke=\"#000000\" d=\"M2047.4826,-431.7444C2035.6112,-420.0303 2023.11,-407.6946 2011.2481,-395.9899\"/>\n<polygon fill=\"#000000\" stroke=\"#000000\" points=\"2013.5329,-393.3273 2003.9565,-388.7948 2008.6162,-398.3099 2013.5329,-393.3273\"/>\n</g>\n<!-- 21 -->\n<g id=\"node22\" class=\"node\">\n<title>21</title>\n<polygon fill=\"none\" stroke=\"#000000\" points=\"2398,-388.5 2114,-388.5 2114,-290.5 2398,-290.5 2398,-388.5\"/>\n<text text-anchor=\"middle\" x=\"2256\" y=\"-373.3\" font-family=\"Helvetica,sans-Serif\" font-size=\"14.00\" fill=\"#000000\">entropy = 0.0</text>\n<text text-anchor=\"middle\" x=\"2256\" y=\"-358.3\" font-family=\"Helvetica,sans-Serif\" font-size=\"14.00\" fill=\"#000000\">samples = 1</text>\n<text text-anchor=\"middle\" x=\"2256\" y=\"-343.3\" font-family=\"Helvetica,sans-Serif\" font-size=\"14.00\" fill=\"#000000\">value = [0, 0, 0, 0, 0, 0, 0, 0, 0, 0, 0, 0, 0, 0</text>\n<text text-anchor=\"middle\" x=\"2256\" y=\"-328.3\" font-family=\"Helvetica,sans-Serif\" font-size=\"14.00\" fill=\"#000000\">0, 0, 0, 0, 0, 0, 0, 0, 0, 0, 0, 0, 0, 0</text>\n<text text-anchor=\"middle\" x=\"2256\" y=\"-313.3\" font-family=\"Helvetica,sans-Serif\" font-size=\"14.00\" fill=\"#000000\">0, 0, 0, 0, 0, 0, 0, 0, 0, 0, 0, 0, 0, 1</text>\n<text text-anchor=\"middle\" x=\"2256\" y=\"-298.3\" font-family=\"Helvetica,sans-Serif\" font-size=\"14.00\" fill=\"#000000\">0, 0]</text>\n</g>\n<!-- 19&#45;&gt;21 -->\n<g id=\"edge21\" class=\"edge\">\n<title>19&#45;&gt;21</title>\n<path fill=\"none\" stroke=\"#000000\" d=\"M2162.5174,-431.7444C2174.3888,-420.0303 2186.89,-407.6946 2198.7519,-395.9899\"/>\n<polygon fill=\"#000000\" stroke=\"#000000\" points=\"2201.3838,-398.3099 2206.0435,-388.7948 2196.4671,-393.3273 2201.3838,-398.3099\"/>\n</g>\n<!-- 23 -->\n<g id=\"node24\" class=\"node\">\n<title>23</title>\n<polygon fill=\"none\" stroke=\"#000000\" points=\"2922,-545 2638,-545 2638,-432 2922,-432 2922,-545\"/>\n<text text-anchor=\"middle\" x=\"2780\" y=\"-529.8\" font-family=\"Helvetica,sans-Serif\" font-size=\"14.00\" fill=\"#000000\">X[0] &lt;= 29.0</text>\n<text text-anchor=\"middle\" x=\"2780\" y=\"-514.8\" font-family=\"Helvetica,sans-Serif\" font-size=\"14.00\" fill=\"#000000\">entropy = 2.0</text>\n<text text-anchor=\"middle\" x=\"2780\" y=\"-499.8\" font-family=\"Helvetica,sans-Serif\" font-size=\"14.00\" fill=\"#000000\">samples = 4</text>\n<text text-anchor=\"middle\" x=\"2780\" y=\"-484.8\" font-family=\"Helvetica,sans-Serif\" font-size=\"14.00\" fill=\"#000000\">value = [0, 0, 0, 1, 0, 0, 0, 0, 0, 0, 0, 0, 0, 0</text>\n<text text-anchor=\"middle\" x=\"2780\" y=\"-469.8\" font-family=\"Helvetica,sans-Serif\" font-size=\"14.00\" fill=\"#000000\">0, 0, 0, 0, 0, 0, 0, 0, 0, 0, 0, 0, 0, 0</text>\n<text text-anchor=\"middle\" x=\"2780\" y=\"-454.8\" font-family=\"Helvetica,sans-Serif\" font-size=\"14.00\" fill=\"#000000\">0, 0, 1, 1, 1, 0, 0, 0, 0, 0, 0, 0, 0, 0</text>\n<text text-anchor=\"middle\" x=\"2780\" y=\"-439.8\" font-family=\"Helvetica,sans-Serif\" font-size=\"14.00\" fill=\"#000000\">0, 0]</text>\n</g>\n<!-- 22&#45;&gt;23 -->\n<g id=\"edge23\" class=\"edge\">\n<title>22&#45;&gt;23</title>\n<path fill=\"none\" stroke=\"#000000\" d=\"M2780,-580.7444C2780,-572.442 2780,-563.8273 2780,-555.3464\"/>\n<polygon fill=\"#000000\" stroke=\"#000000\" points=\"2783.5001,-555.0977 2780,-545.0978 2776.5001,-555.0978 2783.5001,-555.0977\"/>\n</g>\n<!-- 30 -->\n<g id=\"node31\" class=\"node\">\n<title>30</title>\n<polygon fill=\"none\" stroke=\"#000000\" points=\"3365,-545 3081,-545 3081,-432 3365,-432 3365,-545\"/>\n<text text-anchor=\"middle\" x=\"3223\" y=\"-529.8\" font-family=\"Helvetica,sans-Serif\" font-size=\"14.00\" fill=\"#000000\">X[0] &lt;= 38.0</text>\n<text text-anchor=\"middle\" x=\"3223\" y=\"-514.8\" font-family=\"Helvetica,sans-Serif\" font-size=\"14.00\" fill=\"#000000\">entropy = 2.322</text>\n<text text-anchor=\"middle\" x=\"3223\" y=\"-499.8\" font-family=\"Helvetica,sans-Serif\" font-size=\"14.00\" fill=\"#000000\">samples = 5</text>\n<text text-anchor=\"middle\" x=\"3223\" y=\"-484.8\" font-family=\"Helvetica,sans-Serif\" font-size=\"14.00\" fill=\"#000000\">value = [1, 0, 0, 0, 0, 0, 0, 1, 0, 0, 0, 0, 0, 0</text>\n<text text-anchor=\"middle\" x=\"3223\" y=\"-469.8\" font-family=\"Helvetica,sans-Serif\" font-size=\"14.00\" fill=\"#000000\">0, 1, 0, 0, 0, 0, 0, 0, 0, 0, 0, 0, 0, 0</text>\n<text text-anchor=\"middle\" x=\"3223\" y=\"-454.8\" font-family=\"Helvetica,sans-Serif\" font-size=\"14.00\" fill=\"#000000\">0, 0, 0, 0, 1, 0, 0, 1, 0, 0, 0, 0, 0, 0</text>\n<text text-anchor=\"middle\" x=\"3223\" y=\"-439.8\" font-family=\"Helvetica,sans-Serif\" font-size=\"14.00\" fill=\"#000000\">0, 0]</text>\n</g>\n<!-- 22&#45;&gt;30 -->\n<g id=\"edge30\" class=\"edge\">\n<title>22&#45;&gt;30</title>\n<path fill=\"none\" stroke=\"#000000\" d=\"M2922.3011,-589.638C2969.8585,-573.6424 3023.0255,-555.7601 3071.2733,-539.5322\"/>\n<polygon fill=\"#000000\" stroke=\"#000000\" points=\"3072.4918,-542.8152 3080.8542,-536.3098 3070.2602,-536.1804 3072.4918,-542.8152\"/>\n</g>\n<!-- 24 -->\n<g id=\"node25\" class=\"node\">\n<title>24</title>\n<polygon fill=\"none\" stroke=\"#000000\" points=\"2700,-396 2416,-396 2416,-283 2700,-283 2700,-396\"/>\n<text text-anchor=\"middle\" x=\"2558\" y=\"-380.8\" font-family=\"Helvetica,sans-Serif\" font-size=\"14.00\" fill=\"#000000\">X[0] &lt;= 25.0</text>\n<text text-anchor=\"middle\" x=\"2558\" y=\"-365.8\" font-family=\"Helvetica,sans-Serif\" font-size=\"14.00\" fill=\"#000000\">entropy = 1.0</text>\n<text text-anchor=\"middle\" x=\"2558\" y=\"-350.8\" font-family=\"Helvetica,sans-Serif\" font-size=\"14.00\" fill=\"#000000\">samples = 2</text>\n<text text-anchor=\"middle\" x=\"2558\" y=\"-335.8\" font-family=\"Helvetica,sans-Serif\" font-size=\"14.00\" fill=\"#000000\">value = [0, 0, 0, 1, 0, 0, 0, 0, 0, 0, 0, 0, 0, 0</text>\n<text text-anchor=\"middle\" x=\"2558\" y=\"-320.8\" font-family=\"Helvetica,sans-Serif\" font-size=\"14.00\" fill=\"#000000\">0, 0, 0, 0, 0, 0, 0, 0, 0, 0, 0, 0, 0, 0</text>\n<text text-anchor=\"middle\" x=\"2558\" y=\"-305.8\" font-family=\"Helvetica,sans-Serif\" font-size=\"14.00\" fill=\"#000000\">0, 0, 0, 0, 1, 0, 0, 0, 0, 0, 0, 0, 0, 0</text>\n<text text-anchor=\"middle\" x=\"2558\" y=\"-290.8\" font-family=\"Helvetica,sans-Serif\" font-size=\"14.00\" fill=\"#000000\">0, 0]</text>\n</g>\n<!-- 23&#45;&gt;24 -->\n<g id=\"edge24\" class=\"edge\">\n<title>23&#45;&gt;24</title>\n<path fill=\"none\" stroke=\"#000000\" d=\"M2695.7548,-431.957C2681.0921,-422.1158 2665.767,-411.8301 2650.8882,-401.8439\"/>\n<polygon fill=\"#000000\" stroke=\"#000000\" points=\"2652.4414,-398.6712 2642.1877,-396.0044 2648.5404,-404.4834 2652.4414,-398.6712\"/>\n</g>\n<!-- 27 -->\n<g id=\"node28\" class=\"node\">\n<title>27</title>\n<polygon fill=\"none\" stroke=\"#000000\" points=\"3002,-396 2718,-396 2718,-283 3002,-283 3002,-396\"/>\n<text text-anchor=\"middle\" x=\"2860\" y=\"-380.8\" font-family=\"Helvetica,sans-Serif\" font-size=\"14.00\" fill=\"#000000\">X[0] &lt;= 32.5</text>\n<text text-anchor=\"middle\" x=\"2860\" y=\"-365.8\" font-family=\"Helvetica,sans-Serif\" font-size=\"14.00\" fill=\"#000000\">entropy = 1.0</text>\n<text text-anchor=\"middle\" x=\"2860\" y=\"-350.8\" font-family=\"Helvetica,sans-Serif\" font-size=\"14.00\" fill=\"#000000\">samples = 2</text>\n<text text-anchor=\"middle\" x=\"2860\" y=\"-335.8\" font-family=\"Helvetica,sans-Serif\" font-size=\"14.00\" fill=\"#000000\">value = [0, 0, 0, 0, 0, 0, 0, 0, 0, 0, 0, 0, 0, 0</text>\n<text text-anchor=\"middle\" x=\"2860\" y=\"-320.8\" font-family=\"Helvetica,sans-Serif\" font-size=\"14.00\" fill=\"#000000\">0, 0, 0, 0, 0, 0, 0, 0, 0, 0, 0, 0, 0, 0</text>\n<text text-anchor=\"middle\" x=\"2860\" y=\"-305.8\" font-family=\"Helvetica,sans-Serif\" font-size=\"14.00\" fill=\"#000000\">0, 0, 1, 1, 0, 0, 0, 0, 0, 0, 0, 0, 0, 0</text>\n<text text-anchor=\"middle\" x=\"2860\" y=\"-290.8\" font-family=\"Helvetica,sans-Serif\" font-size=\"14.00\" fill=\"#000000\">0, 0]</text>\n</g>\n<!-- 23&#45;&gt;27 -->\n<g id=\"edge27\" class=\"edge\">\n<title>23&#45;&gt;27</title>\n<path fill=\"none\" stroke=\"#000000\" d=\"M2810.4728,-431.7444C2815.1754,-422.9858 2820.0646,-413.8797 2824.8592,-404.9497\"/>\n<polygon fill=\"#000000\" stroke=\"#000000\" points=\"2827.9651,-406.5638 2829.6119,-396.0978 2821.7978,-403.2525 2827.9651,-406.5638\"/>\n</g>\n<!-- 25 -->\n<g id=\"node26\" class=\"node\">\n<title>25</title>\n<polygon fill=\"none\" stroke=\"#000000\" points=\"2176,-239.5 1892,-239.5 1892,-141.5 2176,-141.5 2176,-239.5\"/>\n<text text-anchor=\"middle\" x=\"2034\" y=\"-224.3\" font-family=\"Helvetica,sans-Serif\" font-size=\"14.00\" fill=\"#000000\">entropy = 0.0</text>\n<text text-anchor=\"middle\" x=\"2034\" y=\"-209.3\" font-family=\"Helvetica,sans-Serif\" font-size=\"14.00\" fill=\"#000000\">samples = 1</text>\n<text text-anchor=\"middle\" x=\"2034\" y=\"-194.3\" font-family=\"Helvetica,sans-Serif\" font-size=\"14.00\" fill=\"#000000\">value = [0, 0, 0, 0, 0, 0, 0, 0, 0, 0, 0, 0, 0, 0</text>\n<text text-anchor=\"middle\" x=\"2034\" y=\"-179.3\" font-family=\"Helvetica,sans-Serif\" font-size=\"14.00\" fill=\"#000000\">0, 0, 0, 0, 0, 0, 0, 0, 0, 0, 0, 0, 0, 0</text>\n<text text-anchor=\"middle\" x=\"2034\" y=\"-164.3\" font-family=\"Helvetica,sans-Serif\" font-size=\"14.00\" fill=\"#000000\">0, 0, 0, 0, 1, 0, 0, 0, 0, 0, 0, 0, 0, 0</text>\n<text text-anchor=\"middle\" x=\"2034\" y=\"-149.3\" font-family=\"Helvetica,sans-Serif\" font-size=\"14.00\" fill=\"#000000\">0, 0]</text>\n</g>\n<!-- 24&#45;&gt;25 -->\n<g id=\"edge25\" class=\"edge\">\n<title>24&#45;&gt;25</title>\n<path fill=\"none\" stroke=\"#000000\" d=\"M2415.9894,-285.474C2412.9749,-284.616 2409.9759,-283.7898 2407,-283 2310.3887,-257.361 2281.6113,-272.639 2185,-247 2179.7583,-245.6089 2174.4451,-244.1048 2169.1013,-242.5127\"/>\n<polygon fill=\"#000000\" stroke=\"#000000\" points=\"2170.0447,-239.1412 2159.458,-239.5573 2167.9935,-245.834 2170.0447,-239.1412\"/>\n</g>\n<!-- 26 -->\n<g id=\"node27\" class=\"node\">\n<title>26</title>\n<polygon fill=\"none\" stroke=\"#000000\" points=\"2478,-239.5 2194,-239.5 2194,-141.5 2478,-141.5 2478,-239.5\"/>\n<text text-anchor=\"middle\" x=\"2336\" y=\"-224.3\" font-family=\"Helvetica,sans-Serif\" font-size=\"14.00\" fill=\"#000000\">entropy = 0.0</text>\n<text text-anchor=\"middle\" x=\"2336\" y=\"-209.3\" font-family=\"Helvetica,sans-Serif\" font-size=\"14.00\" fill=\"#000000\">samples = 1</text>\n<text text-anchor=\"middle\" x=\"2336\" y=\"-194.3\" font-family=\"Helvetica,sans-Serif\" font-size=\"14.00\" fill=\"#000000\">value = [0, 0, 0, 1, 0, 0, 0, 0, 0, 0, 0, 0, 0, 0</text>\n<text text-anchor=\"middle\" x=\"2336\" y=\"-179.3\" font-family=\"Helvetica,sans-Serif\" font-size=\"14.00\" fill=\"#000000\">0, 0, 0, 0, 0, 0, 0, 0, 0, 0, 0, 0, 0, 0</text>\n<text text-anchor=\"middle\" x=\"2336\" y=\"-164.3\" font-family=\"Helvetica,sans-Serif\" font-size=\"14.00\" fill=\"#000000\">0, 0, 0, 0, 0, 0, 0, 0, 0, 0, 0, 0, 0, 0</text>\n<text text-anchor=\"middle\" x=\"2336\" y=\"-149.3\" font-family=\"Helvetica,sans-Serif\" font-size=\"14.00\" fill=\"#000000\">0, 0]</text>\n</g>\n<!-- 24&#45;&gt;26 -->\n<g id=\"edge26\" class=\"edge\">\n<title>24&#45;&gt;26</title>\n<path fill=\"none\" stroke=\"#000000\" d=\"M2473.7548,-282.957C2455.3528,-270.6062 2435.9077,-257.5552 2417.6106,-245.2747\"/>\n<polygon fill=\"#000000\" stroke=\"#000000\" points=\"2419.5463,-242.3586 2409.2925,-239.6918 2415.6452,-248.1709 2419.5463,-242.3586\"/>\n</g>\n<!-- 28 -->\n<g id=\"node29\" class=\"node\">\n<title>28</title>\n<polygon fill=\"none\" stroke=\"#000000\" points=\"2780,-239.5 2496,-239.5 2496,-141.5 2780,-141.5 2780,-239.5\"/>\n<text text-anchor=\"middle\" x=\"2638\" y=\"-224.3\" font-family=\"Helvetica,sans-Serif\" font-size=\"14.00\" fill=\"#000000\">entropy = 0.0</text>\n<text text-anchor=\"middle\" x=\"2638\" y=\"-209.3\" font-family=\"Helvetica,sans-Serif\" font-size=\"14.00\" fill=\"#000000\">samples = 1</text>\n<text text-anchor=\"middle\" x=\"2638\" y=\"-194.3\" font-family=\"Helvetica,sans-Serif\" font-size=\"14.00\" fill=\"#000000\">value = [0, 0, 0, 0, 0, 0, 0, 0, 0, 0, 0, 0, 0, 0</text>\n<text text-anchor=\"middle\" x=\"2638\" y=\"-179.3\" font-family=\"Helvetica,sans-Serif\" font-size=\"14.00\" fill=\"#000000\">0, 0, 0, 0, 0, 0, 0, 0, 0, 0, 0, 0, 0, 0</text>\n<text text-anchor=\"middle\" x=\"2638\" y=\"-164.3\" font-family=\"Helvetica,sans-Serif\" font-size=\"14.00\" fill=\"#000000\">0, 0, 1, 0, 0, 0, 0, 0, 0, 0, 0, 0, 0, 0</text>\n<text text-anchor=\"middle\" x=\"2638\" y=\"-149.3\" font-family=\"Helvetica,sans-Serif\" font-size=\"14.00\" fill=\"#000000\">0, 0]</text>\n</g>\n<!-- 27&#45;&gt;28 -->\n<g id=\"edge28\" class=\"edge\">\n<title>27&#45;&gt;28</title>\n<path fill=\"none\" stroke=\"#000000\" d=\"M2775.7548,-282.957C2757.3528,-270.6062 2737.9077,-257.5552 2719.6106,-245.2747\"/>\n<polygon fill=\"#000000\" stroke=\"#000000\" points=\"2721.5463,-242.3586 2711.2925,-239.6918 2717.6452,-248.1709 2721.5463,-242.3586\"/>\n</g>\n<!-- 29 -->\n<g id=\"node30\" class=\"node\">\n<title>29</title>\n<polygon fill=\"none\" stroke=\"#000000\" points=\"3082,-239.5 2798,-239.5 2798,-141.5 3082,-141.5 3082,-239.5\"/>\n<text text-anchor=\"middle\" x=\"2940\" y=\"-224.3\" font-family=\"Helvetica,sans-Serif\" font-size=\"14.00\" fill=\"#000000\">entropy = 0.0</text>\n<text text-anchor=\"middle\" x=\"2940\" y=\"-209.3\" font-family=\"Helvetica,sans-Serif\" font-size=\"14.00\" fill=\"#000000\">samples = 1</text>\n<text text-anchor=\"middle\" x=\"2940\" y=\"-194.3\" font-family=\"Helvetica,sans-Serif\" font-size=\"14.00\" fill=\"#000000\">value = [0, 0, 0, 0, 0, 0, 0, 0, 0, 0, 0, 0, 0, 0</text>\n<text text-anchor=\"middle\" x=\"2940\" y=\"-179.3\" font-family=\"Helvetica,sans-Serif\" font-size=\"14.00\" fill=\"#000000\">0, 0, 0, 0, 0, 0, 0, 0, 0, 0, 0, 0, 0, 0</text>\n<text text-anchor=\"middle\" x=\"2940\" y=\"-164.3\" font-family=\"Helvetica,sans-Serif\" font-size=\"14.00\" fill=\"#000000\">0, 0, 0, 1, 0, 0, 0, 0, 0, 0, 0, 0, 0, 0</text>\n<text text-anchor=\"middle\" x=\"2940\" y=\"-149.3\" font-family=\"Helvetica,sans-Serif\" font-size=\"14.00\" fill=\"#000000\">0, 0]</text>\n</g>\n<!-- 27&#45;&gt;29 -->\n<g id=\"edge29\" class=\"edge\">\n<title>27&#45;&gt;29</title>\n<path fill=\"none\" stroke=\"#000000\" d=\"M2890.4728,-282.7444C2896.4656,-271.5828 2902.7614,-259.857 2908.7784,-248.6503\"/>\n<polygon fill=\"#000000\" stroke=\"#000000\" points=\"2911.8862,-250.2609 2913.533,-239.7948 2905.7189,-246.9495 2911.8862,-250.2609\"/>\n</g>\n<!-- 31 -->\n<g id=\"node32\" class=\"node\">\n<title>31</title>\n<polygon fill=\"none\" stroke=\"#000000\" points=\"3384,-396 3100,-396 3100,-283 3384,-283 3384,-396\"/>\n<text text-anchor=\"middle\" x=\"3242\" y=\"-380.8\" font-family=\"Helvetica,sans-Serif\" font-size=\"14.00\" fill=\"#000000\">X[2] &lt;= 10.0</text>\n<text text-anchor=\"middle\" x=\"3242\" y=\"-365.8\" font-family=\"Helvetica,sans-Serif\" font-size=\"14.00\" fill=\"#000000\">entropy = 1.0</text>\n<text text-anchor=\"middle\" x=\"3242\" y=\"-350.8\" font-family=\"Helvetica,sans-Serif\" font-size=\"14.00\" fill=\"#000000\">samples = 2</text>\n<text text-anchor=\"middle\" x=\"3242\" y=\"-335.8\" font-family=\"Helvetica,sans-Serif\" font-size=\"14.00\" fill=\"#000000\">value = [1, 0, 0, 0, 0, 0, 0, 0, 0, 0, 0, 0, 0, 0</text>\n<text text-anchor=\"middle\" x=\"3242\" y=\"-320.8\" font-family=\"Helvetica,sans-Serif\" font-size=\"14.00\" fill=\"#000000\">0, 0, 0, 0, 0, 0, 0, 0, 0, 0, 0, 0, 0, 0</text>\n<text text-anchor=\"middle\" x=\"3242\" y=\"-305.8\" font-family=\"Helvetica,sans-Serif\" font-size=\"14.00\" fill=\"#000000\">0, 0, 0, 0, 0, 0, 0, 1, 0, 0, 0, 0, 0, 0</text>\n<text text-anchor=\"middle\" x=\"3242\" y=\"-290.8\" font-family=\"Helvetica,sans-Serif\" font-size=\"14.00\" fill=\"#000000\">0, 0]</text>\n</g>\n<!-- 30&#45;&gt;31 -->\n<g id=\"edge31\" class=\"edge\">\n<title>30&#45;&gt;31</title>\n<path fill=\"none\" stroke=\"#000000\" d=\"M3230.2373,-431.7444C3231.3076,-423.3507 3232.4187,-414.6379 3233.5116,-406.0668\"/>\n<polygon fill=\"#000000\" stroke=\"#000000\" points=\"3236.9897,-406.4602 3234.7828,-396.0978 3230.0459,-405.5747 3236.9897,-406.4602\"/>\n</g>\n<!-- 34 -->\n<g id=\"node35\" class=\"node\">\n<title>34</title>\n<polygon fill=\"none\" stroke=\"#000000\" points=\"3988,-396 3704,-396 3704,-283 3988,-283 3988,-396\"/>\n<text text-anchor=\"middle\" x=\"3846\" y=\"-380.8\" font-family=\"Helvetica,sans-Serif\" font-size=\"14.00\" fill=\"#000000\">X[2] &lt;= 5.0</text>\n<text text-anchor=\"middle\" x=\"3846\" y=\"-365.8\" font-family=\"Helvetica,sans-Serif\" font-size=\"14.00\" fill=\"#000000\">entropy = 1.585</text>\n<text text-anchor=\"middle\" x=\"3846\" y=\"-350.8\" font-family=\"Helvetica,sans-Serif\" font-size=\"14.00\" fill=\"#000000\">samples = 3</text>\n<text text-anchor=\"middle\" x=\"3846\" y=\"-335.8\" font-family=\"Helvetica,sans-Serif\" font-size=\"14.00\" fill=\"#000000\">value = [0, 0, 0, 0, 0, 0, 0, 1, 0, 0, 0, 0, 0, 0</text>\n<text text-anchor=\"middle\" x=\"3846\" y=\"-320.8\" font-family=\"Helvetica,sans-Serif\" font-size=\"14.00\" fill=\"#000000\">0, 1, 0, 0, 0, 0, 0, 0, 0, 0, 0, 0, 0, 0</text>\n<text text-anchor=\"middle\" x=\"3846\" y=\"-305.8\" font-family=\"Helvetica,sans-Serif\" font-size=\"14.00\" fill=\"#000000\">0, 0, 0, 0, 1, 0, 0, 0, 0, 0, 0, 0, 0, 0</text>\n<text text-anchor=\"middle\" x=\"3846\" y=\"-290.8\" font-family=\"Helvetica,sans-Serif\" font-size=\"14.00\" fill=\"#000000\">0, 0]</text>\n</g>\n<!-- 30&#45;&gt;34 -->\n<g id=\"edge34\" class=\"edge\">\n<title>30&#45;&gt;34</title>\n<path fill=\"none\" stroke=\"#000000\" d=\"M3365.0472,-434.6077C3368.0506,-433.7091 3371.0374,-432.8384 3374,-432 3479.3345,-402.1909 3600.5663,-378.6544 3693.7895,-362.7835\"/>\n<polygon fill=\"#000000\" stroke=\"#000000\" points=\"3694.5899,-366.1979 3703.8662,-361.0792 3693.4225,-359.2959 3694.5899,-366.1979\"/>\n</g>\n<!-- 32 -->\n<g id=\"node33\" class=\"node\">\n<title>32</title>\n<polygon fill=\"none\" stroke=\"#000000\" points=\"3384,-239.5 3100,-239.5 3100,-141.5 3384,-141.5 3384,-239.5\"/>\n<text text-anchor=\"middle\" x=\"3242\" y=\"-224.3\" font-family=\"Helvetica,sans-Serif\" font-size=\"14.00\" fill=\"#000000\">entropy = 0.0</text>\n<text text-anchor=\"middle\" x=\"3242\" y=\"-209.3\" font-family=\"Helvetica,sans-Serif\" font-size=\"14.00\" fill=\"#000000\">samples = 1</text>\n<text text-anchor=\"middle\" x=\"3242\" y=\"-194.3\" font-family=\"Helvetica,sans-Serif\" font-size=\"14.00\" fill=\"#000000\">value = [1, 0, 0, 0, 0, 0, 0, 0, 0, 0, 0, 0, 0, 0</text>\n<text text-anchor=\"middle\" x=\"3242\" y=\"-179.3\" font-family=\"Helvetica,sans-Serif\" font-size=\"14.00\" fill=\"#000000\">0, 0, 0, 0, 0, 0, 0, 0, 0, 0, 0, 0, 0, 0</text>\n<text text-anchor=\"middle\" x=\"3242\" y=\"-164.3\" font-family=\"Helvetica,sans-Serif\" font-size=\"14.00\" fill=\"#000000\">0, 0, 0, 0, 0, 0, 0, 0, 0, 0, 0, 0, 0, 0</text>\n<text text-anchor=\"middle\" x=\"3242\" y=\"-149.3\" font-family=\"Helvetica,sans-Serif\" font-size=\"14.00\" fill=\"#000000\">0, 0]</text>\n</g>\n<!-- 31&#45;&gt;32 -->\n<g id=\"edge32\" class=\"edge\">\n<title>31&#45;&gt;32</title>\n<path fill=\"none\" stroke=\"#000000\" d=\"M3242,-282.7444C3242,-272.0249 3242,-260.7849 3242,-249.9842\"/>\n<polygon fill=\"#000000\" stroke=\"#000000\" points=\"3245.5001,-249.7947 3242,-239.7948 3238.5001,-249.7948 3245.5001,-249.7947\"/>\n</g>\n<!-- 33 -->\n<g id=\"node34\" class=\"node\">\n<title>33</title>\n<polygon fill=\"none\" stroke=\"#000000\" points=\"3686,-239.5 3402,-239.5 3402,-141.5 3686,-141.5 3686,-239.5\"/>\n<text text-anchor=\"middle\" x=\"3544\" y=\"-224.3\" font-family=\"Helvetica,sans-Serif\" font-size=\"14.00\" fill=\"#000000\">entropy = 0.0</text>\n<text text-anchor=\"middle\" x=\"3544\" y=\"-209.3\" font-family=\"Helvetica,sans-Serif\" font-size=\"14.00\" fill=\"#000000\">samples = 1</text>\n<text text-anchor=\"middle\" x=\"3544\" y=\"-194.3\" font-family=\"Helvetica,sans-Serif\" font-size=\"14.00\" fill=\"#000000\">value = [0, 0, 0, 0, 0, 0, 0, 0, 0, 0, 0, 0, 0, 0</text>\n<text text-anchor=\"middle\" x=\"3544\" y=\"-179.3\" font-family=\"Helvetica,sans-Serif\" font-size=\"14.00\" fill=\"#000000\">0, 0, 0, 0, 0, 0, 0, 0, 0, 0, 0, 0, 0, 0</text>\n<text text-anchor=\"middle\" x=\"3544\" y=\"-164.3\" font-family=\"Helvetica,sans-Serif\" font-size=\"14.00\" fill=\"#000000\">0, 0, 0, 0, 0, 0, 0, 1, 0, 0, 0, 0, 0, 0</text>\n<text text-anchor=\"middle\" x=\"3544\" y=\"-149.3\" font-family=\"Helvetica,sans-Serif\" font-size=\"14.00\" fill=\"#000000\">0, 0]</text>\n</g>\n<!-- 31&#45;&gt;33 -->\n<g id=\"edge33\" class=\"edge\">\n<title>31&#45;&gt;33</title>\n<path fill=\"none\" stroke=\"#000000\" d=\"M3356.6039,-282.957C3382.3137,-270.2724 3409.5204,-256.8492 3434.9948,-244.2807\"/>\n<polygon fill=\"#000000\" stroke=\"#000000\" points=\"3436.8765,-247.2552 3444.2958,-239.6918 3433.7792,-240.9777 3436.8765,-247.2552\"/>\n</g>\n<!-- 35 -->\n<g id=\"node36\" class=\"node\">\n<title>35</title>\n<polygon fill=\"none\" stroke=\"#000000\" points=\"3988,-239.5 3704,-239.5 3704,-141.5 3988,-141.5 3988,-239.5\"/>\n<text text-anchor=\"middle\" x=\"3846\" y=\"-224.3\" font-family=\"Helvetica,sans-Serif\" font-size=\"14.00\" fill=\"#000000\">entropy = 0.0</text>\n<text text-anchor=\"middle\" x=\"3846\" y=\"-209.3\" font-family=\"Helvetica,sans-Serif\" font-size=\"14.00\" fill=\"#000000\">samples = 1</text>\n<text text-anchor=\"middle\" x=\"3846\" y=\"-194.3\" font-family=\"Helvetica,sans-Serif\" font-size=\"14.00\" fill=\"#000000\">value = [0, 0, 0, 0, 0, 0, 0, 0, 0, 0, 0, 0, 0, 0</text>\n<text text-anchor=\"middle\" x=\"3846\" y=\"-179.3\" font-family=\"Helvetica,sans-Serif\" font-size=\"14.00\" fill=\"#000000\">0, 1, 0, 0, 0, 0, 0, 0, 0, 0, 0, 0, 0, 0</text>\n<text text-anchor=\"middle\" x=\"3846\" y=\"-164.3\" font-family=\"Helvetica,sans-Serif\" font-size=\"14.00\" fill=\"#000000\">0, 0, 0, 0, 0, 0, 0, 0, 0, 0, 0, 0, 0, 0</text>\n<text text-anchor=\"middle\" x=\"3846\" y=\"-149.3\" font-family=\"Helvetica,sans-Serif\" font-size=\"14.00\" fill=\"#000000\">0, 0]</text>\n</g>\n<!-- 34&#45;&gt;35 -->\n<g id=\"edge35\" class=\"edge\">\n<title>34&#45;&gt;35</title>\n<path fill=\"none\" stroke=\"#000000\" d=\"M3846,-282.7444C3846,-272.0249 3846,-260.7849 3846,-249.9842\"/>\n<polygon fill=\"#000000\" stroke=\"#000000\" points=\"3849.5001,-249.7947 3846,-239.7948 3842.5001,-249.7948 3849.5001,-249.7947\"/>\n</g>\n<!-- 36 -->\n<g id=\"node37\" class=\"node\">\n<title>36</title>\n<polygon fill=\"none\" stroke=\"#000000\" points=\"4290,-247 4006,-247 4006,-134 4290,-134 4290,-247\"/>\n<text text-anchor=\"middle\" x=\"4148\" y=\"-231.8\" font-family=\"Helvetica,sans-Serif\" font-size=\"14.00\" fill=\"#000000\">X[0] &lt;= 43.5</text>\n<text text-anchor=\"middle\" x=\"4148\" y=\"-216.8\" font-family=\"Helvetica,sans-Serif\" font-size=\"14.00\" fill=\"#000000\">entropy = 1.0</text>\n<text text-anchor=\"middle\" x=\"4148\" y=\"-201.8\" font-family=\"Helvetica,sans-Serif\" font-size=\"14.00\" fill=\"#000000\">samples = 2</text>\n<text text-anchor=\"middle\" x=\"4148\" y=\"-186.8\" font-family=\"Helvetica,sans-Serif\" font-size=\"14.00\" fill=\"#000000\">value = [0, 0, 0, 0, 0, 0, 0, 1, 0, 0, 0, 0, 0, 0</text>\n<text text-anchor=\"middle\" x=\"4148\" y=\"-171.8\" font-family=\"Helvetica,sans-Serif\" font-size=\"14.00\" fill=\"#000000\">0, 0, 0, 0, 0, 0, 0, 0, 0, 0, 0, 0, 0, 0</text>\n<text text-anchor=\"middle\" x=\"4148\" y=\"-156.8\" font-family=\"Helvetica,sans-Serif\" font-size=\"14.00\" fill=\"#000000\">0, 0, 0, 0, 1, 0, 0, 0, 0, 0, 0, 0, 0, 0</text>\n<text text-anchor=\"middle\" x=\"4148\" y=\"-141.8\" font-family=\"Helvetica,sans-Serif\" font-size=\"14.00\" fill=\"#000000\">0, 0]</text>\n</g>\n<!-- 34&#45;&gt;36 -->\n<g id=\"edge36\" class=\"edge\">\n<title>34&#45;&gt;36</title>\n<path fill=\"none\" stroke=\"#000000\" d=\"M3960.6039,-282.957C3981.4825,-272.656 4003.3484,-261.8679 4024.4719,-251.446\"/>\n<polygon fill=\"#000000\" stroke=\"#000000\" points=\"4026.0551,-254.5678 4033.4744,-247.0044 4022.9578,-248.2902 4026.0551,-254.5678\"/>\n</g>\n<!-- 37 -->\n<g id=\"node38\" class=\"node\">\n<title>37</title>\n<polygon fill=\"none\" stroke=\"#000000\" points=\"4139,-98 3855,-98 3855,0 4139,0 4139,-98\"/>\n<text text-anchor=\"middle\" x=\"3997\" y=\"-82.8\" font-family=\"Helvetica,sans-Serif\" font-size=\"14.00\" fill=\"#000000\">entropy = 0.0</text>\n<text text-anchor=\"middle\" x=\"3997\" y=\"-67.8\" font-family=\"Helvetica,sans-Serif\" font-size=\"14.00\" fill=\"#000000\">samples = 1</text>\n<text text-anchor=\"middle\" x=\"3997\" y=\"-52.8\" font-family=\"Helvetica,sans-Serif\" font-size=\"14.00\" fill=\"#000000\">value = [0, 0, 0, 0, 0, 0, 0, 1, 0, 0, 0, 0, 0, 0</text>\n<text text-anchor=\"middle\" x=\"3997\" y=\"-37.8\" font-family=\"Helvetica,sans-Serif\" font-size=\"14.00\" fill=\"#000000\">0, 0, 0, 0, 0, 0, 0, 0, 0, 0, 0, 0, 0, 0</text>\n<text text-anchor=\"middle\" x=\"3997\" y=\"-22.8\" font-family=\"Helvetica,sans-Serif\" font-size=\"14.00\" fill=\"#000000\">0, 0, 0, 0, 0, 0, 0, 0, 0, 0, 0, 0, 0, 0</text>\n<text text-anchor=\"middle\" x=\"3997\" y=\"-7.8\" font-family=\"Helvetica,sans-Serif\" font-size=\"14.00\" fill=\"#000000\">0, 0]</text>\n</g>\n<!-- 36&#45;&gt;37 -->\n<g id=\"edge37\" class=\"edge\">\n<title>36&#45;&gt;37</title>\n<path fill=\"none\" stroke=\"#000000\" d=\"M4087.4526,-133.7619C4077.2848,-124.2338 4066.7402,-114.3526 4056.5968,-104.8473\"/>\n<polygon fill=\"#000000\" stroke=\"#000000\" points=\"4058.9829,-102.2868 4049.2928,-98.0028 4054.1964,-107.3946 4058.9829,-102.2868\"/>\n</g>\n<!-- 38 -->\n<g id=\"node39\" class=\"node\">\n<title>38</title>\n<polygon fill=\"none\" stroke=\"#000000\" points=\"4441,-98 4157,-98 4157,0 4441,0 4441,-98\"/>\n<text text-anchor=\"middle\" x=\"4299\" y=\"-82.8\" font-family=\"Helvetica,sans-Serif\" font-size=\"14.00\" fill=\"#000000\">entropy = 0.0</text>\n<text text-anchor=\"middle\" x=\"4299\" y=\"-67.8\" font-family=\"Helvetica,sans-Serif\" font-size=\"14.00\" fill=\"#000000\">samples = 1</text>\n<text text-anchor=\"middle\" x=\"4299\" y=\"-52.8\" font-family=\"Helvetica,sans-Serif\" font-size=\"14.00\" fill=\"#000000\">value = [0, 0, 0, 0, 0, 0, 0, 0, 0, 0, 0, 0, 0, 0</text>\n<text text-anchor=\"middle\" x=\"4299\" y=\"-37.8\" font-family=\"Helvetica,sans-Serif\" font-size=\"14.00\" fill=\"#000000\">0, 0, 0, 0, 0, 0, 0, 0, 0, 0, 0, 0, 0, 0</text>\n<text text-anchor=\"middle\" x=\"4299\" y=\"-22.8\" font-family=\"Helvetica,sans-Serif\" font-size=\"14.00\" fill=\"#000000\">0, 0, 0, 0, 1, 0, 0, 0, 0, 0, 0, 0, 0, 0</text>\n<text text-anchor=\"middle\" x=\"4299\" y=\"-7.8\" font-family=\"Helvetica,sans-Serif\" font-size=\"14.00\" fill=\"#000000\">0, 0]</text>\n</g>\n<!-- 36&#45;&gt;38 -->\n<g id=\"edge38\" class=\"edge\">\n<title>36&#45;&gt;38</title>\n<path fill=\"none\" stroke=\"#000000\" d=\"M4208.5474,-133.7619C4218.7152,-124.2338 4229.2598,-114.3526 4239.4032,-104.8473\"/>\n<polygon fill=\"#000000\" stroke=\"#000000\" points=\"4241.8036,-107.3946 4246.7072,-98.0028 4237.0171,-102.2868 4241.8036,-107.3946\"/>\n</g>\n<!-- 40 -->\n<g id=\"node41\" class=\"node\">\n<title>40</title>\n<polygon fill=\"none\" stroke=\"#000000\" points=\"4422,-843 4138,-843 4138,-730 4422,-730 4422,-843\"/>\n<text text-anchor=\"middle\" x=\"4280\" y=\"-827.8\" font-family=\"Helvetica,sans-Serif\" font-size=\"14.00\" fill=\"#000000\">X[2] &lt;= 5.0</text>\n<text text-anchor=\"middle\" x=\"4280\" y=\"-812.8\" font-family=\"Helvetica,sans-Serif\" font-size=\"14.00\" fill=\"#000000\">entropy = 2.322</text>\n<text text-anchor=\"middle\" x=\"4280\" y=\"-797.8\" font-family=\"Helvetica,sans-Serif\" font-size=\"14.00\" fill=\"#000000\">samples = 5</text>\n<text text-anchor=\"middle\" x=\"4280\" y=\"-782.8\" font-family=\"Helvetica,sans-Serif\" font-size=\"14.00\" fill=\"#000000\">value = [0, 1, 0, 0, 0, 0, 0, 0, 0, 0, 0, 0, 1, 0</text>\n<text text-anchor=\"middle\" x=\"4280\" y=\"-767.8\" font-family=\"Helvetica,sans-Serif\" font-size=\"14.00\" fill=\"#000000\">0, 0, 0, 0, 0, 1, 0, 0, 0, 0, 0, 1, 0, 0</text>\n<text text-anchor=\"middle\" x=\"4280\" y=\"-752.8\" font-family=\"Helvetica,sans-Serif\" font-size=\"14.00\" fill=\"#000000\">0, 0, 0, 1, 0, 0, 0, 0, 0, 0, 0, 0, 0, 0</text>\n<text text-anchor=\"middle\" x=\"4280\" y=\"-737.8\" font-family=\"Helvetica,sans-Serif\" font-size=\"14.00\" fill=\"#000000\">0, 0]</text>\n</g>\n<!-- 39&#45;&gt;40 -->\n<g id=\"edge40\" class=\"edge\">\n<title>39&#45;&gt;40</title>\n<path fill=\"none\" stroke=\"#000000\" d=\"M4467.3961,-878.957C4446.5175,-868.656 4424.6516,-857.8679 4403.5281,-847.446\"/>\n<polygon fill=\"#000000\" stroke=\"#000000\" points=\"4405.0422,-844.2902 4394.5256,-843.0044 4401.9449,-850.5678 4405.0422,-844.2902\"/>\n</g>\n<!-- 49 -->\n<g id=\"node50\" class=\"node\">\n<title>49</title>\n<polygon fill=\"none\" stroke=\"#000000\" points=\"5026,-843 4742,-843 4742,-730 5026,-730 5026,-843\"/>\n<text text-anchor=\"middle\" x=\"4884\" y=\"-827.8\" font-family=\"Helvetica,sans-Serif\" font-size=\"14.00\" fill=\"#000000\">X[0] &lt;= 73.5</text>\n<text text-anchor=\"middle\" x=\"4884\" y=\"-812.8\" font-family=\"Helvetica,sans-Serif\" font-size=\"14.00\" fill=\"#000000\">entropy = 2.585</text>\n<text text-anchor=\"middle\" x=\"4884\" y=\"-797.8\" font-family=\"Helvetica,sans-Serif\" font-size=\"14.00\" fill=\"#000000\">samples = 6</text>\n<text text-anchor=\"middle\" x=\"4884\" y=\"-782.8\" font-family=\"Helvetica,sans-Serif\" font-size=\"14.00\" fill=\"#000000\">value = [0, 0, 0, 0, 0, 1, 1, 0, 0, 1, 0, 1, 0, 0</text>\n<text text-anchor=\"middle\" x=\"4884\" y=\"-767.8\" font-family=\"Helvetica,sans-Serif\" font-size=\"14.00\" fill=\"#000000\">0, 0, 0, 0, 0, 0, 0, 0, 0, 0, 0, 0, 0, 0</text>\n<text text-anchor=\"middle\" x=\"4884\" y=\"-752.8\" font-family=\"Helvetica,sans-Serif\" font-size=\"14.00\" fill=\"#000000\">0, 1, 0, 0, 0, 0, 0, 0, 0, 0, 0, 1, 0, 0</text>\n<text text-anchor=\"middle\" x=\"4884\" y=\"-737.8\" font-family=\"Helvetica,sans-Serif\" font-size=\"14.00\" fill=\"#000000\">0, 0]</text>\n</g>\n<!-- 39&#45;&gt;49 -->\n<g id=\"edge49\" class=\"edge\">\n<title>39&#45;&gt;49</title>\n<path fill=\"none\" stroke=\"#000000\" d=\"M4696.6039,-878.957C4717.4825,-868.656 4739.3484,-857.8679 4760.4719,-847.446\"/>\n<polygon fill=\"#000000\" stroke=\"#000000\" points=\"4762.0551,-850.5678 4769.4744,-843.0044 4758.9578,-844.2902 4762.0551,-850.5678\"/>\n</g>\n<!-- 41 -->\n<g id=\"node42\" class=\"node\">\n<title>41</title>\n<polygon fill=\"none\" stroke=\"#000000\" points=\"3969,-694 3685,-694 3685,-581 3969,-581 3969,-694\"/>\n<text text-anchor=\"middle\" x=\"3827\" y=\"-678.8\" font-family=\"Helvetica,sans-Serif\" font-size=\"14.00\" fill=\"#000000\">X[0] &lt;= 62.0</text>\n<text text-anchor=\"middle\" x=\"3827\" y=\"-663.8\" font-family=\"Helvetica,sans-Serif\" font-size=\"14.00\" fill=\"#000000\">entropy = 1.0</text>\n<text text-anchor=\"middle\" x=\"3827\" y=\"-648.8\" font-family=\"Helvetica,sans-Serif\" font-size=\"14.00\" fill=\"#000000\">samples = 2</text>\n<text text-anchor=\"middle\" x=\"3827\" y=\"-633.8\" font-family=\"Helvetica,sans-Serif\" font-size=\"14.00\" fill=\"#000000\">value = [0, 0, 0, 0, 0, 0, 0, 0, 0, 0, 0, 0, 0, 0</text>\n<text text-anchor=\"middle\" x=\"3827\" y=\"-618.8\" font-family=\"Helvetica,sans-Serif\" font-size=\"14.00\" fill=\"#000000\">0, 0, 0, 0, 0, 1, 0, 0, 0, 0, 0, 0, 0, 0</text>\n<text text-anchor=\"middle\" x=\"3827\" y=\"-603.8\" font-family=\"Helvetica,sans-Serif\" font-size=\"14.00\" fill=\"#000000\">0, 0, 0, 1, 0, 0, 0, 0, 0, 0, 0, 0, 0, 0</text>\n<text text-anchor=\"middle\" x=\"3827\" y=\"-588.8\" font-family=\"Helvetica,sans-Serif\" font-size=\"14.00\" fill=\"#000000\">0, 0]</text>\n</g>\n<!-- 40&#45;&gt;41 -->\n<g id=\"edge41\" class=\"edge\">\n<title>40&#45;&gt;41</title>\n<path fill=\"none\" stroke=\"#000000\" d=\"M4137.9109,-739.7643C4087.3471,-723.1329 4030.2341,-704.3474 3978.8819,-687.4567\"/>\n<polygon fill=\"#000000\" stroke=\"#000000\" points=\"3979.9562,-684.1257 3969.3632,-684.3259 3977.769,-690.7752 3979.9562,-684.1257\"/>\n</g>\n<!-- 44 -->\n<g id=\"node45\" class=\"node\">\n<title>44</title>\n<polygon fill=\"none\" stroke=\"#000000\" points=\"4422,-694 4138,-694 4138,-581 4422,-581 4422,-694\"/>\n<text text-anchor=\"middle\" x=\"4280\" y=\"-678.8\" font-family=\"Helvetica,sans-Serif\" font-size=\"14.00\" fill=\"#000000\">X[0] &lt;= 58.0</text>\n<text text-anchor=\"middle\" x=\"4280\" y=\"-663.8\" font-family=\"Helvetica,sans-Serif\" font-size=\"14.00\" fill=\"#000000\">entropy = 1.585</text>\n<text text-anchor=\"middle\" x=\"4280\" y=\"-648.8\" font-family=\"Helvetica,sans-Serif\" font-size=\"14.00\" fill=\"#000000\">samples = 3</text>\n<text text-anchor=\"middle\" x=\"4280\" y=\"-633.8\" font-family=\"Helvetica,sans-Serif\" font-size=\"14.00\" fill=\"#000000\">value = [0, 1, 0, 0, 0, 0, 0, 0, 0, 0, 0, 0, 1, 0</text>\n<text text-anchor=\"middle\" x=\"4280\" y=\"-618.8\" font-family=\"Helvetica,sans-Serif\" font-size=\"14.00\" fill=\"#000000\">0, 0, 0, 0, 0, 0, 0, 0, 0, 0, 0, 1, 0, 0</text>\n<text text-anchor=\"middle\" x=\"4280\" y=\"-603.8\" font-family=\"Helvetica,sans-Serif\" font-size=\"14.00\" fill=\"#000000\">0, 0, 0, 0, 0, 0, 0, 0, 0, 0, 0, 0, 0, 0</text>\n<text text-anchor=\"middle\" x=\"4280\" y=\"-588.8\" font-family=\"Helvetica,sans-Serif\" font-size=\"14.00\" fill=\"#000000\">0, 0]</text>\n</g>\n<!-- 40&#45;&gt;44 -->\n<g id=\"edge44\" class=\"edge\">\n<title>40&#45;&gt;44</title>\n<path fill=\"none\" stroke=\"#000000\" d=\"M4280,-729.7444C4280,-721.442 4280,-712.8273 4280,-704.3464\"/>\n<polygon fill=\"#000000\" stroke=\"#000000\" points=\"4283.5001,-704.0977 4280,-694.0978 4276.5001,-704.0978 4283.5001,-704.0977\"/>\n</g>\n<!-- 42 -->\n<g id=\"node43\" class=\"node\">\n<title>42</title>\n<polygon fill=\"none\" stroke=\"#000000\" points=\"3667,-537.5 3383,-537.5 3383,-439.5 3667,-439.5 3667,-537.5\"/>\n<text text-anchor=\"middle\" x=\"3525\" y=\"-522.3\" font-family=\"Helvetica,sans-Serif\" font-size=\"14.00\" fill=\"#000000\">entropy = 0.0</text>\n<text text-anchor=\"middle\" x=\"3525\" y=\"-507.3\" font-family=\"Helvetica,sans-Serif\" font-size=\"14.00\" fill=\"#000000\">samples = 1</text>\n<text text-anchor=\"middle\" x=\"3525\" y=\"-492.3\" font-family=\"Helvetica,sans-Serif\" font-size=\"14.00\" fill=\"#000000\">value = [0, 0, 0, 0, 0, 0, 0, 0, 0, 0, 0, 0, 0, 0</text>\n<text text-anchor=\"middle\" x=\"3525\" y=\"-477.3\" font-family=\"Helvetica,sans-Serif\" font-size=\"14.00\" fill=\"#000000\">0, 0, 0, 0, 0, 0, 0, 0, 0, 0, 0, 0, 0, 0</text>\n<text text-anchor=\"middle\" x=\"3525\" y=\"-462.3\" font-family=\"Helvetica,sans-Serif\" font-size=\"14.00\" fill=\"#000000\">0, 0, 0, 1, 0, 0, 0, 0, 0, 0, 0, 0, 0, 0</text>\n<text text-anchor=\"middle\" x=\"3525\" y=\"-447.3\" font-family=\"Helvetica,sans-Serif\" font-size=\"14.00\" fill=\"#000000\">0, 0]</text>\n</g>\n<!-- 41&#45;&gt;42 -->\n<g id=\"edge42\" class=\"edge\">\n<title>41&#45;&gt;42</title>\n<path fill=\"none\" stroke=\"#000000\" d=\"M3712.3961,-580.957C3686.6863,-568.2724 3659.4796,-554.8492 3634.0052,-542.2807\"/>\n<polygon fill=\"#000000\" stroke=\"#000000\" points=\"3635.2208,-538.9777 3624.7042,-537.6918 3632.1235,-545.2552 3635.2208,-538.9777\"/>\n</g>\n<!-- 43 -->\n<g id=\"node44\" class=\"node\">\n<title>43</title>\n<polygon fill=\"none\" stroke=\"#000000\" points=\"3969,-537.5 3685,-537.5 3685,-439.5 3969,-439.5 3969,-537.5\"/>\n<text text-anchor=\"middle\" x=\"3827\" y=\"-522.3\" font-family=\"Helvetica,sans-Serif\" font-size=\"14.00\" fill=\"#000000\">entropy = 0.0</text>\n<text text-anchor=\"middle\" x=\"3827\" y=\"-507.3\" font-family=\"Helvetica,sans-Serif\" font-size=\"14.00\" fill=\"#000000\">samples = 1</text>\n<text text-anchor=\"middle\" x=\"3827\" y=\"-492.3\" font-family=\"Helvetica,sans-Serif\" font-size=\"14.00\" fill=\"#000000\">value = [0, 0, 0, 0, 0, 0, 0, 0, 0, 0, 0, 0, 0, 0</text>\n<text text-anchor=\"middle\" x=\"3827\" y=\"-477.3\" font-family=\"Helvetica,sans-Serif\" font-size=\"14.00\" fill=\"#000000\">0, 0, 0, 0, 0, 1, 0, 0, 0, 0, 0, 0, 0, 0</text>\n<text text-anchor=\"middle\" x=\"3827\" y=\"-462.3\" font-family=\"Helvetica,sans-Serif\" font-size=\"14.00\" fill=\"#000000\">0, 0, 0, 0, 0, 0, 0, 0, 0, 0, 0, 0, 0, 0</text>\n<text text-anchor=\"middle\" x=\"3827\" y=\"-447.3\" font-family=\"Helvetica,sans-Serif\" font-size=\"14.00\" fill=\"#000000\">0, 0]</text>\n</g>\n<!-- 41&#45;&gt;43 -->\n<g id=\"edge43\" class=\"edge\">\n<title>41&#45;&gt;43</title>\n<path fill=\"none\" stroke=\"#000000\" d=\"M3827,-580.7444C3827,-570.0249 3827,-558.7849 3827,-547.9842\"/>\n<polygon fill=\"#000000\" stroke=\"#000000\" points=\"3830.5001,-547.7947 3827,-537.7948 3823.5001,-547.7948 3830.5001,-547.7947\"/>\n</g>\n<!-- 45 -->\n<g id=\"node46\" class=\"node\">\n<title>45</title>\n<polygon fill=\"none\" stroke=\"#000000\" points=\"4271,-537.5 3987,-537.5 3987,-439.5 4271,-439.5 4271,-537.5\"/>\n<text text-anchor=\"middle\" x=\"4129\" y=\"-522.3\" font-family=\"Helvetica,sans-Serif\" font-size=\"14.00\" fill=\"#000000\">entropy = 0.0</text>\n<text text-anchor=\"middle\" x=\"4129\" y=\"-507.3\" font-family=\"Helvetica,sans-Serif\" font-size=\"14.00\" fill=\"#000000\">samples = 1</text>\n<text text-anchor=\"middle\" x=\"4129\" y=\"-492.3\" font-family=\"Helvetica,sans-Serif\" font-size=\"14.00\" fill=\"#000000\">value = [0, 1, 0, 0, 0, 0, 0, 0, 0, 0, 0, 0, 0, 0</text>\n<text text-anchor=\"middle\" x=\"4129\" y=\"-477.3\" font-family=\"Helvetica,sans-Serif\" font-size=\"14.00\" fill=\"#000000\">0, 0, 0, 0, 0, 0, 0, 0, 0, 0, 0, 0, 0, 0</text>\n<text text-anchor=\"middle\" x=\"4129\" y=\"-462.3\" font-family=\"Helvetica,sans-Serif\" font-size=\"14.00\" fill=\"#000000\">0, 0, 0, 0, 0, 0, 0, 0, 0, 0, 0, 0, 0, 0</text>\n<text text-anchor=\"middle\" x=\"4129\" y=\"-447.3\" font-family=\"Helvetica,sans-Serif\" font-size=\"14.00\" fill=\"#000000\">0, 0]</text>\n</g>\n<!-- 44&#45;&gt;45 -->\n<g id=\"edge45\" class=\"edge\">\n<title>44&#45;&gt;45</title>\n<path fill=\"none\" stroke=\"#000000\" d=\"M4222.4826,-580.7444C4210.6112,-569.0303 4198.11,-556.6946 4186.2481,-544.9899\"/>\n<polygon fill=\"#000000\" stroke=\"#000000\" points=\"4188.5329,-542.3273 4178.9565,-537.7948 4183.6162,-547.3099 4188.5329,-542.3273\"/>\n</g>\n<!-- 46 -->\n<g id=\"node47\" class=\"node\">\n<title>46</title>\n<polygon fill=\"none\" stroke=\"#000000\" points=\"4573,-545 4289,-545 4289,-432 4573,-432 4573,-545\"/>\n<text text-anchor=\"middle\" x=\"4431\" y=\"-529.8\" font-family=\"Helvetica,sans-Serif\" font-size=\"14.00\" fill=\"#000000\">X[1] &lt;= 5.0</text>\n<text text-anchor=\"middle\" x=\"4431\" y=\"-514.8\" font-family=\"Helvetica,sans-Serif\" font-size=\"14.00\" fill=\"#000000\">entropy = 1.0</text>\n<text text-anchor=\"middle\" x=\"4431\" y=\"-499.8\" font-family=\"Helvetica,sans-Serif\" font-size=\"14.00\" fill=\"#000000\">samples = 2</text>\n<text text-anchor=\"middle\" x=\"4431\" y=\"-484.8\" font-family=\"Helvetica,sans-Serif\" font-size=\"14.00\" fill=\"#000000\">value = [0, 0, 0, 0, 0, 0, 0, 0, 0, 0, 0, 0, 1, 0</text>\n<text text-anchor=\"middle\" x=\"4431\" y=\"-469.8\" font-family=\"Helvetica,sans-Serif\" font-size=\"14.00\" fill=\"#000000\">0, 0, 0, 0, 0, 0, 0, 0, 0, 0, 0, 1, 0, 0</text>\n<text text-anchor=\"middle\" x=\"4431\" y=\"-454.8\" font-family=\"Helvetica,sans-Serif\" font-size=\"14.00\" fill=\"#000000\">0, 0, 0, 0, 0, 0, 0, 0, 0, 0, 0, 0, 0, 0</text>\n<text text-anchor=\"middle\" x=\"4431\" y=\"-439.8\" font-family=\"Helvetica,sans-Serif\" font-size=\"14.00\" fill=\"#000000\">0, 0]</text>\n</g>\n<!-- 44&#45;&gt;46 -->\n<g id=\"edge46\" class=\"edge\">\n<title>44&#45;&gt;46</title>\n<path fill=\"none\" stroke=\"#000000\" d=\"M4337.5174,-580.7444C4346.9484,-571.4384 4356.7768,-561.7401 4366.3664,-552.2775\"/>\n<polygon fill=\"#000000\" stroke=\"#000000\" points=\"4368.9828,-554.6129 4373.6425,-545.0978 4364.0661,-549.6302 4368.9828,-554.6129\"/>\n</g>\n<!-- 47 -->\n<g id=\"node48\" class=\"node\">\n<title>47</title>\n<polygon fill=\"none\" stroke=\"#000000\" points=\"4309,-388.5 4025,-388.5 4025,-290.5 4309,-290.5 4309,-388.5\"/>\n<text text-anchor=\"middle\" x=\"4167\" y=\"-373.3\" font-family=\"Helvetica,sans-Serif\" font-size=\"14.00\" fill=\"#000000\">entropy = 0.0</text>\n<text text-anchor=\"middle\" x=\"4167\" y=\"-358.3\" font-family=\"Helvetica,sans-Serif\" font-size=\"14.00\" fill=\"#000000\">samples = 1</text>\n<text text-anchor=\"middle\" x=\"4167\" y=\"-343.3\" font-family=\"Helvetica,sans-Serif\" font-size=\"14.00\" fill=\"#000000\">value = [0, 0, 0, 0, 0, 0, 0, 0, 0, 0, 0, 0, 0, 0</text>\n<text text-anchor=\"middle\" x=\"4167\" y=\"-328.3\" font-family=\"Helvetica,sans-Serif\" font-size=\"14.00\" fill=\"#000000\">0, 0, 0, 0, 0, 0, 0, 0, 0, 0, 0, 1, 0, 0</text>\n<text text-anchor=\"middle\" x=\"4167\" y=\"-313.3\" font-family=\"Helvetica,sans-Serif\" font-size=\"14.00\" fill=\"#000000\">0, 0, 0, 0, 0, 0, 0, 0, 0, 0, 0, 0, 0, 0</text>\n<text text-anchor=\"middle\" x=\"4167\" y=\"-298.3\" font-family=\"Helvetica,sans-Serif\" font-size=\"14.00\" fill=\"#000000\">0, 0]</text>\n</g>\n<!-- 46&#45;&gt;47 -->\n<g id=\"edge47\" class=\"edge\">\n<title>46&#45;&gt;47</title>\n<path fill=\"none\" stroke=\"#000000\" d=\"M4330.8165,-431.957C4308.5388,-419.3836 4284.9754,-406.0846 4262.8757,-393.6116\"/>\n<polygon fill=\"#000000\" stroke=\"#000000\" points=\"4264.5877,-390.559 4254.1587,-388.6918 4261.1471,-396.6551 4264.5877,-390.559\"/>\n</g>\n<!-- 48 -->\n<g id=\"node49\" class=\"node\">\n<title>48</title>\n<polygon fill=\"none\" stroke=\"#000000\" points=\"4611,-388.5 4327,-388.5 4327,-290.5 4611,-290.5 4611,-388.5\"/>\n<text text-anchor=\"middle\" x=\"4469\" y=\"-373.3\" font-family=\"Helvetica,sans-Serif\" font-size=\"14.00\" fill=\"#000000\">entropy = 0.0</text>\n<text text-anchor=\"middle\" x=\"4469\" y=\"-358.3\" font-family=\"Helvetica,sans-Serif\" font-size=\"14.00\" fill=\"#000000\">samples = 1</text>\n<text text-anchor=\"middle\" x=\"4469\" y=\"-343.3\" font-family=\"Helvetica,sans-Serif\" font-size=\"14.00\" fill=\"#000000\">value = [0, 0, 0, 0, 0, 0, 0, 0, 0, 0, 0, 0, 1, 0</text>\n<text text-anchor=\"middle\" x=\"4469\" y=\"-328.3\" font-family=\"Helvetica,sans-Serif\" font-size=\"14.00\" fill=\"#000000\">0, 0, 0, 0, 0, 0, 0, 0, 0, 0, 0, 0, 0, 0</text>\n<text text-anchor=\"middle\" x=\"4469\" y=\"-313.3\" font-family=\"Helvetica,sans-Serif\" font-size=\"14.00\" fill=\"#000000\">0, 0, 0, 0, 0, 0, 0, 0, 0, 0, 0, 0, 0, 0</text>\n<text text-anchor=\"middle\" x=\"4469\" y=\"-298.3\" font-family=\"Helvetica,sans-Serif\" font-size=\"14.00\" fill=\"#000000\">0, 0]</text>\n</g>\n<!-- 46&#45;&gt;48 -->\n<g id=\"edge48\" class=\"edge\">\n<title>46&#45;&gt;48</title>\n<path fill=\"none\" stroke=\"#000000\" d=\"M4445.4746,-431.7444C4448.2366,-420.9143 4451.1341,-409.5531 4453.9147,-398.6503\"/>\n<polygon fill=\"#000000\" stroke=\"#000000\" points=\"4457.3483,-399.3496 4456.4282,-388.7948 4450.5654,-397.6197 4457.3483,-399.3496\"/>\n</g>\n<!-- 50 -->\n<g id=\"node51\" class=\"node\">\n<title>50</title>\n<polygon fill=\"none\" stroke=\"#000000\" points=\"5026,-694 4742,-694 4742,-581 5026,-581 5026,-694\"/>\n<text text-anchor=\"middle\" x=\"4884\" y=\"-678.8\" font-family=\"Helvetica,sans-Serif\" font-size=\"14.00\" fill=\"#000000\">X[2] &lt;= 10.5</text>\n<text text-anchor=\"middle\" x=\"4884\" y=\"-663.8\" font-family=\"Helvetica,sans-Serif\" font-size=\"14.00\" fill=\"#000000\">entropy = 1.585</text>\n<text text-anchor=\"middle\" x=\"4884\" y=\"-648.8\" font-family=\"Helvetica,sans-Serif\" font-size=\"14.00\" fill=\"#000000\">samples = 3</text>\n<text text-anchor=\"middle\" x=\"4884\" y=\"-633.8\" font-family=\"Helvetica,sans-Serif\" font-size=\"14.00\" fill=\"#000000\">value = [0, 0, 0, 0, 0, 1, 1, 0, 0, 0, 0, 0, 0, 0</text>\n<text text-anchor=\"middle\" x=\"4884\" y=\"-618.8\" font-family=\"Helvetica,sans-Serif\" font-size=\"14.00\" fill=\"#000000\">0, 0, 0, 0, 0, 0, 0, 0, 0, 0, 0, 0, 0, 0</text>\n<text text-anchor=\"middle\" x=\"4884\" y=\"-603.8\" font-family=\"Helvetica,sans-Serif\" font-size=\"14.00\" fill=\"#000000\">0, 0, 0, 0, 0, 0, 0, 0, 0, 0, 0, 1, 0, 0</text>\n<text text-anchor=\"middle\" x=\"4884\" y=\"-588.8\" font-family=\"Helvetica,sans-Serif\" font-size=\"14.00\" fill=\"#000000\">0, 0]</text>\n</g>\n<!-- 49&#45;&gt;50 -->\n<g id=\"edge50\" class=\"edge\">\n<title>49&#45;&gt;50</title>\n<path fill=\"none\" stroke=\"#000000\" d=\"M4884,-729.7444C4884,-721.442 4884,-712.8273 4884,-704.3464\"/>\n<polygon fill=\"#000000\" stroke=\"#000000\" points=\"4887.5001,-704.0977 4884,-694.0978 4880.5001,-704.0978 4887.5001,-704.0977\"/>\n</g>\n<!-- 55 -->\n<g id=\"node56\" class=\"node\">\n<title>55</title>\n<polygon fill=\"none\" stroke=\"#000000\" points=\"5479,-694 5195,-694 5195,-581 5479,-581 5479,-694\"/>\n<text text-anchor=\"middle\" x=\"5337\" y=\"-678.8\" font-family=\"Helvetica,sans-Serif\" font-size=\"14.00\" fill=\"#000000\">X[1] &lt;= 4.5</text>\n<text text-anchor=\"middle\" x=\"5337\" y=\"-663.8\" font-family=\"Helvetica,sans-Serif\" font-size=\"14.00\" fill=\"#000000\">entropy = 1.585</text>\n<text text-anchor=\"middle\" x=\"5337\" y=\"-648.8\" font-family=\"Helvetica,sans-Serif\" font-size=\"14.00\" fill=\"#000000\">samples = 3</text>\n<text text-anchor=\"middle\" x=\"5337\" y=\"-633.8\" font-family=\"Helvetica,sans-Serif\" font-size=\"14.00\" fill=\"#000000\">value = [0, 0, 0, 0, 0, 0, 0, 0, 0, 1, 0, 1, 0, 0</text>\n<text text-anchor=\"middle\" x=\"5337\" y=\"-618.8\" font-family=\"Helvetica,sans-Serif\" font-size=\"14.00\" fill=\"#000000\">0, 0, 0, 0, 0, 0, 0, 0, 0, 0, 0, 0, 0, 0</text>\n<text text-anchor=\"middle\" x=\"5337\" y=\"-603.8\" font-family=\"Helvetica,sans-Serif\" font-size=\"14.00\" fill=\"#000000\">0, 1, 0, 0, 0, 0, 0, 0, 0, 0, 0, 0, 0, 0</text>\n<text text-anchor=\"middle\" x=\"5337\" y=\"-588.8\" font-family=\"Helvetica,sans-Serif\" font-size=\"14.00\" fill=\"#000000\">0, 0]</text>\n</g>\n<!-- 49&#45;&gt;55 -->\n<g id=\"edge55\" class=\"edge\">\n<title>49&#45;&gt;55</title>\n<path fill=\"none\" stroke=\"#000000\" d=\"M5026.0891,-739.7643C5076.6529,-723.1329 5133.7659,-704.3474 5185.1181,-687.4567\"/>\n<polygon fill=\"#000000\" stroke=\"#000000\" points=\"5186.231,-690.7752 5194.6368,-684.3259 5184.0438,-684.1257 5186.231,-690.7752\"/>\n</g>\n<!-- 51 -->\n<g id=\"node52\" class=\"node\">\n<title>51</title>\n<polygon fill=\"none\" stroke=\"#000000\" points=\"4875,-537.5 4591,-537.5 4591,-439.5 4875,-439.5 4875,-537.5\"/>\n<text text-anchor=\"middle\" x=\"4733\" y=\"-522.3\" font-family=\"Helvetica,sans-Serif\" font-size=\"14.00\" fill=\"#000000\">entropy = 0.0</text>\n<text text-anchor=\"middle\" x=\"4733\" y=\"-507.3\" font-family=\"Helvetica,sans-Serif\" font-size=\"14.00\" fill=\"#000000\">samples = 1</text>\n<text text-anchor=\"middle\" x=\"4733\" y=\"-492.3\" font-family=\"Helvetica,sans-Serif\" font-size=\"14.00\" fill=\"#000000\">value = [0, 0, 0, 0, 0, 1, 0, 0, 0, 0, 0, 0, 0, 0</text>\n<text text-anchor=\"middle\" x=\"4733\" y=\"-477.3\" font-family=\"Helvetica,sans-Serif\" font-size=\"14.00\" fill=\"#000000\">0, 0, 0, 0, 0, 0, 0, 0, 0, 0, 0, 0, 0, 0</text>\n<text text-anchor=\"middle\" x=\"4733\" y=\"-462.3\" font-family=\"Helvetica,sans-Serif\" font-size=\"14.00\" fill=\"#000000\">0, 0, 0, 0, 0, 0, 0, 0, 0, 0, 0, 0, 0, 0</text>\n<text text-anchor=\"middle\" x=\"4733\" y=\"-447.3\" font-family=\"Helvetica,sans-Serif\" font-size=\"14.00\" fill=\"#000000\">0, 0]</text>\n</g>\n<!-- 50&#45;&gt;51 -->\n<g id=\"edge51\" class=\"edge\">\n<title>50&#45;&gt;51</title>\n<path fill=\"none\" stroke=\"#000000\" d=\"M4826.4826,-580.7444C4814.6112,-569.0303 4802.11,-556.6946 4790.2481,-544.9899\"/>\n<polygon fill=\"#000000\" stroke=\"#000000\" points=\"4792.5329,-542.3273 4782.9565,-537.7948 4787.6162,-547.3099 4792.5329,-542.3273\"/>\n</g>\n<!-- 52 -->\n<g id=\"node53\" class=\"node\">\n<title>52</title>\n<polygon fill=\"none\" stroke=\"#000000\" points=\"5177,-545 4893,-545 4893,-432 5177,-432 5177,-545\"/>\n<text text-anchor=\"middle\" x=\"5035\" y=\"-529.8\" font-family=\"Helvetica,sans-Serif\" font-size=\"14.00\" fill=\"#000000\">X[0] &lt;= 68.5</text>\n<text text-anchor=\"middle\" x=\"5035\" y=\"-514.8\" font-family=\"Helvetica,sans-Serif\" font-size=\"14.00\" fill=\"#000000\">entropy = 1.0</text>\n<text text-anchor=\"middle\" x=\"5035\" y=\"-499.8\" font-family=\"Helvetica,sans-Serif\" font-size=\"14.00\" fill=\"#000000\">samples = 2</text>\n<text text-anchor=\"middle\" x=\"5035\" y=\"-484.8\" font-family=\"Helvetica,sans-Serif\" font-size=\"14.00\" fill=\"#000000\">value = [0, 0, 0, 0, 0, 0, 1, 0, 0, 0, 0, 0, 0, 0</text>\n<text text-anchor=\"middle\" x=\"5035\" y=\"-469.8\" font-family=\"Helvetica,sans-Serif\" font-size=\"14.00\" fill=\"#000000\">0, 0, 0, 0, 0, 0, 0, 0, 0, 0, 0, 0, 0, 0</text>\n<text text-anchor=\"middle\" x=\"5035\" y=\"-454.8\" font-family=\"Helvetica,sans-Serif\" font-size=\"14.00\" fill=\"#000000\">0, 0, 0, 0, 0, 0, 0, 0, 0, 0, 0, 1, 0, 0</text>\n<text text-anchor=\"middle\" x=\"5035\" y=\"-439.8\" font-family=\"Helvetica,sans-Serif\" font-size=\"14.00\" fill=\"#000000\">0, 0]</text>\n</g>\n<!-- 50&#45;&gt;52 -->\n<g id=\"edge52\" class=\"edge\">\n<title>50&#45;&gt;52</title>\n<path fill=\"none\" stroke=\"#000000\" d=\"M4941.5174,-580.7444C4950.9484,-571.4384 4960.7768,-561.7401 4970.3664,-552.2775\"/>\n<polygon fill=\"#000000\" stroke=\"#000000\" points=\"4972.9828,-554.6129 4977.6425,-545.0978 4968.0661,-549.6302 4972.9828,-554.6129\"/>\n</g>\n<!-- 53 -->\n<g id=\"node54\" class=\"node\">\n<title>53</title>\n<polygon fill=\"none\" stroke=\"#000000\" points=\"4951,-388.5 4667,-388.5 4667,-290.5 4951,-290.5 4951,-388.5\"/>\n<text text-anchor=\"middle\" x=\"4809\" y=\"-373.3\" font-family=\"Helvetica,sans-Serif\" font-size=\"14.00\" fill=\"#000000\">entropy = 0.0</text>\n<text text-anchor=\"middle\" x=\"4809\" y=\"-358.3\" font-family=\"Helvetica,sans-Serif\" font-size=\"14.00\" fill=\"#000000\">samples = 1</text>\n<text text-anchor=\"middle\" x=\"4809\" y=\"-343.3\" font-family=\"Helvetica,sans-Serif\" font-size=\"14.00\" fill=\"#000000\">value = [0, 0, 0, 0, 0, 0, 0, 0, 0, 0, 0, 0, 0, 0</text>\n<text text-anchor=\"middle\" x=\"4809\" y=\"-328.3\" font-family=\"Helvetica,sans-Serif\" font-size=\"14.00\" fill=\"#000000\">0, 0, 0, 0, 0, 0, 0, 0, 0, 0, 0, 0, 0, 0</text>\n<text text-anchor=\"middle\" x=\"4809\" y=\"-313.3\" font-family=\"Helvetica,sans-Serif\" font-size=\"14.00\" fill=\"#000000\">0, 0, 0, 0, 0, 0, 0, 0, 0, 0, 0, 1, 0, 0</text>\n<text text-anchor=\"middle\" x=\"4809\" y=\"-298.3\" font-family=\"Helvetica,sans-Serif\" font-size=\"14.00\" fill=\"#000000\">0, 0]</text>\n</g>\n<!-- 52&#45;&gt;53 -->\n<g id=\"edge53\" class=\"edge\">\n<title>52&#45;&gt;53</title>\n<path fill=\"none\" stroke=\"#000000\" d=\"M4949.2368,-431.957C4930.5033,-419.6062 4910.7078,-406.5552 4892.0811,-394.2747\"/>\n<polygon fill=\"#000000\" stroke=\"#000000\" points=\"4893.8885,-391.2741 4883.6131,-388.6918 4890.0354,-397.1183 4893.8885,-391.2741\"/>\n</g>\n<!-- 54 -->\n<g id=\"node55\" class=\"node\">\n<title>54</title>\n<polygon fill=\"none\" stroke=\"#000000\" points=\"5253,-388.5 4969,-388.5 4969,-290.5 5253,-290.5 5253,-388.5\"/>\n<text text-anchor=\"middle\" x=\"5111\" y=\"-373.3\" font-family=\"Helvetica,sans-Serif\" font-size=\"14.00\" fill=\"#000000\">entropy = 0.0</text>\n<text text-anchor=\"middle\" x=\"5111\" y=\"-358.3\" font-family=\"Helvetica,sans-Serif\" font-size=\"14.00\" fill=\"#000000\">samples = 1</text>\n<text text-anchor=\"middle\" x=\"5111\" y=\"-343.3\" font-family=\"Helvetica,sans-Serif\" font-size=\"14.00\" fill=\"#000000\">value = [0, 0, 0, 0, 0, 0, 1, 0, 0, 0, 0, 0, 0, 0</text>\n<text text-anchor=\"middle\" x=\"5111\" y=\"-328.3\" font-family=\"Helvetica,sans-Serif\" font-size=\"14.00\" fill=\"#000000\">0, 0, 0, 0, 0, 0, 0, 0, 0, 0, 0, 0, 0, 0</text>\n<text text-anchor=\"middle\" x=\"5111\" y=\"-313.3\" font-family=\"Helvetica,sans-Serif\" font-size=\"14.00\" fill=\"#000000\">0, 0, 0, 0, 0, 0, 0, 0, 0, 0, 0, 0, 0, 0</text>\n<text text-anchor=\"middle\" x=\"5111\" y=\"-298.3\" font-family=\"Helvetica,sans-Serif\" font-size=\"14.00\" fill=\"#000000\">0, 0]</text>\n</g>\n<!-- 52&#45;&gt;54 -->\n<g id=\"edge54\" class=\"edge\">\n<title>52&#45;&gt;54</title>\n<path fill=\"none\" stroke=\"#000000\" d=\"M5063.9491,-431.7444C5069.586,-420.6933 5075.5049,-409.0891 5081.1696,-397.9833\"/>\n<polygon fill=\"#000000\" stroke=\"#000000\" points=\"5084.4304,-399.2932 5085.8564,-388.7948 5078.1947,-396.1126 5084.4304,-399.2932\"/>\n</g>\n<!-- 56 -->\n<g id=\"node57\" class=\"node\">\n<title>56</title>\n<polygon fill=\"none\" stroke=\"#000000\" points=\"5479,-537.5 5195,-537.5 5195,-439.5 5479,-439.5 5479,-537.5\"/>\n<text text-anchor=\"middle\" x=\"5337\" y=\"-522.3\" font-family=\"Helvetica,sans-Serif\" font-size=\"14.00\" fill=\"#000000\">entropy = 0.0</text>\n<text text-anchor=\"middle\" x=\"5337\" y=\"-507.3\" font-family=\"Helvetica,sans-Serif\" font-size=\"14.00\" fill=\"#000000\">samples = 1</text>\n<text text-anchor=\"middle\" x=\"5337\" y=\"-492.3\" font-family=\"Helvetica,sans-Serif\" font-size=\"14.00\" fill=\"#000000\">value = [0, 0, 0, 0, 0, 0, 0, 0, 0, 0, 0, 0, 0, 0</text>\n<text text-anchor=\"middle\" x=\"5337\" y=\"-477.3\" font-family=\"Helvetica,sans-Serif\" font-size=\"14.00\" fill=\"#000000\">0, 0, 0, 0, 0, 0, 0, 0, 0, 0, 0, 0, 0, 0</text>\n<text text-anchor=\"middle\" x=\"5337\" y=\"-462.3\" font-family=\"Helvetica,sans-Serif\" font-size=\"14.00\" fill=\"#000000\">0, 1, 0, 0, 0, 0, 0, 0, 0, 0, 0, 0, 0, 0</text>\n<text text-anchor=\"middle\" x=\"5337\" y=\"-447.3\" font-family=\"Helvetica,sans-Serif\" font-size=\"14.00\" fill=\"#000000\">0, 0]</text>\n</g>\n<!-- 55&#45;&gt;56 -->\n<g id=\"edge56\" class=\"edge\">\n<title>55&#45;&gt;56</title>\n<path fill=\"none\" stroke=\"#000000\" d=\"M5337,-580.7444C5337,-570.0249 5337,-558.7849 5337,-547.9842\"/>\n<polygon fill=\"#000000\" stroke=\"#000000\" points=\"5340.5001,-547.7947 5337,-537.7948 5333.5001,-547.7948 5340.5001,-547.7947\"/>\n</g>\n<!-- 57 -->\n<g id=\"node58\" class=\"node\">\n<title>57</title>\n<polygon fill=\"none\" stroke=\"#000000\" points=\"5781,-545 5497,-545 5497,-432 5781,-432 5781,-545\"/>\n<text text-anchor=\"middle\" x=\"5639\" y=\"-529.8\" font-family=\"Helvetica,sans-Serif\" font-size=\"14.00\" fill=\"#000000\">X[3] &lt;= 0.5</text>\n<text text-anchor=\"middle\" x=\"5639\" y=\"-514.8\" font-family=\"Helvetica,sans-Serif\" font-size=\"14.00\" fill=\"#000000\">entropy = 1.0</text>\n<text text-anchor=\"middle\" x=\"5639\" y=\"-499.8\" font-family=\"Helvetica,sans-Serif\" font-size=\"14.00\" fill=\"#000000\">samples = 2</text>\n<text text-anchor=\"middle\" x=\"5639\" y=\"-484.8\" font-family=\"Helvetica,sans-Serif\" font-size=\"14.00\" fill=\"#000000\">value = [0, 0, 0, 0, 0, 0, 0, 0, 0, 1, 0, 1, 0, 0</text>\n<text text-anchor=\"middle\" x=\"5639\" y=\"-469.8\" font-family=\"Helvetica,sans-Serif\" font-size=\"14.00\" fill=\"#000000\">0, 0, 0, 0, 0, 0, 0, 0, 0, 0, 0, 0, 0, 0</text>\n<text text-anchor=\"middle\" x=\"5639\" y=\"-454.8\" font-family=\"Helvetica,sans-Serif\" font-size=\"14.00\" fill=\"#000000\">0, 0, 0, 0, 0, 0, 0, 0, 0, 0, 0, 0, 0, 0</text>\n<text text-anchor=\"middle\" x=\"5639\" y=\"-439.8\" font-family=\"Helvetica,sans-Serif\" font-size=\"14.00\" fill=\"#000000\">0, 0]</text>\n</g>\n<!-- 55&#45;&gt;57 -->\n<g id=\"edge57\" class=\"edge\">\n<title>55&#45;&gt;57</title>\n<path fill=\"none\" stroke=\"#000000\" d=\"M5451.6039,-580.957C5472.4825,-570.656 5494.3484,-559.8679 5515.4719,-549.446\"/>\n<polygon fill=\"#000000\" stroke=\"#000000\" points=\"5517.0551,-552.5678 5524.4744,-545.0044 5513.9578,-546.2902 5517.0551,-552.5678\"/>\n</g>\n<!-- 58 -->\n<g id=\"node59\" class=\"node\">\n<title>58</title>\n<polygon fill=\"none\" stroke=\"#000000\" points=\"5630,-388.5 5346,-388.5 5346,-290.5 5630,-290.5 5630,-388.5\"/>\n<text text-anchor=\"middle\" x=\"5488\" y=\"-373.3\" font-family=\"Helvetica,sans-Serif\" font-size=\"14.00\" fill=\"#000000\">entropy = 0.0</text>\n<text text-anchor=\"middle\" x=\"5488\" y=\"-358.3\" font-family=\"Helvetica,sans-Serif\" font-size=\"14.00\" fill=\"#000000\">samples = 1</text>\n<text text-anchor=\"middle\" x=\"5488\" y=\"-343.3\" font-family=\"Helvetica,sans-Serif\" font-size=\"14.00\" fill=\"#000000\">value = [0, 0, 0, 0, 0, 0, 0, 0, 0, 0, 0, 1, 0, 0</text>\n<text text-anchor=\"middle\" x=\"5488\" y=\"-328.3\" font-family=\"Helvetica,sans-Serif\" font-size=\"14.00\" fill=\"#000000\">0, 0, 0, 0, 0, 0, 0, 0, 0, 0, 0, 0, 0, 0</text>\n<text text-anchor=\"middle\" x=\"5488\" y=\"-313.3\" font-family=\"Helvetica,sans-Serif\" font-size=\"14.00\" fill=\"#000000\">0, 0, 0, 0, 0, 0, 0, 0, 0, 0, 0, 0, 0, 0</text>\n<text text-anchor=\"middle\" x=\"5488\" y=\"-298.3\" font-family=\"Helvetica,sans-Serif\" font-size=\"14.00\" fill=\"#000000\">0, 0]</text>\n</g>\n<!-- 57&#45;&gt;58 -->\n<g id=\"edge58\" class=\"edge\">\n<title>57&#45;&gt;58</title>\n<path fill=\"none\" stroke=\"#000000\" d=\"M5581.4826,-431.7444C5569.6112,-420.0303 5557.11,-407.6946 5545.2481,-395.9899\"/>\n<polygon fill=\"#000000\" stroke=\"#000000\" points=\"5547.5329,-393.3273 5537.9565,-388.7948 5542.6162,-398.3099 5547.5329,-393.3273\"/>\n</g>\n<!-- 59 -->\n<g id=\"node60\" class=\"node\">\n<title>59</title>\n<polygon fill=\"none\" stroke=\"#000000\" points=\"5932,-388.5 5648,-388.5 5648,-290.5 5932,-290.5 5932,-388.5\"/>\n<text text-anchor=\"middle\" x=\"5790\" y=\"-373.3\" font-family=\"Helvetica,sans-Serif\" font-size=\"14.00\" fill=\"#000000\">entropy = 0.0</text>\n<text text-anchor=\"middle\" x=\"5790\" y=\"-358.3\" font-family=\"Helvetica,sans-Serif\" font-size=\"14.00\" fill=\"#000000\">samples = 1</text>\n<text text-anchor=\"middle\" x=\"5790\" y=\"-343.3\" font-family=\"Helvetica,sans-Serif\" font-size=\"14.00\" fill=\"#000000\">value = [0, 0, 0, 0, 0, 0, 0, 0, 0, 1, 0, 0, 0, 0</text>\n<text text-anchor=\"middle\" x=\"5790\" y=\"-328.3\" font-family=\"Helvetica,sans-Serif\" font-size=\"14.00\" fill=\"#000000\">0, 0, 0, 0, 0, 0, 0, 0, 0, 0, 0, 0, 0, 0</text>\n<text text-anchor=\"middle\" x=\"5790\" y=\"-313.3\" font-family=\"Helvetica,sans-Serif\" font-size=\"14.00\" fill=\"#000000\">0, 0, 0, 0, 0, 0, 0, 0, 0, 0, 0, 0, 0, 0</text>\n<text text-anchor=\"middle\" x=\"5790\" y=\"-298.3\" font-family=\"Helvetica,sans-Serif\" font-size=\"14.00\" fill=\"#000000\">0, 0]</text>\n</g>\n<!-- 57&#45;&gt;59 -->\n<g id=\"edge59\" class=\"edge\">\n<title>57&#45;&gt;59</title>\n<path fill=\"none\" stroke=\"#000000\" d=\"M5696.5174,-431.7444C5708.3888,-420.0303 5720.89,-407.6946 5732.7519,-395.9899\"/>\n<polygon fill=\"#000000\" stroke=\"#000000\" points=\"5735.3838,-398.3099 5740.0435,-388.7948 5730.4671,-393.3273 5735.3838,-398.3099\"/>\n</g>\n<!-- 61 -->\n<g id=\"node62\" class=\"node\">\n<title>61</title>\n<polygon fill=\"none\" stroke=\"#000000\" points=\"7140,-992 6856,-992 6856,-879 7140,-879 7140,-992\"/>\n<text text-anchor=\"middle\" x=\"6998\" y=\"-976.8\" font-family=\"Helvetica,sans-Serif\" font-size=\"14.00\" fill=\"#000000\">X[0] &lt;= 16.5</text>\n<text text-anchor=\"middle\" x=\"6998\" y=\"-961.8\" font-family=\"Helvetica,sans-Serif\" font-size=\"14.00\" fill=\"#000000\">entropy = 3.335</text>\n<text text-anchor=\"middle\" x=\"6998\" y=\"-946.8\" font-family=\"Helvetica,sans-Serif\" font-size=\"14.00\" fill=\"#000000\">samples = 13</text>\n<text text-anchor=\"middle\" x=\"6998\" y=\"-931.8\" font-family=\"Helvetica,sans-Serif\" font-size=\"14.00\" fill=\"#000000\">value = [3, 0, 1, 0, 0, 0, 0, 0, 1, 0, 0, 0, 0, 0</text>\n<text text-anchor=\"middle\" x=\"6998\" y=\"-916.8\" font-family=\"Helvetica,sans-Serif\" font-size=\"14.00\" fill=\"#000000\">0, 1, 0, 1, 1, 0, 1, 0, 0, 0, 0, 0, 0, 1</text>\n<text text-anchor=\"middle\" x=\"6998\" y=\"-901.8\" font-family=\"Helvetica,sans-Serif\" font-size=\"14.00\" fill=\"#000000\">0, 0, 0, 0, 0, 0, 0, 0, 1, 0, 1, 0, 1, 0</text>\n<text text-anchor=\"middle\" x=\"6998\" y=\"-886.8\" font-family=\"Helvetica,sans-Serif\" font-size=\"14.00\" fill=\"#000000\">0, 0]</text>\n</g>\n<!-- 60&#45;&gt;61 -->\n<g id=\"edge61\" class=\"edge\">\n<title>60&#45;&gt;61</title>\n<path fill=\"none\" stroke=\"#000000\" d=\"M6998,-1027.7444C6998,-1019.442 6998,-1010.8273 6998,-1002.3464\"/>\n<polygon fill=\"#000000\" stroke=\"#000000\" points=\"7001.5001,-1002.0977 6998,-992.0978 6994.5001,-1002.0978 7001.5001,-1002.0977\"/>\n</g>\n<!-- 86 -->\n<g id=\"node87\" class=\"node\">\n<title>86</title>\n<polygon fill=\"none\" stroke=\"#000000\" points=\"8952,-992 8668,-992 8668,-879 8952,-879 8952,-992\"/>\n<text text-anchor=\"middle\" x=\"8810\" y=\"-976.8\" font-family=\"Helvetica,sans-Serif\" font-size=\"14.00\" fill=\"#000000\">X[0] &lt;= 53.5</text>\n<text text-anchor=\"middle\" x=\"8810\" y=\"-961.8\" font-family=\"Helvetica,sans-Serif\" font-size=\"14.00\" fill=\"#000000\">entropy = 3.418</text>\n<text text-anchor=\"middle\" x=\"8810\" y=\"-946.8\" font-family=\"Helvetica,sans-Serif\" font-size=\"14.00\" fill=\"#000000\">samples = 12</text>\n<text text-anchor=\"middle\" x=\"8810\" y=\"-931.8\" font-family=\"Helvetica,sans-Serif\" font-size=\"14.00\" fill=\"#000000\">value = [0, 0, 0, 1, 0, 0, 0, 0, 0, 0, 0, 0, 0, 0</text>\n<text text-anchor=\"middle\" x=\"8810\" y=\"-916.8\" font-family=\"Helvetica,sans-Serif\" font-size=\"14.00\" fill=\"#000000\">0, 0, 0, 0, 0, 0, 0, 1, 0, 1, 1, 0, 0, 0</text>\n<text text-anchor=\"middle\" x=\"8810\" y=\"-901.8\" font-family=\"Helvetica,sans-Serif\" font-size=\"14.00\" fill=\"#000000\">2, 0, 0, 0, 0, 1, 0, 1, 0, 1, 1, 0, 0, 0</text>\n<text text-anchor=\"middle\" x=\"8810\" y=\"-886.8\" font-family=\"Helvetica,sans-Serif\" font-size=\"14.00\" fill=\"#000000\">1, 1]</text>\n</g>\n<!-- 60&#45;&gt;86 -->\n<g id=\"edge86\" class=\"edge\">\n<title>60&#45;&gt;86</title>\n<path fill=\"none\" stroke=\"#000000\" d=\"M7140.1846,-1072.8082C7475.3964,-1045.2439 8312.8032,-976.3843 8657.7888,-948.0163\"/>\n<polygon fill=\"#000000\" stroke=\"#000000\" points=\"8658.1713,-951.4967 8667.8508,-947.1889 8657.5976,-944.5203 8658.1713,-951.4967\"/>\n</g>\n<!-- 62 -->\n<g id=\"node63\" class=\"node\">\n<title>62</title>\n<polygon fill=\"none\" stroke=\"#000000\" points=\"6838,-843 6554,-843 6554,-730 6838,-730 6838,-843\"/>\n<text text-anchor=\"middle\" x=\"6696\" y=\"-827.8\" font-family=\"Helvetica,sans-Serif\" font-size=\"14.00\" fill=\"#000000\">X[2] &lt;= 14.5</text>\n<text text-anchor=\"middle\" x=\"6696\" y=\"-812.8\" font-family=\"Helvetica,sans-Serif\" font-size=\"14.00\" fill=\"#000000\">entropy = 2.642</text>\n<text text-anchor=\"middle\" x=\"6696\" y=\"-797.8\" font-family=\"Helvetica,sans-Serif\" font-size=\"14.00\" fill=\"#000000\">samples = 9</text>\n<text text-anchor=\"middle\" x=\"6696\" y=\"-782.8\" font-family=\"Helvetica,sans-Serif\" font-size=\"14.00\" fill=\"#000000\">value = [3, 0, 0, 0, 0, 0, 0, 0, 0, 0, 0, 0, 0, 0</text>\n<text text-anchor=\"middle\" x=\"6696\" y=\"-767.8\" font-family=\"Helvetica,sans-Serif\" font-size=\"14.00\" fill=\"#000000\">0, 1, 0, 0, 0, 0, 1, 0, 0, 0, 0, 0, 0, 1</text>\n<text text-anchor=\"middle\" x=\"6696\" y=\"-752.8\" font-family=\"Helvetica,sans-Serif\" font-size=\"14.00\" fill=\"#000000\">0, 0, 0, 0, 0, 0, 0, 0, 1, 0, 1, 0, 1, 0</text>\n<text text-anchor=\"middle\" x=\"6696\" y=\"-737.8\" font-family=\"Helvetica,sans-Serif\" font-size=\"14.00\" fill=\"#000000\">0, 0]</text>\n</g>\n<!-- 61&#45;&gt;62 -->\n<g id=\"edge62\" class=\"edge\">\n<title>61&#45;&gt;62</title>\n<path fill=\"none\" stroke=\"#000000\" d=\"M6883.3961,-878.957C6862.5175,-868.656 6840.6516,-857.8679 6819.5281,-847.446\"/>\n<polygon fill=\"#000000\" stroke=\"#000000\" points=\"6821.0422,-844.2902 6810.5256,-843.0044 6817.9449,-850.5678 6821.0422,-844.2902\"/>\n</g>\n<!-- 79 -->\n<g id=\"node80\" class=\"node\">\n<title>79</title>\n<polygon fill=\"none\" stroke=\"#000000\" points=\"7442,-843 7158,-843 7158,-730 7442,-730 7442,-843\"/>\n<text text-anchor=\"middle\" x=\"7300\" y=\"-827.8\" font-family=\"Helvetica,sans-Serif\" font-size=\"14.00\" fill=\"#000000\">X[0] &lt;= 20.0</text>\n<text text-anchor=\"middle\" x=\"7300\" y=\"-812.8\" font-family=\"Helvetica,sans-Serif\" font-size=\"14.00\" fill=\"#000000\">entropy = 2.0</text>\n<text text-anchor=\"middle\" x=\"7300\" y=\"-797.8\" font-family=\"Helvetica,sans-Serif\" font-size=\"14.00\" fill=\"#000000\">samples = 4</text>\n<text text-anchor=\"middle\" x=\"7300\" y=\"-782.8\" font-family=\"Helvetica,sans-Serif\" font-size=\"14.00\" fill=\"#000000\">value = [0, 0, 1, 0, 0, 0, 0, 0, 1, 0, 0, 0, 0, 0</text>\n<text text-anchor=\"middle\" x=\"7300\" y=\"-767.8\" font-family=\"Helvetica,sans-Serif\" font-size=\"14.00\" fill=\"#000000\">0, 0, 0, 1, 1, 0, 0, 0, 0, 0, 0, 0, 0, 0</text>\n<text text-anchor=\"middle\" x=\"7300\" y=\"-752.8\" font-family=\"Helvetica,sans-Serif\" font-size=\"14.00\" fill=\"#000000\">0, 0, 0, 0, 0, 0, 0, 0, 0, 0, 0, 0, 0, 0</text>\n<text text-anchor=\"middle\" x=\"7300\" y=\"-737.8\" font-family=\"Helvetica,sans-Serif\" font-size=\"14.00\" fill=\"#000000\">0, 0]</text>\n</g>\n<!-- 61&#45;&gt;79 -->\n<g id=\"edge79\" class=\"edge\">\n<title>61&#45;&gt;79</title>\n<path fill=\"none\" stroke=\"#000000\" d=\"M7112.6039,-878.957C7133.4825,-868.656 7155.3484,-857.8679 7176.4719,-847.446\"/>\n<polygon fill=\"#000000\" stroke=\"#000000\" points=\"7178.0551,-850.5678 7185.4744,-843.0044 7174.9578,-844.2902 7178.0551,-850.5678\"/>\n</g>\n<!-- 63 -->\n<g id=\"node64\" class=\"node\">\n<title>63</title>\n<polygon fill=\"none\" stroke=\"#000000\" points=\"6385,-694 6101,-694 6101,-581 6385,-581 6385,-694\"/>\n<text text-anchor=\"middle\" x=\"6243\" y=\"-678.8\" font-family=\"Helvetica,sans-Serif\" font-size=\"14.00\" fill=\"#000000\">X[1] &lt;= 4.0</text>\n<text text-anchor=\"middle\" x=\"6243\" y=\"-663.8\" font-family=\"Helvetica,sans-Serif\" font-size=\"14.00\" fill=\"#000000\">entropy = 1.0</text>\n<text text-anchor=\"middle\" x=\"6243\" y=\"-648.8\" font-family=\"Helvetica,sans-Serif\" font-size=\"14.00\" fill=\"#000000\">samples = 2</text>\n<text text-anchor=\"middle\" x=\"6243\" y=\"-633.8\" font-family=\"Helvetica,sans-Serif\" font-size=\"14.00\" fill=\"#000000\">value = [0, 0, 0, 0, 0, 0, 0, 0, 0, 0, 0, 0, 0, 0</text>\n<text text-anchor=\"middle\" x=\"6243\" y=\"-618.8\" font-family=\"Helvetica,sans-Serif\" font-size=\"14.00\" fill=\"#000000\">0, 0, 0, 0, 0, 0, 1, 0, 0, 0, 0, 0, 0, 0</text>\n<text text-anchor=\"middle\" x=\"6243\" y=\"-603.8\" font-family=\"Helvetica,sans-Serif\" font-size=\"14.00\" fill=\"#000000\">0, 0, 0, 0, 0, 0, 0, 0, 0, 0, 1, 0, 0, 0</text>\n<text text-anchor=\"middle\" x=\"6243\" y=\"-588.8\" font-family=\"Helvetica,sans-Serif\" font-size=\"14.00\" fill=\"#000000\">0, 0]</text>\n</g>\n<!-- 62&#45;&gt;63 -->\n<g id=\"edge63\" class=\"edge\">\n<title>62&#45;&gt;63</title>\n<path fill=\"none\" stroke=\"#000000\" d=\"M6553.9109,-739.7643C6503.3471,-723.1329 6446.2341,-704.3474 6394.8819,-687.4567\"/>\n<polygon fill=\"#000000\" stroke=\"#000000\" points=\"6395.9562,-684.1257 6385.3632,-684.3259 6393.769,-690.7752 6395.9562,-684.1257\"/>\n</g>\n<!-- 66 -->\n<g id=\"node67\" class=\"node\">\n<title>66</title>\n<polygon fill=\"none\" stroke=\"#000000\" points=\"6838,-694 6554,-694 6554,-581 6838,-581 6838,-694\"/>\n<text text-anchor=\"middle\" x=\"6696\" y=\"-678.8\" font-family=\"Helvetica,sans-Serif\" font-size=\"14.00\" fill=\"#000000\">X[2] &lt;= 16.5</text>\n<text text-anchor=\"middle\" x=\"6696\" y=\"-663.8\" font-family=\"Helvetica,sans-Serif\" font-size=\"14.00\" fill=\"#000000\">entropy = 2.128</text>\n<text text-anchor=\"middle\" x=\"6696\" y=\"-648.8\" font-family=\"Helvetica,sans-Serif\" font-size=\"14.00\" fill=\"#000000\">samples = 7</text>\n<text text-anchor=\"middle\" x=\"6696\" y=\"-633.8\" font-family=\"Helvetica,sans-Serif\" font-size=\"14.00\" fill=\"#000000\">value = [3, 0, 0, 0, 0, 0, 0, 0, 0, 0, 0, 0, 0, 0</text>\n<text text-anchor=\"middle\" x=\"6696\" y=\"-618.8\" font-family=\"Helvetica,sans-Serif\" font-size=\"14.00\" fill=\"#000000\">0, 1, 0, 0, 0, 0, 0, 0, 0, 0, 0, 0, 0, 1</text>\n<text text-anchor=\"middle\" x=\"6696\" y=\"-603.8\" font-family=\"Helvetica,sans-Serif\" font-size=\"14.00\" fill=\"#000000\">0, 0, 0, 0, 0, 0, 0, 0, 1, 0, 0, 0, 1, 0</text>\n<text text-anchor=\"middle\" x=\"6696\" y=\"-588.8\" font-family=\"Helvetica,sans-Serif\" font-size=\"14.00\" fill=\"#000000\">0, 0]</text>\n</g>\n<!-- 62&#45;&gt;66 -->\n<g id=\"edge66\" class=\"edge\">\n<title>62&#45;&gt;66</title>\n<path fill=\"none\" stroke=\"#000000\" d=\"M6696,-729.7444C6696,-721.442 6696,-712.8273 6696,-704.3464\"/>\n<polygon fill=\"#000000\" stroke=\"#000000\" points=\"6699.5001,-704.0977 6696,-694.0978 6692.5001,-704.0978 6699.5001,-704.0977\"/>\n</g>\n<!-- 64 -->\n<g id=\"node65\" class=\"node\">\n<title>64</title>\n<polygon fill=\"none\" stroke=\"#000000\" points=\"6083,-537.5 5799,-537.5 5799,-439.5 6083,-439.5 6083,-537.5\"/>\n<text text-anchor=\"middle\" x=\"5941\" y=\"-522.3\" font-family=\"Helvetica,sans-Serif\" font-size=\"14.00\" fill=\"#000000\">entropy = 0.0</text>\n<text text-anchor=\"middle\" x=\"5941\" y=\"-507.3\" font-family=\"Helvetica,sans-Serif\" font-size=\"14.00\" fill=\"#000000\">samples = 1</text>\n<text text-anchor=\"middle\" x=\"5941\" y=\"-492.3\" font-family=\"Helvetica,sans-Serif\" font-size=\"14.00\" fill=\"#000000\">value = [0, 0, 0, 0, 0, 0, 0, 0, 0, 0, 0, 0, 0, 0</text>\n<text text-anchor=\"middle\" x=\"5941\" y=\"-477.3\" font-family=\"Helvetica,sans-Serif\" font-size=\"14.00\" fill=\"#000000\">0, 0, 0, 0, 0, 0, 0, 0, 0, 0, 0, 0, 0, 0</text>\n<text text-anchor=\"middle\" x=\"5941\" y=\"-462.3\" font-family=\"Helvetica,sans-Serif\" font-size=\"14.00\" fill=\"#000000\">0, 0, 0, 0, 0, 0, 0, 0, 0, 0, 1, 0, 0, 0</text>\n<text text-anchor=\"middle\" x=\"5941\" y=\"-447.3\" font-family=\"Helvetica,sans-Serif\" font-size=\"14.00\" fill=\"#000000\">0, 0]</text>\n</g>\n<!-- 63&#45;&gt;64 -->\n<g id=\"edge64\" class=\"edge\">\n<title>63&#45;&gt;64</title>\n<path fill=\"none\" stroke=\"#000000\" d=\"M6128.3961,-580.957C6102.6863,-568.2724 6075.4796,-554.8492 6050.0052,-542.2807\"/>\n<polygon fill=\"#000000\" stroke=\"#000000\" points=\"6051.2208,-538.9777 6040.7042,-537.6918 6048.1235,-545.2552 6051.2208,-538.9777\"/>\n</g>\n<!-- 65 -->\n<g id=\"node66\" class=\"node\">\n<title>65</title>\n<polygon fill=\"none\" stroke=\"#000000\" points=\"6385,-537.5 6101,-537.5 6101,-439.5 6385,-439.5 6385,-537.5\"/>\n<text text-anchor=\"middle\" x=\"6243\" y=\"-522.3\" font-family=\"Helvetica,sans-Serif\" font-size=\"14.00\" fill=\"#000000\">entropy = 0.0</text>\n<text text-anchor=\"middle\" x=\"6243\" y=\"-507.3\" font-family=\"Helvetica,sans-Serif\" font-size=\"14.00\" fill=\"#000000\">samples = 1</text>\n<text text-anchor=\"middle\" x=\"6243\" y=\"-492.3\" font-family=\"Helvetica,sans-Serif\" font-size=\"14.00\" fill=\"#000000\">value = [0, 0, 0, 0, 0, 0, 0, 0, 0, 0, 0, 0, 0, 0</text>\n<text text-anchor=\"middle\" x=\"6243\" y=\"-477.3\" font-family=\"Helvetica,sans-Serif\" font-size=\"14.00\" fill=\"#000000\">0, 0, 0, 0, 0, 0, 1, 0, 0, 0, 0, 0, 0, 0</text>\n<text text-anchor=\"middle\" x=\"6243\" y=\"-462.3\" font-family=\"Helvetica,sans-Serif\" font-size=\"14.00\" fill=\"#000000\">0, 0, 0, 0, 0, 0, 0, 0, 0, 0, 0, 0, 0, 0</text>\n<text text-anchor=\"middle\" x=\"6243\" y=\"-447.3\" font-family=\"Helvetica,sans-Serif\" font-size=\"14.00\" fill=\"#000000\">0, 0]</text>\n</g>\n<!-- 63&#45;&gt;65 -->\n<g id=\"edge65\" class=\"edge\">\n<title>63&#45;&gt;65</title>\n<path fill=\"none\" stroke=\"#000000\" d=\"M6243,-580.7444C6243,-570.0249 6243,-558.7849 6243,-547.9842\"/>\n<polygon fill=\"#000000\" stroke=\"#000000\" points=\"6246.5001,-547.7947 6243,-537.7948 6239.5001,-547.7948 6246.5001,-547.7947\"/>\n</g>\n<!-- 67 -->\n<g id=\"node68\" class=\"node\">\n<title>67</title>\n<polygon fill=\"none\" stroke=\"#000000\" points=\"6687,-545 6403,-545 6403,-432 6687,-432 6687,-545\"/>\n<text text-anchor=\"middle\" x=\"6545\" y=\"-529.8\" font-family=\"Helvetica,sans-Serif\" font-size=\"14.00\" fill=\"#000000\">X[1] &lt;= 2.5</text>\n<text text-anchor=\"middle\" x=\"6545\" y=\"-514.8\" font-family=\"Helvetica,sans-Serif\" font-size=\"14.00\" fill=\"#000000\">entropy = 1.371</text>\n<text text-anchor=\"middle\" x=\"6545\" y=\"-499.8\" font-family=\"Helvetica,sans-Serif\" font-size=\"14.00\" fill=\"#000000\">samples = 5</text>\n<text text-anchor=\"middle\" x=\"6545\" y=\"-484.8\" font-family=\"Helvetica,sans-Serif\" font-size=\"14.00\" fill=\"#000000\">value = [3, 0, 0, 0, 0, 0, 0, 0, 0, 0, 0, 0, 0, 0</text>\n<text text-anchor=\"middle\" x=\"6545\" y=\"-469.8\" font-family=\"Helvetica,sans-Serif\" font-size=\"14.00\" fill=\"#000000\">0, 0, 0, 0, 0, 0, 0, 0, 0, 0, 0, 0, 0, 1</text>\n<text text-anchor=\"middle\" x=\"6545\" y=\"-454.8\" font-family=\"Helvetica,sans-Serif\" font-size=\"14.00\" fill=\"#000000\">0, 0, 0, 0, 0, 0, 0, 0, 1, 0, 0, 0, 0, 0</text>\n<text text-anchor=\"middle\" x=\"6545\" y=\"-439.8\" font-family=\"Helvetica,sans-Serif\" font-size=\"14.00\" fill=\"#000000\">0, 0]</text>\n</g>\n<!-- 66&#45;&gt;67 -->\n<g id=\"edge67\" class=\"edge\">\n<title>66&#45;&gt;67</title>\n<path fill=\"none\" stroke=\"#000000\" d=\"M6638.4826,-580.7444C6629.0516,-571.4384 6619.2232,-561.7401 6609.6336,-552.2775\"/>\n<polygon fill=\"#000000\" stroke=\"#000000\" points=\"6611.9339,-549.6302 6602.3575,-545.0978 6607.0172,-554.6129 6611.9339,-549.6302\"/>\n</g>\n<!-- 76 -->\n<g id=\"node77\" class=\"node\">\n<title>76</title>\n<polygon fill=\"none\" stroke=\"#000000\" points=\"6989,-545 6705,-545 6705,-432 6989,-432 6989,-545\"/>\n<text text-anchor=\"middle\" x=\"6847\" y=\"-529.8\" font-family=\"Helvetica,sans-Serif\" font-size=\"14.00\" fill=\"#000000\">X[2] &lt;= 17.5</text>\n<text text-anchor=\"middle\" x=\"6847\" y=\"-514.8\" font-family=\"Helvetica,sans-Serif\" font-size=\"14.00\" fill=\"#000000\">entropy = 1.0</text>\n<text text-anchor=\"middle\" x=\"6847\" y=\"-499.8\" font-family=\"Helvetica,sans-Serif\" font-size=\"14.00\" fill=\"#000000\">samples = 2</text>\n<text text-anchor=\"middle\" x=\"6847\" y=\"-484.8\" font-family=\"Helvetica,sans-Serif\" font-size=\"14.00\" fill=\"#000000\">value = [0, 0, 0, 0, 0, 0, 0, 0, 0, 0, 0, 0, 0, 0</text>\n<text text-anchor=\"middle\" x=\"6847\" y=\"-469.8\" font-family=\"Helvetica,sans-Serif\" font-size=\"14.00\" fill=\"#000000\">0, 1, 0, 0, 0, 0, 0, 0, 0, 0, 0, 0, 0, 0</text>\n<text text-anchor=\"middle\" x=\"6847\" y=\"-454.8\" font-family=\"Helvetica,sans-Serif\" font-size=\"14.00\" fill=\"#000000\">0, 0, 0, 0, 0, 0, 0, 0, 0, 0, 0, 0, 1, 0</text>\n<text text-anchor=\"middle\" x=\"6847\" y=\"-439.8\" font-family=\"Helvetica,sans-Serif\" font-size=\"14.00\" fill=\"#000000\">0, 0]</text>\n</g>\n<!-- 66&#45;&gt;76 -->\n<g id=\"edge76\" class=\"edge\">\n<title>66&#45;&gt;76</title>\n<path fill=\"none\" stroke=\"#000000\" d=\"M6753.5174,-580.7444C6762.9484,-571.4384 6772.7768,-561.7401 6782.3664,-552.2775\"/>\n<polygon fill=\"#000000\" stroke=\"#000000\" points=\"6784.9828,-554.6129 6789.6425,-545.0978 6780.0661,-549.6302 6784.9828,-554.6129\"/>\n</g>\n<!-- 68 -->\n<g id=\"node69\" class=\"node\">\n<title>68</title>\n<polygon fill=\"none\" stroke=\"#000000\" points=\"6385,-396 6101,-396 6101,-283 6385,-283 6385,-396\"/>\n<text text-anchor=\"middle\" x=\"6243\" y=\"-380.8\" font-family=\"Helvetica,sans-Serif\" font-size=\"14.00\" fill=\"#000000\">X[0] &lt;= 7.5</text>\n<text text-anchor=\"middle\" x=\"6243\" y=\"-365.8\" font-family=\"Helvetica,sans-Serif\" font-size=\"14.00\" fill=\"#000000\">entropy = 1.0</text>\n<text text-anchor=\"middle\" x=\"6243\" y=\"-350.8\" font-family=\"Helvetica,sans-Serif\" font-size=\"14.00\" fill=\"#000000\">samples = 2</text>\n<text text-anchor=\"middle\" x=\"6243\" y=\"-335.8\" font-family=\"Helvetica,sans-Serif\" font-size=\"14.00\" fill=\"#000000\">value = [1, 0, 0, 0, 0, 0, 0, 0, 0, 0, 0, 0, 0, 0</text>\n<text text-anchor=\"middle\" x=\"6243\" y=\"-320.8\" font-family=\"Helvetica,sans-Serif\" font-size=\"14.00\" fill=\"#000000\">0, 0, 0, 0, 0, 0, 0, 0, 0, 0, 0, 0, 0, 1</text>\n<text text-anchor=\"middle\" x=\"6243\" y=\"-305.8\" font-family=\"Helvetica,sans-Serif\" font-size=\"14.00\" fill=\"#000000\">0, 0, 0, 0, 0, 0, 0, 0, 0, 0, 0, 0, 0, 0</text>\n<text text-anchor=\"middle\" x=\"6243\" y=\"-290.8\" font-family=\"Helvetica,sans-Serif\" font-size=\"14.00\" fill=\"#000000\">0, 0]</text>\n</g>\n<!-- 67&#45;&gt;68 -->\n<g id=\"edge68\" class=\"edge\">\n<title>67&#45;&gt;68</title>\n<path fill=\"none\" stroke=\"#000000\" d=\"M6430.3961,-431.957C6409.5175,-421.656 6387.6516,-410.8679 6366.5281,-400.446\"/>\n<polygon fill=\"#000000\" stroke=\"#000000\" points=\"6368.0422,-397.2902 6357.5256,-396.0044 6364.9449,-403.5678 6368.0422,-397.2902\"/>\n</g>\n<!-- 71 -->\n<g id=\"node72\" class=\"node\">\n<title>71</title>\n<polygon fill=\"none\" stroke=\"#000000\" points=\"6687,-396 6403,-396 6403,-283 6687,-283 6687,-396\"/>\n<text text-anchor=\"middle\" x=\"6545\" y=\"-380.8\" font-family=\"Helvetica,sans-Serif\" font-size=\"14.00\" fill=\"#000000\">X[2] &lt;= 15.5</text>\n<text text-anchor=\"middle\" x=\"6545\" y=\"-365.8\" font-family=\"Helvetica,sans-Serif\" font-size=\"14.00\" fill=\"#000000\">entropy = 0.918</text>\n<text text-anchor=\"middle\" x=\"6545\" y=\"-350.8\" font-family=\"Helvetica,sans-Serif\" font-size=\"14.00\" fill=\"#000000\">samples = 3</text>\n<text text-anchor=\"middle\" x=\"6545\" y=\"-335.8\" font-family=\"Helvetica,sans-Serif\" font-size=\"14.00\" fill=\"#000000\">value = [2, 0, 0, 0, 0, 0, 0, 0, 0, 0, 0, 0, 0, 0</text>\n<text text-anchor=\"middle\" x=\"6545\" y=\"-320.8\" font-family=\"Helvetica,sans-Serif\" font-size=\"14.00\" fill=\"#000000\">0, 0, 0, 0, 0, 0, 0, 0, 0, 0, 0, 0, 0, 0</text>\n<text text-anchor=\"middle\" x=\"6545\" y=\"-305.8\" font-family=\"Helvetica,sans-Serif\" font-size=\"14.00\" fill=\"#000000\">0, 0, 0, 0, 0, 0, 0, 0, 1, 0, 0, 0, 0, 0</text>\n<text text-anchor=\"middle\" x=\"6545\" y=\"-290.8\" font-family=\"Helvetica,sans-Serif\" font-size=\"14.00\" fill=\"#000000\">0, 0]</text>\n</g>\n<!-- 67&#45;&gt;71 -->\n<g id=\"edge71\" class=\"edge\">\n<title>67&#45;&gt;71</title>\n<path fill=\"none\" stroke=\"#000000\" d=\"M6545,-431.7444C6545,-423.442 6545,-414.8273 6545,-406.3464\"/>\n<polygon fill=\"#000000\" stroke=\"#000000\" points=\"6548.5001,-406.0977 6545,-396.0978 6541.5001,-406.0978 6548.5001,-406.0977\"/>\n</g>\n<!-- 69 -->\n<g id=\"node70\" class=\"node\">\n<title>69</title>\n<polygon fill=\"none\" stroke=\"#000000\" points=\"6083,-239.5 5799,-239.5 5799,-141.5 6083,-141.5 6083,-239.5\"/>\n<text text-anchor=\"middle\" x=\"5941\" y=\"-224.3\" font-family=\"Helvetica,sans-Serif\" font-size=\"14.00\" fill=\"#000000\">entropy = 0.0</text>\n<text text-anchor=\"middle\" x=\"5941\" y=\"-209.3\" font-family=\"Helvetica,sans-Serif\" font-size=\"14.00\" fill=\"#000000\">samples = 1</text>\n<text text-anchor=\"middle\" x=\"5941\" y=\"-194.3\" font-family=\"Helvetica,sans-Serif\" font-size=\"14.00\" fill=\"#000000\">value = [1, 0, 0, 0, 0, 0, 0, 0, 0, 0, 0, 0, 0, 0</text>\n<text text-anchor=\"middle\" x=\"5941\" y=\"-179.3\" font-family=\"Helvetica,sans-Serif\" font-size=\"14.00\" fill=\"#000000\">0, 0, 0, 0, 0, 0, 0, 0, 0, 0, 0, 0, 0, 0</text>\n<text text-anchor=\"middle\" x=\"5941\" y=\"-164.3\" font-family=\"Helvetica,sans-Serif\" font-size=\"14.00\" fill=\"#000000\">0, 0, 0, 0, 0, 0, 0, 0, 0, 0, 0, 0, 0, 0</text>\n<text text-anchor=\"middle\" x=\"5941\" y=\"-149.3\" font-family=\"Helvetica,sans-Serif\" font-size=\"14.00\" fill=\"#000000\">0, 0]</text>\n</g>\n<!-- 68&#45;&gt;69 -->\n<g id=\"edge69\" class=\"edge\">\n<title>68&#45;&gt;69</title>\n<path fill=\"none\" stroke=\"#000000\" d=\"M6128.3961,-282.957C6102.6863,-270.2724 6075.4796,-256.8492 6050.0052,-244.2807\"/>\n<polygon fill=\"#000000\" stroke=\"#000000\" points=\"6051.2208,-240.9777 6040.7042,-239.6918 6048.1235,-247.2552 6051.2208,-240.9777\"/>\n</g>\n<!-- 70 -->\n<g id=\"node71\" class=\"node\">\n<title>70</title>\n<polygon fill=\"none\" stroke=\"#000000\" points=\"6385,-239.5 6101,-239.5 6101,-141.5 6385,-141.5 6385,-239.5\"/>\n<text text-anchor=\"middle\" x=\"6243\" y=\"-224.3\" font-family=\"Helvetica,sans-Serif\" font-size=\"14.00\" fill=\"#000000\">entropy = 0.0</text>\n<text text-anchor=\"middle\" x=\"6243\" y=\"-209.3\" font-family=\"Helvetica,sans-Serif\" font-size=\"14.00\" fill=\"#000000\">samples = 1</text>\n<text text-anchor=\"middle\" x=\"6243\" y=\"-194.3\" font-family=\"Helvetica,sans-Serif\" font-size=\"14.00\" fill=\"#000000\">value = [0, 0, 0, 0, 0, 0, 0, 0, 0, 0, 0, 0, 0, 0</text>\n<text text-anchor=\"middle\" x=\"6243\" y=\"-179.3\" font-family=\"Helvetica,sans-Serif\" font-size=\"14.00\" fill=\"#000000\">0, 0, 0, 0, 0, 0, 0, 0, 0, 0, 0, 0, 0, 1</text>\n<text text-anchor=\"middle\" x=\"6243\" y=\"-164.3\" font-family=\"Helvetica,sans-Serif\" font-size=\"14.00\" fill=\"#000000\">0, 0, 0, 0, 0, 0, 0, 0, 0, 0, 0, 0, 0, 0</text>\n<text text-anchor=\"middle\" x=\"6243\" y=\"-149.3\" font-family=\"Helvetica,sans-Serif\" font-size=\"14.00\" fill=\"#000000\">0, 0]</text>\n</g>\n<!-- 68&#45;&gt;70 -->\n<g id=\"edge70\" class=\"edge\">\n<title>68&#45;&gt;70</title>\n<path fill=\"none\" stroke=\"#000000\" d=\"M6243,-282.7444C6243,-272.0249 6243,-260.7849 6243,-249.9842\"/>\n<polygon fill=\"#000000\" stroke=\"#000000\" points=\"6246.5001,-249.7947 6243,-239.7948 6239.5001,-249.7948 6246.5001,-249.7947\"/>\n</g>\n<!-- 72 -->\n<g id=\"node73\" class=\"node\">\n<title>72</title>\n<polygon fill=\"none\" stroke=\"#000000\" points=\"6687,-239.5 6403,-239.5 6403,-141.5 6687,-141.5 6687,-239.5\"/>\n<text text-anchor=\"middle\" x=\"6545\" y=\"-224.3\" font-family=\"Helvetica,sans-Serif\" font-size=\"14.00\" fill=\"#000000\">entropy = 0.0</text>\n<text text-anchor=\"middle\" x=\"6545\" y=\"-209.3\" font-family=\"Helvetica,sans-Serif\" font-size=\"14.00\" fill=\"#000000\">samples = 1</text>\n<text text-anchor=\"middle\" x=\"6545\" y=\"-194.3\" font-family=\"Helvetica,sans-Serif\" font-size=\"14.00\" fill=\"#000000\">value = [1, 0, 0, 0, 0, 0, 0, 0, 0, 0, 0, 0, 0, 0</text>\n<text text-anchor=\"middle\" x=\"6545\" y=\"-179.3\" font-family=\"Helvetica,sans-Serif\" font-size=\"14.00\" fill=\"#000000\">0, 0, 0, 0, 0, 0, 0, 0, 0, 0, 0, 0, 0, 0</text>\n<text text-anchor=\"middle\" x=\"6545\" y=\"-164.3\" font-family=\"Helvetica,sans-Serif\" font-size=\"14.00\" fill=\"#000000\">0, 0, 0, 0, 0, 0, 0, 0, 0, 0, 0, 0, 0, 0</text>\n<text text-anchor=\"middle\" x=\"6545\" y=\"-149.3\" font-family=\"Helvetica,sans-Serif\" font-size=\"14.00\" fill=\"#000000\">0, 0]</text>\n</g>\n<!-- 71&#45;&gt;72 -->\n<g id=\"edge72\" class=\"edge\">\n<title>71&#45;&gt;72</title>\n<path fill=\"none\" stroke=\"#000000\" d=\"M6545,-282.7444C6545,-272.0249 6545,-260.7849 6545,-249.9842\"/>\n<polygon fill=\"#000000\" stroke=\"#000000\" points=\"6548.5001,-249.7947 6545,-239.7948 6541.5001,-249.7948 6548.5001,-249.7947\"/>\n</g>\n<!-- 73 -->\n<g id=\"node74\" class=\"node\">\n<title>73</title>\n<polygon fill=\"none\" stroke=\"#000000\" points=\"6989,-247 6705,-247 6705,-134 6989,-134 6989,-247\"/>\n<text text-anchor=\"middle\" x=\"6847\" y=\"-231.8\" font-family=\"Helvetica,sans-Serif\" font-size=\"14.00\" fill=\"#000000\">X[0] &lt;= 14.0</text>\n<text text-anchor=\"middle\" x=\"6847\" y=\"-216.8\" font-family=\"Helvetica,sans-Serif\" font-size=\"14.00\" fill=\"#000000\">entropy = 1.0</text>\n<text text-anchor=\"middle\" x=\"6847\" y=\"-201.8\" font-family=\"Helvetica,sans-Serif\" font-size=\"14.00\" fill=\"#000000\">samples = 2</text>\n<text text-anchor=\"middle\" x=\"6847\" y=\"-186.8\" font-family=\"Helvetica,sans-Serif\" font-size=\"14.00\" fill=\"#000000\">value = [1, 0, 0, 0, 0, 0, 0, 0, 0, 0, 0, 0, 0, 0</text>\n<text text-anchor=\"middle\" x=\"6847\" y=\"-171.8\" font-family=\"Helvetica,sans-Serif\" font-size=\"14.00\" fill=\"#000000\">0, 0, 0, 0, 0, 0, 0, 0, 0, 0, 0, 0, 0, 0</text>\n<text text-anchor=\"middle\" x=\"6847\" y=\"-156.8\" font-family=\"Helvetica,sans-Serif\" font-size=\"14.00\" fill=\"#000000\">0, 0, 0, 0, 0, 0, 0, 0, 1, 0, 0, 0, 0, 0</text>\n<text text-anchor=\"middle\" x=\"6847\" y=\"-141.8\" font-family=\"Helvetica,sans-Serif\" font-size=\"14.00\" fill=\"#000000\">0, 0]</text>\n</g>\n<!-- 71&#45;&gt;73 -->\n<g id=\"edge73\" class=\"edge\">\n<title>71&#45;&gt;73</title>\n<path fill=\"none\" stroke=\"#000000\" d=\"M6659.6039,-282.957C6680.4825,-272.656 6702.3484,-261.8679 6723.4719,-251.446\"/>\n<polygon fill=\"#000000\" stroke=\"#000000\" points=\"6725.0551,-254.5678 6732.4744,-247.0044 6721.9578,-248.2902 6725.0551,-254.5678\"/>\n</g>\n<!-- 74 -->\n<g id=\"node75\" class=\"node\">\n<title>74</title>\n<polygon fill=\"none\" stroke=\"#000000\" points=\"6838,-98 6554,-98 6554,0 6838,0 6838,-98\"/>\n<text text-anchor=\"middle\" x=\"6696\" y=\"-82.8\" font-family=\"Helvetica,sans-Serif\" font-size=\"14.00\" fill=\"#000000\">entropy = 0.0</text>\n<text text-anchor=\"middle\" x=\"6696\" y=\"-67.8\" font-family=\"Helvetica,sans-Serif\" font-size=\"14.00\" fill=\"#000000\">samples = 1</text>\n<text text-anchor=\"middle\" x=\"6696\" y=\"-52.8\" font-family=\"Helvetica,sans-Serif\" font-size=\"14.00\" fill=\"#000000\">value = [0, 0, 0, 0, 0, 0, 0, 0, 0, 0, 0, 0, 0, 0</text>\n<text text-anchor=\"middle\" x=\"6696\" y=\"-37.8\" font-family=\"Helvetica,sans-Serif\" font-size=\"14.00\" fill=\"#000000\">0, 0, 0, 0, 0, 0, 0, 0, 0, 0, 0, 0, 0, 0</text>\n<text text-anchor=\"middle\" x=\"6696\" y=\"-22.8\" font-family=\"Helvetica,sans-Serif\" font-size=\"14.00\" fill=\"#000000\">0, 0, 0, 0, 0, 0, 0, 0, 1, 0, 0, 0, 0, 0</text>\n<text text-anchor=\"middle\" x=\"6696\" y=\"-7.8\" font-family=\"Helvetica,sans-Serif\" font-size=\"14.00\" fill=\"#000000\">0, 0]</text>\n</g>\n<!-- 73&#45;&gt;74 -->\n<g id=\"edge74\" class=\"edge\">\n<title>73&#45;&gt;74</title>\n<path fill=\"none\" stroke=\"#000000\" d=\"M6786.4526,-133.7619C6776.2848,-124.2338 6765.7402,-114.3526 6755.5968,-104.8473\"/>\n<polygon fill=\"#000000\" stroke=\"#000000\" points=\"6757.9829,-102.2868 6748.2928,-98.0028 6753.1964,-107.3946 6757.9829,-102.2868\"/>\n</g>\n<!-- 75 -->\n<g id=\"node76\" class=\"node\">\n<title>75</title>\n<polygon fill=\"none\" stroke=\"#000000\" points=\"7140,-98 6856,-98 6856,0 7140,0 7140,-98\"/>\n<text text-anchor=\"middle\" x=\"6998\" y=\"-82.8\" font-family=\"Helvetica,sans-Serif\" font-size=\"14.00\" fill=\"#000000\">entropy = 0.0</text>\n<text text-anchor=\"middle\" x=\"6998\" y=\"-67.8\" font-family=\"Helvetica,sans-Serif\" font-size=\"14.00\" fill=\"#000000\">samples = 1</text>\n<text text-anchor=\"middle\" x=\"6998\" y=\"-52.8\" font-family=\"Helvetica,sans-Serif\" font-size=\"14.00\" fill=\"#000000\">value = [1, 0, 0, 0, 0, 0, 0, 0, 0, 0, 0, 0, 0, 0</text>\n<text text-anchor=\"middle\" x=\"6998\" y=\"-37.8\" font-family=\"Helvetica,sans-Serif\" font-size=\"14.00\" fill=\"#000000\">0, 0, 0, 0, 0, 0, 0, 0, 0, 0, 0, 0, 0, 0</text>\n<text text-anchor=\"middle\" x=\"6998\" y=\"-22.8\" font-family=\"Helvetica,sans-Serif\" font-size=\"14.00\" fill=\"#000000\">0, 0, 0, 0, 0, 0, 0, 0, 0, 0, 0, 0, 0, 0</text>\n<text text-anchor=\"middle\" x=\"6998\" y=\"-7.8\" font-family=\"Helvetica,sans-Serif\" font-size=\"14.00\" fill=\"#000000\">0, 0]</text>\n</g>\n<!-- 73&#45;&gt;75 -->\n<g id=\"edge75\" class=\"edge\">\n<title>73&#45;&gt;75</title>\n<path fill=\"none\" stroke=\"#000000\" d=\"M6907.5474,-133.7619C6917.7152,-124.2338 6928.2598,-114.3526 6938.4032,-104.8473\"/>\n<polygon fill=\"#000000\" stroke=\"#000000\" points=\"6940.8036,-107.3946 6945.7072,-98.0028 6936.0171,-102.2868 6940.8036,-107.3946\"/>\n</g>\n<!-- 77 -->\n<g id=\"node78\" class=\"node\">\n<title>77</title>\n<polygon fill=\"none\" stroke=\"#000000\" points=\"6989,-388.5 6705,-388.5 6705,-290.5 6989,-290.5 6989,-388.5\"/>\n<text text-anchor=\"middle\" x=\"6847\" y=\"-373.3\" font-family=\"Helvetica,sans-Serif\" font-size=\"14.00\" fill=\"#000000\">entropy = 0.0</text>\n<text text-anchor=\"middle\" x=\"6847\" y=\"-358.3\" font-family=\"Helvetica,sans-Serif\" font-size=\"14.00\" fill=\"#000000\">samples = 1</text>\n<text text-anchor=\"middle\" x=\"6847\" y=\"-343.3\" font-family=\"Helvetica,sans-Serif\" font-size=\"14.00\" fill=\"#000000\">value = [0, 0, 0, 0, 0, 0, 0, 0, 0, 0, 0, 0, 0, 0</text>\n<text text-anchor=\"middle\" x=\"6847\" y=\"-328.3\" font-family=\"Helvetica,sans-Serif\" font-size=\"14.00\" fill=\"#000000\">0, 1, 0, 0, 0, 0, 0, 0, 0, 0, 0, 0, 0, 0</text>\n<text text-anchor=\"middle\" x=\"6847\" y=\"-313.3\" font-family=\"Helvetica,sans-Serif\" font-size=\"14.00\" fill=\"#000000\">0, 0, 0, 0, 0, 0, 0, 0, 0, 0, 0, 0, 0, 0</text>\n<text text-anchor=\"middle\" x=\"6847\" y=\"-298.3\" font-family=\"Helvetica,sans-Serif\" font-size=\"14.00\" fill=\"#000000\">0, 0]</text>\n</g>\n<!-- 76&#45;&gt;77 -->\n<g id=\"edge77\" class=\"edge\">\n<title>76&#45;&gt;77</title>\n<path fill=\"none\" stroke=\"#000000\" d=\"M6847,-431.7444C6847,-421.0249 6847,-409.7849 6847,-398.9842\"/>\n<polygon fill=\"#000000\" stroke=\"#000000\" points=\"6850.5001,-398.7947 6847,-388.7948 6843.5001,-398.7948 6850.5001,-398.7947\"/>\n</g>\n<!-- 78 -->\n<g id=\"node79\" class=\"node\">\n<title>78</title>\n<polygon fill=\"none\" stroke=\"#000000\" points=\"7291,-388.5 7007,-388.5 7007,-290.5 7291,-290.5 7291,-388.5\"/>\n<text text-anchor=\"middle\" x=\"7149\" y=\"-373.3\" font-family=\"Helvetica,sans-Serif\" font-size=\"14.00\" fill=\"#000000\">entropy = 0.0</text>\n<text text-anchor=\"middle\" x=\"7149\" y=\"-358.3\" font-family=\"Helvetica,sans-Serif\" font-size=\"14.00\" fill=\"#000000\">samples = 1</text>\n<text text-anchor=\"middle\" x=\"7149\" y=\"-343.3\" font-family=\"Helvetica,sans-Serif\" font-size=\"14.00\" fill=\"#000000\">value = [0, 0, 0, 0, 0, 0, 0, 0, 0, 0, 0, 0, 0, 0</text>\n<text text-anchor=\"middle\" x=\"7149\" y=\"-328.3\" font-family=\"Helvetica,sans-Serif\" font-size=\"14.00\" fill=\"#000000\">0, 0, 0, 0, 0, 0, 0, 0, 0, 0, 0, 0, 0, 0</text>\n<text text-anchor=\"middle\" x=\"7149\" y=\"-313.3\" font-family=\"Helvetica,sans-Serif\" font-size=\"14.00\" fill=\"#000000\">0, 0, 0, 0, 0, 0, 0, 0, 0, 0, 0, 0, 1, 0</text>\n<text text-anchor=\"middle\" x=\"7149\" y=\"-298.3\" font-family=\"Helvetica,sans-Serif\" font-size=\"14.00\" fill=\"#000000\">0, 0]</text>\n</g>\n<!-- 76&#45;&gt;78 -->\n<g id=\"edge78\" class=\"edge\">\n<title>76&#45;&gt;78</title>\n<path fill=\"none\" stroke=\"#000000\" d=\"M6961.6039,-431.957C6987.3137,-419.2724 7014.5204,-405.8492 7039.9948,-393.2807\"/>\n<polygon fill=\"#000000\" stroke=\"#000000\" points=\"7041.8765,-396.2552 7049.2958,-388.6918 7038.7792,-389.9777 7041.8765,-396.2552\"/>\n</g>\n<!-- 80 -->\n<g id=\"node81\" class=\"node\">\n<title>80</title>\n<polygon fill=\"none\" stroke=\"#000000\" points=\"7442,-694 7158,-694 7158,-581 7442,-581 7442,-694\"/>\n<text text-anchor=\"middle\" x=\"7300\" y=\"-678.8\" font-family=\"Helvetica,sans-Serif\" font-size=\"14.00\" fill=\"#000000\">X[0] &lt;= 18.0</text>\n<text text-anchor=\"middle\" x=\"7300\" y=\"-663.8\" font-family=\"Helvetica,sans-Serif\" font-size=\"14.00\" fill=\"#000000\">entropy = 1.0</text>\n<text text-anchor=\"middle\" x=\"7300\" y=\"-648.8\" font-family=\"Helvetica,sans-Serif\" font-size=\"14.00\" fill=\"#000000\">samples = 2</text>\n<text text-anchor=\"middle\" x=\"7300\" y=\"-633.8\" font-family=\"Helvetica,sans-Serif\" font-size=\"14.00\" fill=\"#000000\">value = [0, 0, 0, 0, 0, 0, 0, 0, 0, 0, 0, 0, 0, 0</text>\n<text text-anchor=\"middle\" x=\"7300\" y=\"-618.8\" font-family=\"Helvetica,sans-Serif\" font-size=\"14.00\" fill=\"#000000\">0, 0, 0, 1, 1, 0, 0, 0, 0, 0, 0, 0, 0, 0</text>\n<text text-anchor=\"middle\" x=\"7300\" y=\"-603.8\" font-family=\"Helvetica,sans-Serif\" font-size=\"14.00\" fill=\"#000000\">0, 0, 0, 0, 0, 0, 0, 0, 0, 0, 0, 0, 0, 0</text>\n<text text-anchor=\"middle\" x=\"7300\" y=\"-588.8\" font-family=\"Helvetica,sans-Serif\" font-size=\"14.00\" fill=\"#000000\">0, 0]</text>\n</g>\n<!-- 79&#45;&gt;80 -->\n<g id=\"edge80\" class=\"edge\">\n<title>79&#45;&gt;80</title>\n<path fill=\"none\" stroke=\"#000000\" d=\"M7300,-729.7444C7300,-721.442 7300,-712.8273 7300,-704.3464\"/>\n<polygon fill=\"#000000\" stroke=\"#000000\" points=\"7303.5001,-704.0977 7300,-694.0978 7296.5001,-704.0978 7303.5001,-704.0977\"/>\n</g>\n<!-- 83 -->\n<g id=\"node84\" class=\"node\">\n<title>83</title>\n<polygon fill=\"none\" stroke=\"#000000\" points=\"7895,-694 7611,-694 7611,-581 7895,-581 7895,-694\"/>\n<text text-anchor=\"middle\" x=\"7753\" y=\"-678.8\" font-family=\"Helvetica,sans-Serif\" font-size=\"14.00\" fill=\"#000000\">X[0] &lt;= 25.0</text>\n<text text-anchor=\"middle\" x=\"7753\" y=\"-663.8\" font-family=\"Helvetica,sans-Serif\" font-size=\"14.00\" fill=\"#000000\">entropy = 1.0</text>\n<text text-anchor=\"middle\" x=\"7753\" y=\"-648.8\" font-family=\"Helvetica,sans-Serif\" font-size=\"14.00\" fill=\"#000000\">samples = 2</text>\n<text text-anchor=\"middle\" x=\"7753\" y=\"-633.8\" font-family=\"Helvetica,sans-Serif\" font-size=\"14.00\" fill=\"#000000\">value = [0, 0, 1, 0, 0, 0, 0, 0, 1, 0, 0, 0, 0, 0</text>\n<text text-anchor=\"middle\" x=\"7753\" y=\"-618.8\" font-family=\"Helvetica,sans-Serif\" font-size=\"14.00\" fill=\"#000000\">0, 0, 0, 0, 0, 0, 0, 0, 0, 0, 0, 0, 0, 0</text>\n<text text-anchor=\"middle\" x=\"7753\" y=\"-603.8\" font-family=\"Helvetica,sans-Serif\" font-size=\"14.00\" fill=\"#000000\">0, 0, 0, 0, 0, 0, 0, 0, 0, 0, 0, 0, 0, 0</text>\n<text text-anchor=\"middle\" x=\"7753\" y=\"-588.8\" font-family=\"Helvetica,sans-Serif\" font-size=\"14.00\" fill=\"#000000\">0, 0]</text>\n</g>\n<!-- 79&#45;&gt;83 -->\n<g id=\"edge83\" class=\"edge\">\n<title>79&#45;&gt;83</title>\n<path fill=\"none\" stroke=\"#000000\" d=\"M7442.0891,-739.7643C7492.6529,-723.1329 7549.7659,-704.3474 7601.1181,-687.4567\"/>\n<polygon fill=\"#000000\" stroke=\"#000000\" points=\"7602.231,-690.7752 7610.6368,-684.3259 7600.0438,-684.1257 7602.231,-690.7752\"/>\n</g>\n<!-- 81 -->\n<g id=\"node82\" class=\"node\">\n<title>81</title>\n<polygon fill=\"none\" stroke=\"#000000\" points=\"7291,-537.5 7007,-537.5 7007,-439.5 7291,-439.5 7291,-537.5\"/>\n<text text-anchor=\"middle\" x=\"7149\" y=\"-522.3\" font-family=\"Helvetica,sans-Serif\" font-size=\"14.00\" fill=\"#000000\">entropy = 0.0</text>\n<text text-anchor=\"middle\" x=\"7149\" y=\"-507.3\" font-family=\"Helvetica,sans-Serif\" font-size=\"14.00\" fill=\"#000000\">samples = 1</text>\n<text text-anchor=\"middle\" x=\"7149\" y=\"-492.3\" font-family=\"Helvetica,sans-Serif\" font-size=\"14.00\" fill=\"#000000\">value = [0, 0, 0, 0, 0, 0, 0, 0, 0, 0, 0, 0, 0, 0</text>\n<text text-anchor=\"middle\" x=\"7149\" y=\"-477.3\" font-family=\"Helvetica,sans-Serif\" font-size=\"14.00\" fill=\"#000000\">0, 0, 0, 1, 0, 0, 0, 0, 0, 0, 0, 0, 0, 0</text>\n<text text-anchor=\"middle\" x=\"7149\" y=\"-462.3\" font-family=\"Helvetica,sans-Serif\" font-size=\"14.00\" fill=\"#000000\">0, 0, 0, 0, 0, 0, 0, 0, 0, 0, 0, 0, 0, 0</text>\n<text text-anchor=\"middle\" x=\"7149\" y=\"-447.3\" font-family=\"Helvetica,sans-Serif\" font-size=\"14.00\" fill=\"#000000\">0, 0]</text>\n</g>\n<!-- 80&#45;&gt;81 -->\n<g id=\"edge81\" class=\"edge\">\n<title>80&#45;&gt;81</title>\n<path fill=\"none\" stroke=\"#000000\" d=\"M7242.4826,-580.7444C7230.6112,-569.0303 7218.11,-556.6946 7206.2481,-544.9899\"/>\n<polygon fill=\"#000000\" stroke=\"#000000\" points=\"7208.5329,-542.3273 7198.9565,-537.7948 7203.6162,-547.3099 7208.5329,-542.3273\"/>\n</g>\n<!-- 82 -->\n<g id=\"node83\" class=\"node\">\n<title>82</title>\n<polygon fill=\"none\" stroke=\"#000000\" points=\"7593,-537.5 7309,-537.5 7309,-439.5 7593,-439.5 7593,-537.5\"/>\n<text text-anchor=\"middle\" x=\"7451\" y=\"-522.3\" font-family=\"Helvetica,sans-Serif\" font-size=\"14.00\" fill=\"#000000\">entropy = 0.0</text>\n<text text-anchor=\"middle\" x=\"7451\" y=\"-507.3\" font-family=\"Helvetica,sans-Serif\" font-size=\"14.00\" fill=\"#000000\">samples = 1</text>\n<text text-anchor=\"middle\" x=\"7451\" y=\"-492.3\" font-family=\"Helvetica,sans-Serif\" font-size=\"14.00\" fill=\"#000000\">value = [0, 0, 0, 0, 0, 0, 0, 0, 0, 0, 0, 0, 0, 0</text>\n<text text-anchor=\"middle\" x=\"7451\" y=\"-477.3\" font-family=\"Helvetica,sans-Serif\" font-size=\"14.00\" fill=\"#000000\">0, 0, 0, 0, 1, 0, 0, 0, 0, 0, 0, 0, 0, 0</text>\n<text text-anchor=\"middle\" x=\"7451\" y=\"-462.3\" font-family=\"Helvetica,sans-Serif\" font-size=\"14.00\" fill=\"#000000\">0, 0, 0, 0, 0, 0, 0, 0, 0, 0, 0, 0, 0, 0</text>\n<text text-anchor=\"middle\" x=\"7451\" y=\"-447.3\" font-family=\"Helvetica,sans-Serif\" font-size=\"14.00\" fill=\"#000000\">0, 0]</text>\n</g>\n<!-- 80&#45;&gt;82 -->\n<g id=\"edge82\" class=\"edge\">\n<title>80&#45;&gt;82</title>\n<path fill=\"none\" stroke=\"#000000\" d=\"M7357.5174,-580.7444C7369.3888,-569.0303 7381.89,-556.6946 7393.7519,-544.9899\"/>\n<polygon fill=\"#000000\" stroke=\"#000000\" points=\"7396.3838,-547.3099 7401.0435,-537.7948 7391.4671,-542.3273 7396.3838,-547.3099\"/>\n</g>\n<!-- 84 -->\n<g id=\"node85\" class=\"node\">\n<title>84</title>\n<polygon fill=\"none\" stroke=\"#000000\" points=\"7895,-537.5 7611,-537.5 7611,-439.5 7895,-439.5 7895,-537.5\"/>\n<text text-anchor=\"middle\" x=\"7753\" y=\"-522.3\" font-family=\"Helvetica,sans-Serif\" font-size=\"14.00\" fill=\"#000000\">entropy = 0.0</text>\n<text text-anchor=\"middle\" x=\"7753\" y=\"-507.3\" font-family=\"Helvetica,sans-Serif\" font-size=\"14.00\" fill=\"#000000\">samples = 1</text>\n<text text-anchor=\"middle\" x=\"7753\" y=\"-492.3\" font-family=\"Helvetica,sans-Serif\" font-size=\"14.00\" fill=\"#000000\">value = [0, 0, 0, 0, 0, 0, 0, 0, 1, 0, 0, 0, 0, 0</text>\n<text text-anchor=\"middle\" x=\"7753\" y=\"-477.3\" font-family=\"Helvetica,sans-Serif\" font-size=\"14.00\" fill=\"#000000\">0, 0, 0, 0, 0, 0, 0, 0, 0, 0, 0, 0, 0, 0</text>\n<text text-anchor=\"middle\" x=\"7753\" y=\"-462.3\" font-family=\"Helvetica,sans-Serif\" font-size=\"14.00\" fill=\"#000000\">0, 0, 0, 0, 0, 0, 0, 0, 0, 0, 0, 0, 0, 0</text>\n<text text-anchor=\"middle\" x=\"7753\" y=\"-447.3\" font-family=\"Helvetica,sans-Serif\" font-size=\"14.00\" fill=\"#000000\">0, 0]</text>\n</g>\n<!-- 83&#45;&gt;84 -->\n<g id=\"edge84\" class=\"edge\">\n<title>83&#45;&gt;84</title>\n<path fill=\"none\" stroke=\"#000000\" d=\"M7753,-580.7444C7753,-570.0249 7753,-558.7849 7753,-547.9842\"/>\n<polygon fill=\"#000000\" stroke=\"#000000\" points=\"7756.5001,-547.7947 7753,-537.7948 7749.5001,-547.7948 7756.5001,-547.7947\"/>\n</g>\n<!-- 85 -->\n<g id=\"node86\" class=\"node\">\n<title>85</title>\n<polygon fill=\"none\" stroke=\"#000000\" points=\"8197,-537.5 7913,-537.5 7913,-439.5 8197,-439.5 8197,-537.5\"/>\n<text text-anchor=\"middle\" x=\"8055\" y=\"-522.3\" font-family=\"Helvetica,sans-Serif\" font-size=\"14.00\" fill=\"#000000\">entropy = 0.0</text>\n<text text-anchor=\"middle\" x=\"8055\" y=\"-507.3\" font-family=\"Helvetica,sans-Serif\" font-size=\"14.00\" fill=\"#000000\">samples = 1</text>\n<text text-anchor=\"middle\" x=\"8055\" y=\"-492.3\" font-family=\"Helvetica,sans-Serif\" font-size=\"14.00\" fill=\"#000000\">value = [0, 0, 1, 0, 0, 0, 0, 0, 0, 0, 0, 0, 0, 0</text>\n<text text-anchor=\"middle\" x=\"8055\" y=\"-477.3\" font-family=\"Helvetica,sans-Serif\" font-size=\"14.00\" fill=\"#000000\">0, 0, 0, 0, 0, 0, 0, 0, 0, 0, 0, 0, 0, 0</text>\n<text text-anchor=\"middle\" x=\"8055\" y=\"-462.3\" font-family=\"Helvetica,sans-Serif\" font-size=\"14.00\" fill=\"#000000\">0, 0, 0, 0, 0, 0, 0, 0, 0, 0, 0, 0, 0, 0</text>\n<text text-anchor=\"middle\" x=\"8055\" y=\"-447.3\" font-family=\"Helvetica,sans-Serif\" font-size=\"14.00\" fill=\"#000000\">0, 0]</text>\n</g>\n<!-- 83&#45;&gt;85 -->\n<g id=\"edge85\" class=\"edge\">\n<title>83&#45;&gt;85</title>\n<path fill=\"none\" stroke=\"#000000\" d=\"M7867.6039,-580.957C7893.3137,-568.2724 7920.5204,-554.8492 7945.9948,-542.2807\"/>\n<polygon fill=\"#000000\" stroke=\"#000000\" points=\"7947.8765,-545.2552 7955.2958,-537.6918 7944.7792,-538.9777 7947.8765,-545.2552\"/>\n</g>\n<!-- 87 -->\n<g id=\"node88\" class=\"node\">\n<title>87</title>\n<polygon fill=\"none\" stroke=\"#000000\" points=\"8952,-843 8668,-843 8668,-730 8952,-730 8952,-843\"/>\n<text text-anchor=\"middle\" x=\"8810\" y=\"-827.8\" font-family=\"Helvetica,sans-Serif\" font-size=\"14.00\" fill=\"#000000\">X[0] &lt;= 46.0</text>\n<text text-anchor=\"middle\" x=\"8810\" y=\"-812.8\" font-family=\"Helvetica,sans-Serif\" font-size=\"14.00\" fill=\"#000000\">entropy = 2.585</text>\n<text text-anchor=\"middle\" x=\"8810\" y=\"-797.8\" font-family=\"Helvetica,sans-Serif\" font-size=\"14.00\" fill=\"#000000\">samples = 6</text>\n<text text-anchor=\"middle\" x=\"8810\" y=\"-782.8\" font-family=\"Helvetica,sans-Serif\" font-size=\"14.00\" fill=\"#000000\">value = [0, 0, 0, 1, 0, 0, 0, 0, 0, 0, 0, 0, 0, 0</text>\n<text text-anchor=\"middle\" x=\"8810\" y=\"-767.8\" font-family=\"Helvetica,sans-Serif\" font-size=\"14.00\" fill=\"#000000\">0, 0, 0, 0, 0, 0, 0, 0, 0, 1, 1, 0, 0, 0</text>\n<text text-anchor=\"middle\" x=\"8810\" y=\"-752.8\" font-family=\"Helvetica,sans-Serif\" font-size=\"14.00\" fill=\"#000000\">0, 0, 0, 0, 0, 1, 0, 0, 0, 1, 0, 0, 0, 0</text>\n<text text-anchor=\"middle\" x=\"8810\" y=\"-737.8\" font-family=\"Helvetica,sans-Serif\" font-size=\"14.00\" fill=\"#000000\">1, 0]</text>\n</g>\n<!-- 86&#45;&gt;87 -->\n<g id=\"edge87\" class=\"edge\">\n<title>86&#45;&gt;87</title>\n<path fill=\"none\" stroke=\"#000000\" d=\"M8810,-878.7444C8810,-870.442 8810,-861.8273 8810,-853.3464\"/>\n<polygon fill=\"#000000\" stroke=\"#000000\" points=\"8813.5001,-853.0977 8810,-843.0978 8806.5001,-853.0978 8813.5001,-853.0977\"/>\n</g>\n<!-- 98 -->\n<g id=\"node99\" class=\"node\">\n<title>98</title>\n<polygon fill=\"none\" stroke=\"#000000\" points=\"9858,-843 9574,-843 9574,-730 9858,-730 9858,-843\"/>\n<text text-anchor=\"middle\" x=\"9716\" y=\"-827.8\" font-family=\"Helvetica,sans-Serif\" font-size=\"14.00\" fill=\"#000000\">X[0] &lt;= 68.0</text>\n<text text-anchor=\"middle\" x=\"9716\" y=\"-812.8\" font-family=\"Helvetica,sans-Serif\" font-size=\"14.00\" fill=\"#000000\">entropy = 2.252</text>\n<text text-anchor=\"middle\" x=\"9716\" y=\"-797.8\" font-family=\"Helvetica,sans-Serif\" font-size=\"14.00\" fill=\"#000000\">samples = 6</text>\n<text text-anchor=\"middle\" x=\"9716\" y=\"-782.8\" font-family=\"Helvetica,sans-Serif\" font-size=\"14.00\" fill=\"#000000\">value = [0, 0, 0, 0, 0, 0, 0, 0, 0, 0, 0, 0, 0, 0</text>\n<text text-anchor=\"middle\" x=\"9716\" y=\"-767.8\" font-family=\"Helvetica,sans-Serif\" font-size=\"14.00\" fill=\"#000000\">0, 0, 0, 0, 0, 0, 0, 1, 0, 0, 0, 0, 0, 0</text>\n<text text-anchor=\"middle\" x=\"9716\" y=\"-752.8\" font-family=\"Helvetica,sans-Serif\" font-size=\"14.00\" fill=\"#000000\">2, 0, 0, 0, 0, 0, 0, 1, 0, 0, 1, 0, 0, 0</text>\n<text text-anchor=\"middle\" x=\"9716\" y=\"-737.8\" font-family=\"Helvetica,sans-Serif\" font-size=\"14.00\" fill=\"#000000\">0, 1]</text>\n</g>\n<!-- 86&#45;&gt;98 -->\n<g id=\"edge98\" class=\"edge\">\n<title>86&#45;&gt;98</title>\n<path fill=\"none\" stroke=\"#000000\" d=\"M8952.0605,-912.1368C9118.4409,-884.7741 9392.966,-839.6259 9563.657,-811.5542\"/>\n<polygon fill=\"#000000\" stroke=\"#000000\" points=\"9564.4329,-814.9737 9573.7324,-809.8972 9563.2969,-808.0665 9564.4329,-814.9737\"/>\n</g>\n<!-- 88 -->\n<g id=\"node89\" class=\"node\">\n<title>88</title>\n<polygon fill=\"none\" stroke=\"#000000\" points=\"8801,-694 8517,-694 8517,-581 8801,-581 8801,-694\"/>\n<text text-anchor=\"middle\" x=\"8659\" y=\"-678.8\" font-family=\"Helvetica,sans-Serif\" font-size=\"14.00\" fill=\"#000000\">X[1] &lt;= 2.5</text>\n<text text-anchor=\"middle\" x=\"8659\" y=\"-663.8\" font-family=\"Helvetica,sans-Serif\" font-size=\"14.00\" fill=\"#000000\">entropy = 1.585</text>\n<text text-anchor=\"middle\" x=\"8659\" y=\"-648.8\" font-family=\"Helvetica,sans-Serif\" font-size=\"14.00\" fill=\"#000000\">samples = 3</text>\n<text text-anchor=\"middle\" x=\"8659\" y=\"-633.8\" font-family=\"Helvetica,sans-Serif\" font-size=\"14.00\" fill=\"#000000\">value = [0, 0, 0, 0, 0, 0, 0, 0, 0, 0, 0, 0, 0, 0</text>\n<text text-anchor=\"middle\" x=\"8659\" y=\"-618.8\" font-family=\"Helvetica,sans-Serif\" font-size=\"14.00\" fill=\"#000000\">0, 0, 0, 0, 0, 0, 0, 0, 0, 1, 1, 0, 0, 0</text>\n<text text-anchor=\"middle\" x=\"8659\" y=\"-603.8\" font-family=\"Helvetica,sans-Serif\" font-size=\"14.00\" fill=\"#000000\">0, 0, 0, 0, 0, 0, 0, 0, 0, 1, 0, 0, 0, 0</text>\n<text text-anchor=\"middle\" x=\"8659\" y=\"-588.8\" font-family=\"Helvetica,sans-Serif\" font-size=\"14.00\" fill=\"#000000\">0, 0]</text>\n</g>\n<!-- 87&#45;&gt;88 -->\n<g id=\"edge88\" class=\"edge\">\n<title>87&#45;&gt;88</title>\n<path fill=\"none\" stroke=\"#000000\" d=\"M8752.4826,-729.7444C8743.0516,-720.4384 8733.2232,-710.7401 8723.6336,-701.2775\"/>\n<polygon fill=\"#000000\" stroke=\"#000000\" points=\"8725.9339,-698.6302 8716.3575,-694.0978 8721.0172,-703.6129 8725.9339,-698.6302\"/>\n</g>\n<!-- 93 -->\n<g id=\"node94\" class=\"node\">\n<title>93</title>\n<polygon fill=\"none\" stroke=\"#000000\" points=\"9103,-694 8819,-694 8819,-581 9103,-581 9103,-694\"/>\n<text text-anchor=\"middle\" x=\"8961\" y=\"-678.8\" font-family=\"Helvetica,sans-Serif\" font-size=\"14.00\" fill=\"#000000\">X[0] &lt;= 48.5</text>\n<text text-anchor=\"middle\" x=\"8961\" y=\"-663.8\" font-family=\"Helvetica,sans-Serif\" font-size=\"14.00\" fill=\"#000000\">entropy = 1.585</text>\n<text text-anchor=\"middle\" x=\"8961\" y=\"-648.8\" font-family=\"Helvetica,sans-Serif\" font-size=\"14.00\" fill=\"#000000\">samples = 3</text>\n<text text-anchor=\"middle\" x=\"8961\" y=\"-633.8\" font-family=\"Helvetica,sans-Serif\" font-size=\"14.00\" fill=\"#000000\">value = [0, 0, 0, 1, 0, 0, 0, 0, 0, 0, 0, 0, 0, 0</text>\n<text text-anchor=\"middle\" x=\"8961\" y=\"-618.8\" font-family=\"Helvetica,sans-Serif\" font-size=\"14.00\" fill=\"#000000\">0, 0, 0, 0, 0, 0, 0, 0, 0, 0, 0, 0, 0, 0</text>\n<text text-anchor=\"middle\" x=\"8961\" y=\"-603.8\" font-family=\"Helvetica,sans-Serif\" font-size=\"14.00\" fill=\"#000000\">0, 0, 0, 0, 0, 1, 0, 0, 0, 0, 0, 0, 0, 0</text>\n<text text-anchor=\"middle\" x=\"8961\" y=\"-588.8\" font-family=\"Helvetica,sans-Serif\" font-size=\"14.00\" fill=\"#000000\">1, 0]</text>\n</g>\n<!-- 87&#45;&gt;93 -->\n<g id=\"edge93\" class=\"edge\">\n<title>87&#45;&gt;93</title>\n<path fill=\"none\" stroke=\"#000000\" d=\"M8867.5174,-729.7444C8876.9484,-720.4384 8886.7768,-710.7401 8896.3664,-701.2775\"/>\n<polygon fill=\"#000000\" stroke=\"#000000\" points=\"8898.9828,-703.6129 8903.6425,-694.0978 8894.0661,-698.6302 8898.9828,-703.6129\"/>\n</g>\n<!-- 89 -->\n<g id=\"node90\" class=\"node\">\n<title>89</title>\n<polygon fill=\"none\" stroke=\"#000000\" points=\"8499,-537.5 8215,-537.5 8215,-439.5 8499,-439.5 8499,-537.5\"/>\n<text text-anchor=\"middle\" x=\"8357\" y=\"-522.3\" font-family=\"Helvetica,sans-Serif\" font-size=\"14.00\" fill=\"#000000\">entropy = 0.0</text>\n<text text-anchor=\"middle\" x=\"8357\" y=\"-507.3\" font-family=\"Helvetica,sans-Serif\" font-size=\"14.00\" fill=\"#000000\">samples = 1</text>\n<text text-anchor=\"middle\" x=\"8357\" y=\"-492.3\" font-family=\"Helvetica,sans-Serif\" font-size=\"14.00\" fill=\"#000000\">value = [0, 0, 0, 0, 0, 0, 0, 0, 0, 0, 0, 0, 0, 0</text>\n<text text-anchor=\"middle\" x=\"8357\" y=\"-477.3\" font-family=\"Helvetica,sans-Serif\" font-size=\"14.00\" fill=\"#000000\">0, 0, 0, 0, 0, 0, 0, 0, 0, 0, 0, 0, 0, 0</text>\n<text text-anchor=\"middle\" x=\"8357\" y=\"-462.3\" font-family=\"Helvetica,sans-Serif\" font-size=\"14.00\" fill=\"#000000\">0, 0, 0, 0, 0, 0, 0, 0, 0, 1, 0, 0, 0, 0</text>\n<text text-anchor=\"middle\" x=\"8357\" y=\"-447.3\" font-family=\"Helvetica,sans-Serif\" font-size=\"14.00\" fill=\"#000000\">0, 0]</text>\n</g>\n<!-- 88&#45;&gt;89 -->\n<g id=\"edge89\" class=\"edge\">\n<title>88&#45;&gt;89</title>\n<path fill=\"none\" stroke=\"#000000\" d=\"M8544.3961,-580.957C8518.6863,-568.2724 8491.4796,-554.8492 8466.0052,-542.2807\"/>\n<polygon fill=\"#000000\" stroke=\"#000000\" points=\"8467.2208,-538.9777 8456.7042,-537.6918 8464.1235,-545.2552 8467.2208,-538.9777\"/>\n</g>\n<!-- 90 -->\n<g id=\"node91\" class=\"node\">\n<title>90</title>\n<polygon fill=\"none\" stroke=\"#000000\" points=\"8801,-545 8517,-545 8517,-432 8801,-432 8801,-545\"/>\n<text text-anchor=\"middle\" x=\"8659\" y=\"-529.8\" font-family=\"Helvetica,sans-Serif\" font-size=\"14.00\" fill=\"#000000\">X[0] &lt;= 40.5</text>\n<text text-anchor=\"middle\" x=\"8659\" y=\"-514.8\" font-family=\"Helvetica,sans-Serif\" font-size=\"14.00\" fill=\"#000000\">entropy = 1.0</text>\n<text text-anchor=\"middle\" x=\"8659\" y=\"-499.8\" font-family=\"Helvetica,sans-Serif\" font-size=\"14.00\" fill=\"#000000\">samples = 2</text>\n<text text-anchor=\"middle\" x=\"8659\" y=\"-484.8\" font-family=\"Helvetica,sans-Serif\" font-size=\"14.00\" fill=\"#000000\">value = [0, 0, 0, 0, 0, 0, 0, 0, 0, 0, 0, 0, 0, 0</text>\n<text text-anchor=\"middle\" x=\"8659\" y=\"-469.8\" font-family=\"Helvetica,sans-Serif\" font-size=\"14.00\" fill=\"#000000\">0, 0, 0, 0, 0, 0, 0, 0, 0, 1, 1, 0, 0, 0</text>\n<text text-anchor=\"middle\" x=\"8659\" y=\"-454.8\" font-family=\"Helvetica,sans-Serif\" font-size=\"14.00\" fill=\"#000000\">0, 0, 0, 0, 0, 0, 0, 0, 0, 0, 0, 0, 0, 0</text>\n<text text-anchor=\"middle\" x=\"8659\" y=\"-439.8\" font-family=\"Helvetica,sans-Serif\" font-size=\"14.00\" fill=\"#000000\">0, 0]</text>\n</g>\n<!-- 88&#45;&gt;90 -->\n<g id=\"edge90\" class=\"edge\">\n<title>88&#45;&gt;90</title>\n<path fill=\"none\" stroke=\"#000000\" d=\"M8659,-580.7444C8659,-572.442 8659,-563.8273 8659,-555.3464\"/>\n<polygon fill=\"#000000\" stroke=\"#000000\" points=\"8662.5001,-555.0977 8659,-545.0978 8655.5001,-555.0978 8662.5001,-555.0977\"/>\n</g>\n<!-- 91 -->\n<g id=\"node92\" class=\"node\">\n<title>91</title>\n<polygon fill=\"none\" stroke=\"#000000\" points=\"8650,-388.5 8366,-388.5 8366,-290.5 8650,-290.5 8650,-388.5\"/>\n<text text-anchor=\"middle\" x=\"8508\" y=\"-373.3\" font-family=\"Helvetica,sans-Serif\" font-size=\"14.00\" fill=\"#000000\">entropy = 0.0</text>\n<text text-anchor=\"middle\" x=\"8508\" y=\"-358.3\" font-family=\"Helvetica,sans-Serif\" font-size=\"14.00\" fill=\"#000000\">samples = 1</text>\n<text text-anchor=\"middle\" x=\"8508\" y=\"-343.3\" font-family=\"Helvetica,sans-Serif\" font-size=\"14.00\" fill=\"#000000\">value = [0, 0, 0, 0, 0, 0, 0, 0, 0, 0, 0, 0, 0, 0</text>\n<text text-anchor=\"middle\" x=\"8508\" y=\"-328.3\" font-family=\"Helvetica,sans-Serif\" font-size=\"14.00\" fill=\"#000000\">0, 0, 0, 0, 0, 0, 0, 0, 0, 1, 0, 0, 0, 0</text>\n<text text-anchor=\"middle\" x=\"8508\" y=\"-313.3\" font-family=\"Helvetica,sans-Serif\" font-size=\"14.00\" fill=\"#000000\">0, 0, 0, 0, 0, 0, 0, 0, 0, 0, 0, 0, 0, 0</text>\n<text text-anchor=\"middle\" x=\"8508\" y=\"-298.3\" font-family=\"Helvetica,sans-Serif\" font-size=\"14.00\" fill=\"#000000\">0, 0]</text>\n</g>\n<!-- 90&#45;&gt;91 -->\n<g id=\"edge91\" class=\"edge\">\n<title>90&#45;&gt;91</title>\n<path fill=\"none\" stroke=\"#000000\" d=\"M8601.4826,-431.7444C8589.6112,-420.0303 8577.11,-407.6946 8565.2481,-395.9899\"/>\n<polygon fill=\"#000000\" stroke=\"#000000\" points=\"8567.5329,-393.3273 8557.9565,-388.7948 8562.6162,-398.3099 8567.5329,-393.3273\"/>\n</g>\n<!-- 92 -->\n<g id=\"node93\" class=\"node\">\n<title>92</title>\n<polygon fill=\"none\" stroke=\"#000000\" points=\"8952,-388.5 8668,-388.5 8668,-290.5 8952,-290.5 8952,-388.5\"/>\n<text text-anchor=\"middle\" x=\"8810\" y=\"-373.3\" font-family=\"Helvetica,sans-Serif\" font-size=\"14.00\" fill=\"#000000\">entropy = 0.0</text>\n<text text-anchor=\"middle\" x=\"8810\" y=\"-358.3\" font-family=\"Helvetica,sans-Serif\" font-size=\"14.00\" fill=\"#000000\">samples = 1</text>\n<text text-anchor=\"middle\" x=\"8810\" y=\"-343.3\" font-family=\"Helvetica,sans-Serif\" font-size=\"14.00\" fill=\"#000000\">value = [0, 0, 0, 0, 0, 0, 0, 0, 0, 0, 0, 0, 0, 0</text>\n<text text-anchor=\"middle\" x=\"8810\" y=\"-328.3\" font-family=\"Helvetica,sans-Serif\" font-size=\"14.00\" fill=\"#000000\">0, 0, 0, 0, 0, 0, 0, 0, 0, 0, 1, 0, 0, 0</text>\n<text text-anchor=\"middle\" x=\"8810\" y=\"-313.3\" font-family=\"Helvetica,sans-Serif\" font-size=\"14.00\" fill=\"#000000\">0, 0, 0, 0, 0, 0, 0, 0, 0, 0, 0, 0, 0, 0</text>\n<text text-anchor=\"middle\" x=\"8810\" y=\"-298.3\" font-family=\"Helvetica,sans-Serif\" font-size=\"14.00\" fill=\"#000000\">0, 0]</text>\n</g>\n<!-- 90&#45;&gt;92 -->\n<g id=\"edge92\" class=\"edge\">\n<title>90&#45;&gt;92</title>\n<path fill=\"none\" stroke=\"#000000\" d=\"M8716.5174,-431.7444C8728.3888,-420.0303 8740.89,-407.6946 8752.7519,-395.9899\"/>\n<polygon fill=\"#000000\" stroke=\"#000000\" points=\"8755.3838,-398.3099 8760.0435,-388.7948 8750.4671,-393.3273 8755.3838,-398.3099\"/>\n</g>\n<!-- 94 -->\n<g id=\"node95\" class=\"node\">\n<title>94</title>\n<polygon fill=\"none\" stroke=\"#000000\" points=\"9103,-537.5 8819,-537.5 8819,-439.5 9103,-439.5 9103,-537.5\"/>\n<text text-anchor=\"middle\" x=\"8961\" y=\"-522.3\" font-family=\"Helvetica,sans-Serif\" font-size=\"14.00\" fill=\"#000000\">entropy = 0.0</text>\n<text text-anchor=\"middle\" x=\"8961\" y=\"-507.3\" font-family=\"Helvetica,sans-Serif\" font-size=\"14.00\" fill=\"#000000\">samples = 1</text>\n<text text-anchor=\"middle\" x=\"8961\" y=\"-492.3\" font-family=\"Helvetica,sans-Serif\" font-size=\"14.00\" fill=\"#000000\">value = [0, 0, 0, 0, 0, 0, 0, 0, 0, 0, 0, 0, 0, 0</text>\n<text text-anchor=\"middle\" x=\"8961\" y=\"-477.3\" font-family=\"Helvetica,sans-Serif\" font-size=\"14.00\" fill=\"#000000\">0, 0, 0, 0, 0, 0, 0, 0, 0, 0, 0, 0, 0, 0</text>\n<text text-anchor=\"middle\" x=\"8961\" y=\"-462.3\" font-family=\"Helvetica,sans-Serif\" font-size=\"14.00\" fill=\"#000000\">0, 0, 0, 0, 0, 1, 0, 0, 0, 0, 0, 0, 0, 0</text>\n<text text-anchor=\"middle\" x=\"8961\" y=\"-447.3\" font-family=\"Helvetica,sans-Serif\" font-size=\"14.00\" fill=\"#000000\">0, 0]</text>\n</g>\n<!-- 93&#45;&gt;94 -->\n<g id=\"edge94\" class=\"edge\">\n<title>93&#45;&gt;94</title>\n<path fill=\"none\" stroke=\"#000000\" d=\"M8961,-580.7444C8961,-570.0249 8961,-558.7849 8961,-547.9842\"/>\n<polygon fill=\"#000000\" stroke=\"#000000\" points=\"8964.5001,-547.7947 8961,-537.7948 8957.5001,-547.7948 8964.5001,-547.7947\"/>\n</g>\n<!-- 95 -->\n<g id=\"node96\" class=\"node\">\n<title>95</title>\n<polygon fill=\"none\" stroke=\"#000000\" points=\"9405,-545 9121,-545 9121,-432 9405,-432 9405,-545\"/>\n<text text-anchor=\"middle\" x=\"9263\" y=\"-529.8\" font-family=\"Helvetica,sans-Serif\" font-size=\"14.00\" fill=\"#000000\">X[0] &lt;= 51.0</text>\n<text text-anchor=\"middle\" x=\"9263\" y=\"-514.8\" font-family=\"Helvetica,sans-Serif\" font-size=\"14.00\" fill=\"#000000\">entropy = 1.0</text>\n<text text-anchor=\"middle\" x=\"9263\" y=\"-499.8\" font-family=\"Helvetica,sans-Serif\" font-size=\"14.00\" fill=\"#000000\">samples = 2</text>\n<text text-anchor=\"middle\" x=\"9263\" y=\"-484.8\" font-family=\"Helvetica,sans-Serif\" font-size=\"14.00\" fill=\"#000000\">value = [0, 0, 0, 1, 0, 0, 0, 0, 0, 0, 0, 0, 0, 0</text>\n<text text-anchor=\"middle\" x=\"9263\" y=\"-469.8\" font-family=\"Helvetica,sans-Serif\" font-size=\"14.00\" fill=\"#000000\">0, 0, 0, 0, 0, 0, 0, 0, 0, 0, 0, 0, 0, 0</text>\n<text text-anchor=\"middle\" x=\"9263\" y=\"-454.8\" font-family=\"Helvetica,sans-Serif\" font-size=\"14.00\" fill=\"#000000\">0, 0, 0, 0, 0, 0, 0, 0, 0, 0, 0, 0, 0, 0</text>\n<text text-anchor=\"middle\" x=\"9263\" y=\"-439.8\" font-family=\"Helvetica,sans-Serif\" font-size=\"14.00\" fill=\"#000000\">1, 0]</text>\n</g>\n<!-- 93&#45;&gt;95 -->\n<g id=\"edge95\" class=\"edge\">\n<title>93&#45;&gt;95</title>\n<path fill=\"none\" stroke=\"#000000\" d=\"M9075.6039,-580.957C9096.4825,-570.656 9118.3484,-559.8679 9139.4719,-549.446\"/>\n<polygon fill=\"#000000\" stroke=\"#000000\" points=\"9141.0551,-552.5678 9148.4744,-545.0044 9137.9578,-546.2902 9141.0551,-552.5678\"/>\n</g>\n<!-- 96 -->\n<g id=\"node97\" class=\"node\">\n<title>96</title>\n<polygon fill=\"none\" stroke=\"#000000\" points=\"9254,-388.5 8970,-388.5 8970,-290.5 9254,-290.5 9254,-388.5\"/>\n<text text-anchor=\"middle\" x=\"9112\" y=\"-373.3\" font-family=\"Helvetica,sans-Serif\" font-size=\"14.00\" fill=\"#000000\">entropy = 0.0</text>\n<text text-anchor=\"middle\" x=\"9112\" y=\"-358.3\" font-family=\"Helvetica,sans-Serif\" font-size=\"14.00\" fill=\"#000000\">samples = 1</text>\n<text text-anchor=\"middle\" x=\"9112\" y=\"-343.3\" font-family=\"Helvetica,sans-Serif\" font-size=\"14.00\" fill=\"#000000\">value = [0, 0, 0, 0, 0, 0, 0, 0, 0, 0, 0, 0, 0, 0</text>\n<text text-anchor=\"middle\" x=\"9112\" y=\"-328.3\" font-family=\"Helvetica,sans-Serif\" font-size=\"14.00\" fill=\"#000000\">0, 0, 0, 0, 0, 0, 0, 0, 0, 0, 0, 0, 0, 0</text>\n<text text-anchor=\"middle\" x=\"9112\" y=\"-313.3\" font-family=\"Helvetica,sans-Serif\" font-size=\"14.00\" fill=\"#000000\">0, 0, 0, 0, 0, 0, 0, 0, 0, 0, 0, 0, 0, 0</text>\n<text text-anchor=\"middle\" x=\"9112\" y=\"-298.3\" font-family=\"Helvetica,sans-Serif\" font-size=\"14.00\" fill=\"#000000\">1, 0]</text>\n</g>\n<!-- 95&#45;&gt;96 -->\n<g id=\"edge96\" class=\"edge\">\n<title>95&#45;&gt;96</title>\n<path fill=\"none\" stroke=\"#000000\" d=\"M9205.4826,-431.7444C9193.6112,-420.0303 9181.11,-407.6946 9169.2481,-395.9899\"/>\n<polygon fill=\"#000000\" stroke=\"#000000\" points=\"9171.5329,-393.3273 9161.9565,-388.7948 9166.6162,-398.3099 9171.5329,-393.3273\"/>\n</g>\n<!-- 97 -->\n<g id=\"node98\" class=\"node\">\n<title>97</title>\n<polygon fill=\"none\" stroke=\"#000000\" points=\"9556,-388.5 9272,-388.5 9272,-290.5 9556,-290.5 9556,-388.5\"/>\n<text text-anchor=\"middle\" x=\"9414\" y=\"-373.3\" font-family=\"Helvetica,sans-Serif\" font-size=\"14.00\" fill=\"#000000\">entropy = 0.0</text>\n<text text-anchor=\"middle\" x=\"9414\" y=\"-358.3\" font-family=\"Helvetica,sans-Serif\" font-size=\"14.00\" fill=\"#000000\">samples = 1</text>\n<text text-anchor=\"middle\" x=\"9414\" y=\"-343.3\" font-family=\"Helvetica,sans-Serif\" font-size=\"14.00\" fill=\"#000000\">value = [0, 0, 0, 1, 0, 0, 0, 0, 0, 0, 0, 0, 0, 0</text>\n<text text-anchor=\"middle\" x=\"9414\" y=\"-328.3\" font-family=\"Helvetica,sans-Serif\" font-size=\"14.00\" fill=\"#000000\">0, 0, 0, 0, 0, 0, 0, 0, 0, 0, 0, 0, 0, 0</text>\n<text text-anchor=\"middle\" x=\"9414\" y=\"-313.3\" font-family=\"Helvetica,sans-Serif\" font-size=\"14.00\" fill=\"#000000\">0, 0, 0, 0, 0, 0, 0, 0, 0, 0, 0, 0, 0, 0</text>\n<text text-anchor=\"middle\" x=\"9414\" y=\"-298.3\" font-family=\"Helvetica,sans-Serif\" font-size=\"14.00\" fill=\"#000000\">0, 0]</text>\n</g>\n<!-- 95&#45;&gt;97 -->\n<g id=\"edge97\" class=\"edge\">\n<title>95&#45;&gt;97</title>\n<path fill=\"none\" stroke=\"#000000\" d=\"M9320.5174,-431.7444C9332.3888,-420.0303 9344.89,-407.6946 9356.7519,-395.9899\"/>\n<polygon fill=\"#000000\" stroke=\"#000000\" points=\"9359.3838,-398.3099 9364.0435,-388.7948 9354.4671,-393.3273 9359.3838,-398.3099\"/>\n</g>\n<!-- 99 -->\n<g id=\"node100\" class=\"node\">\n<title>99</title>\n<polygon fill=\"none\" stroke=\"#000000\" points=\"9858,-694 9574,-694 9574,-581 9858,-581 9858,-694\"/>\n<text text-anchor=\"middle\" x=\"9716\" y=\"-678.8\" font-family=\"Helvetica,sans-Serif\" font-size=\"14.00\" fill=\"#000000\">X[0] &lt;= 59.5</text>\n<text text-anchor=\"middle\" x=\"9716\" y=\"-663.8\" font-family=\"Helvetica,sans-Serif\" font-size=\"14.00\" fill=\"#000000\">entropy = 0.918</text>\n<text text-anchor=\"middle\" x=\"9716\" y=\"-648.8\" font-family=\"Helvetica,sans-Serif\" font-size=\"14.00\" fill=\"#000000\">samples = 3</text>\n<text text-anchor=\"middle\" x=\"9716\" y=\"-633.8\" font-family=\"Helvetica,sans-Serif\" font-size=\"14.00\" fill=\"#000000\">value = [0, 0, 0, 0, 0, 0, 0, 0, 0, 0, 0, 0, 0, 0</text>\n<text text-anchor=\"middle\" x=\"9716\" y=\"-618.8\" font-family=\"Helvetica,sans-Serif\" font-size=\"14.00\" fill=\"#000000\">0, 0, 0, 0, 0, 0, 0, 0, 0, 0, 0, 0, 0, 0</text>\n<text text-anchor=\"middle\" x=\"9716\" y=\"-603.8\" font-family=\"Helvetica,sans-Serif\" font-size=\"14.00\" fill=\"#000000\">2, 0, 0, 0, 0, 0, 0, 1, 0, 0, 0, 0, 0, 0</text>\n<text text-anchor=\"middle\" x=\"9716\" y=\"-588.8\" font-family=\"Helvetica,sans-Serif\" font-size=\"14.00\" fill=\"#000000\">0, 0]</text>\n</g>\n<!-- 98&#45;&gt;99 -->\n<g id=\"edge99\" class=\"edge\">\n<title>98&#45;&gt;99</title>\n<path fill=\"none\" stroke=\"#000000\" d=\"M9716,-729.7444C9716,-721.442 9716,-712.8273 9716,-704.3464\"/>\n<polygon fill=\"#000000\" stroke=\"#000000\" points=\"9719.5001,-704.0977 9716,-694.0978 9712.5001,-704.0978 9719.5001,-704.0977\"/>\n</g>\n<!-- 102 -->\n<g id=\"node103\" class=\"node\">\n<title>102</title>\n<polygon fill=\"none\" stroke=\"#000000\" points=\"10311,-694 10027,-694 10027,-581 10311,-581 10311,-694\"/>\n<text text-anchor=\"middle\" x=\"10169\" y=\"-678.8\" font-family=\"Helvetica,sans-Serif\" font-size=\"14.00\" fill=\"#000000\">X[0] &lt;= 72.0</text>\n<text text-anchor=\"middle\" x=\"10169\" y=\"-663.8\" font-family=\"Helvetica,sans-Serif\" font-size=\"14.00\" fill=\"#000000\">entropy = 1.585</text>\n<text text-anchor=\"middle\" x=\"10169\" y=\"-648.8\" font-family=\"Helvetica,sans-Serif\" font-size=\"14.00\" fill=\"#000000\">samples = 3</text>\n<text text-anchor=\"middle\" x=\"10169\" y=\"-633.8\" font-family=\"Helvetica,sans-Serif\" font-size=\"14.00\" fill=\"#000000\">value = [0, 0, 0, 0, 0, 0, 0, 0, 0, 0, 0, 0, 0, 0</text>\n<text text-anchor=\"middle\" x=\"10169\" y=\"-618.8\" font-family=\"Helvetica,sans-Serif\" font-size=\"14.00\" fill=\"#000000\">0, 0, 0, 0, 0, 0, 0, 1, 0, 0, 0, 0, 0, 0</text>\n<text text-anchor=\"middle\" x=\"10169\" y=\"-603.8\" font-family=\"Helvetica,sans-Serif\" font-size=\"14.00\" fill=\"#000000\">0, 0, 0, 0, 0, 0, 0, 0, 0, 0, 1, 0, 0, 0</text>\n<text text-anchor=\"middle\" x=\"10169\" y=\"-588.8\" font-family=\"Helvetica,sans-Serif\" font-size=\"14.00\" fill=\"#000000\">0, 1]</text>\n</g>\n<!-- 98&#45;&gt;102 -->\n<g id=\"edge102\" class=\"edge\">\n<title>98&#45;&gt;102</title>\n<path fill=\"none\" stroke=\"#000000\" d=\"M9858.0891,-739.7643C9908.6529,-723.1329 9965.7659,-704.3474 10017.1181,-687.4567\"/>\n<polygon fill=\"#000000\" stroke=\"#000000\" points=\"10018.231,-690.7752 10026.6368,-684.3259 10016.0438,-684.1257 10018.231,-690.7752\"/>\n</g>\n<!-- 100 -->\n<g id=\"node101\" class=\"node\">\n<title>100</title>\n<polygon fill=\"none\" stroke=\"#000000\" points=\"9707,-537.5 9423,-537.5 9423,-439.5 9707,-439.5 9707,-537.5\"/>\n<text text-anchor=\"middle\" x=\"9565\" y=\"-522.3\" font-family=\"Helvetica,sans-Serif\" font-size=\"14.00\" fill=\"#000000\">entropy = 0.0</text>\n<text text-anchor=\"middle\" x=\"9565\" y=\"-507.3\" font-family=\"Helvetica,sans-Serif\" font-size=\"14.00\" fill=\"#000000\">samples = 1</text>\n<text text-anchor=\"middle\" x=\"9565\" y=\"-492.3\" font-family=\"Helvetica,sans-Serif\" font-size=\"14.00\" fill=\"#000000\">value = [0, 0, 0, 0, 0, 0, 0, 0, 0, 0, 0, 0, 0, 0</text>\n<text text-anchor=\"middle\" x=\"9565\" y=\"-477.3\" font-family=\"Helvetica,sans-Serif\" font-size=\"14.00\" fill=\"#000000\">0, 0, 0, 0, 0, 0, 0, 0, 0, 0, 0, 0, 0, 0</text>\n<text text-anchor=\"middle\" x=\"9565\" y=\"-462.3\" font-family=\"Helvetica,sans-Serif\" font-size=\"14.00\" fill=\"#000000\">0, 0, 0, 0, 0, 0, 0, 1, 0, 0, 0, 0, 0, 0</text>\n<text text-anchor=\"middle\" x=\"9565\" y=\"-447.3\" font-family=\"Helvetica,sans-Serif\" font-size=\"14.00\" fill=\"#000000\">0, 0]</text>\n</g>\n<!-- 99&#45;&gt;100 -->\n<g id=\"edge100\" class=\"edge\">\n<title>99&#45;&gt;100</title>\n<path fill=\"none\" stroke=\"#000000\" d=\"M9658.4826,-580.7444C9646.6112,-569.0303 9634.11,-556.6946 9622.2481,-544.9899\"/>\n<polygon fill=\"#000000\" stroke=\"#000000\" points=\"9624.5329,-542.3273 9614.9565,-537.7948 9619.6162,-547.3099 9624.5329,-542.3273\"/>\n</g>\n<!-- 101 -->\n<g id=\"node102\" class=\"node\">\n<title>101</title>\n<polygon fill=\"none\" stroke=\"#000000\" points=\"10009,-537.5 9725,-537.5 9725,-439.5 10009,-439.5 10009,-537.5\"/>\n<text text-anchor=\"middle\" x=\"9867\" y=\"-522.3\" font-family=\"Helvetica,sans-Serif\" font-size=\"14.00\" fill=\"#000000\">entropy = 0.0</text>\n<text text-anchor=\"middle\" x=\"9867\" y=\"-507.3\" font-family=\"Helvetica,sans-Serif\" font-size=\"14.00\" fill=\"#000000\">samples = 2</text>\n<text text-anchor=\"middle\" x=\"9867\" y=\"-492.3\" font-family=\"Helvetica,sans-Serif\" font-size=\"14.00\" fill=\"#000000\">value = [0, 0, 0, 0, 0, 0, 0, 0, 0, 0, 0, 0, 0, 0</text>\n<text text-anchor=\"middle\" x=\"9867\" y=\"-477.3\" font-family=\"Helvetica,sans-Serif\" font-size=\"14.00\" fill=\"#000000\">0, 0, 0, 0, 0, 0, 0, 0, 0, 0, 0, 0, 0, 0</text>\n<text text-anchor=\"middle\" x=\"9867\" y=\"-462.3\" font-family=\"Helvetica,sans-Serif\" font-size=\"14.00\" fill=\"#000000\">2, 0, 0, 0, 0, 0, 0, 0, 0, 0, 0, 0, 0, 0</text>\n<text text-anchor=\"middle\" x=\"9867\" y=\"-447.3\" font-family=\"Helvetica,sans-Serif\" font-size=\"14.00\" fill=\"#000000\">0, 0]</text>\n</g>\n<!-- 99&#45;&gt;101 -->\n<g id=\"edge101\" class=\"edge\">\n<title>99&#45;&gt;101</title>\n<path fill=\"none\" stroke=\"#000000\" d=\"M9773.5174,-580.7444C9785.3888,-569.0303 9797.89,-556.6946 9809.7519,-544.9899\"/>\n<polygon fill=\"#000000\" stroke=\"#000000\" points=\"9812.3838,-547.3099 9817.0435,-537.7948 9807.4671,-542.3273 9812.3838,-547.3099\"/>\n</g>\n<!-- 103 -->\n<g id=\"node104\" class=\"node\">\n<title>103</title>\n<polygon fill=\"none\" stroke=\"#000000\" points=\"10311,-537.5 10027,-537.5 10027,-439.5 10311,-439.5 10311,-537.5\"/>\n<text text-anchor=\"middle\" x=\"10169\" y=\"-522.3\" font-family=\"Helvetica,sans-Serif\" font-size=\"14.00\" fill=\"#000000\">entropy = 0.0</text>\n<text text-anchor=\"middle\" x=\"10169\" y=\"-507.3\" font-family=\"Helvetica,sans-Serif\" font-size=\"14.00\" fill=\"#000000\">samples = 1</text>\n<text text-anchor=\"middle\" x=\"10169\" y=\"-492.3\" font-family=\"Helvetica,sans-Serif\" font-size=\"14.00\" fill=\"#000000\">value = [0, 0, 0, 0, 0, 0, 0, 0, 0, 0, 0, 0, 0, 0</text>\n<text text-anchor=\"middle\" x=\"10169\" y=\"-477.3\" font-family=\"Helvetica,sans-Serif\" font-size=\"14.00\" fill=\"#000000\">0, 0, 0, 0, 0, 0, 0, 0, 0, 0, 0, 0, 0, 0</text>\n<text text-anchor=\"middle\" x=\"10169\" y=\"-462.3\" font-family=\"Helvetica,sans-Serif\" font-size=\"14.00\" fill=\"#000000\">0, 0, 0, 0, 0, 0, 0, 0, 0, 0, 1, 0, 0, 0</text>\n<text text-anchor=\"middle\" x=\"10169\" y=\"-447.3\" font-family=\"Helvetica,sans-Serif\" font-size=\"14.00\" fill=\"#000000\">0, 0]</text>\n</g>\n<!-- 102&#45;&gt;103 -->\n<g id=\"edge103\" class=\"edge\">\n<title>102&#45;&gt;103</title>\n<path fill=\"none\" stroke=\"#000000\" d=\"M10169,-580.7444C10169,-570.0249 10169,-558.7849 10169,-547.9842\"/>\n<polygon fill=\"#000000\" stroke=\"#000000\" points=\"10172.5001,-547.7947 10169,-537.7948 10165.5001,-547.7948 10172.5001,-547.7947\"/>\n</g>\n<!-- 104 -->\n<g id=\"node105\" class=\"node\">\n<title>104</title>\n<polygon fill=\"none\" stroke=\"#000000\" points=\"10613,-545 10329,-545 10329,-432 10613,-432 10613,-545\"/>\n<text text-anchor=\"middle\" x=\"10471\" y=\"-529.8\" font-family=\"Helvetica,sans-Serif\" font-size=\"14.00\" fill=\"#000000\">X[0] &lt;= 74.5</text>\n<text text-anchor=\"middle\" x=\"10471\" y=\"-514.8\" font-family=\"Helvetica,sans-Serif\" font-size=\"14.00\" fill=\"#000000\">entropy = 1.0</text>\n<text text-anchor=\"middle\" x=\"10471\" y=\"-499.8\" font-family=\"Helvetica,sans-Serif\" font-size=\"14.00\" fill=\"#000000\">samples = 2</text>\n<text text-anchor=\"middle\" x=\"10471\" y=\"-484.8\" font-family=\"Helvetica,sans-Serif\" font-size=\"14.00\" fill=\"#000000\">value = [0, 0, 0, 0, 0, 0, 0, 0, 0, 0, 0, 0, 0, 0</text>\n<text text-anchor=\"middle\" x=\"10471\" y=\"-469.8\" font-family=\"Helvetica,sans-Serif\" font-size=\"14.00\" fill=\"#000000\">0, 0, 0, 0, 0, 0, 0, 1, 0, 0, 0, 0, 0, 0</text>\n<text text-anchor=\"middle\" x=\"10471\" y=\"-454.8\" font-family=\"Helvetica,sans-Serif\" font-size=\"14.00\" fill=\"#000000\">0, 0, 0, 0, 0, 0, 0, 0, 0, 0, 0, 0, 0, 0</text>\n<text text-anchor=\"middle\" x=\"10471\" y=\"-439.8\" font-family=\"Helvetica,sans-Serif\" font-size=\"14.00\" fill=\"#000000\">0, 1]</text>\n</g>\n<!-- 102&#45;&gt;104 -->\n<g id=\"edge104\" class=\"edge\">\n<title>102&#45;&gt;104</title>\n<path fill=\"none\" stroke=\"#000000\" d=\"M10283.6039,-580.957C10304.4825,-570.656 10326.3484,-559.8679 10347.4719,-549.446\"/>\n<polygon fill=\"#000000\" stroke=\"#000000\" points=\"10349.0551,-552.5678 10356.4744,-545.0044 10345.9578,-546.2902 10349.0551,-552.5678\"/>\n</g>\n<!-- 105 -->\n<g id=\"node106\" class=\"node\">\n<title>105</title>\n<polygon fill=\"none\" stroke=\"#000000\" points=\"10462,-388.5 10178,-388.5 10178,-290.5 10462,-290.5 10462,-388.5\"/>\n<text text-anchor=\"middle\" x=\"10320\" y=\"-373.3\" font-family=\"Helvetica,sans-Serif\" font-size=\"14.00\" fill=\"#000000\">entropy = 0.0</text>\n<text text-anchor=\"middle\" x=\"10320\" y=\"-358.3\" font-family=\"Helvetica,sans-Serif\" font-size=\"14.00\" fill=\"#000000\">samples = 1</text>\n<text text-anchor=\"middle\" x=\"10320\" y=\"-343.3\" font-family=\"Helvetica,sans-Serif\" font-size=\"14.00\" fill=\"#000000\">value = [0, 0, 0, 0, 0, 0, 0, 0, 0, 0, 0, 0, 0, 0</text>\n<text text-anchor=\"middle\" x=\"10320\" y=\"-328.3\" font-family=\"Helvetica,sans-Serif\" font-size=\"14.00\" fill=\"#000000\">0, 0, 0, 0, 0, 0, 0, 1, 0, 0, 0, 0, 0, 0</text>\n<text text-anchor=\"middle\" x=\"10320\" y=\"-313.3\" font-family=\"Helvetica,sans-Serif\" font-size=\"14.00\" fill=\"#000000\">0, 0, 0, 0, 0, 0, 0, 0, 0, 0, 0, 0, 0, 0</text>\n<text text-anchor=\"middle\" x=\"10320\" y=\"-298.3\" font-family=\"Helvetica,sans-Serif\" font-size=\"14.00\" fill=\"#000000\">0, 0]</text>\n</g>\n<!-- 104&#45;&gt;105 -->\n<g id=\"edge105\" class=\"edge\">\n<title>104&#45;&gt;105</title>\n<path fill=\"none\" stroke=\"#000000\" d=\"M10413.4826,-431.7444C10401.6112,-420.0303 10389.11,-407.6946 10377.2481,-395.9899\"/>\n<polygon fill=\"#000000\" stroke=\"#000000\" points=\"10379.5329,-393.3273 10369.9565,-388.7948 10374.6162,-398.3099 10379.5329,-393.3273\"/>\n</g>\n<!-- 106 -->\n<g id=\"node107\" class=\"node\">\n<title>106</title>\n<polygon fill=\"none\" stroke=\"#000000\" points=\"10764,-388.5 10480,-388.5 10480,-290.5 10764,-290.5 10764,-388.5\"/>\n<text text-anchor=\"middle\" x=\"10622\" y=\"-373.3\" font-family=\"Helvetica,sans-Serif\" font-size=\"14.00\" fill=\"#000000\">entropy = 0.0</text>\n<text text-anchor=\"middle\" x=\"10622\" y=\"-358.3\" font-family=\"Helvetica,sans-Serif\" font-size=\"14.00\" fill=\"#000000\">samples = 1</text>\n<text text-anchor=\"middle\" x=\"10622\" y=\"-343.3\" font-family=\"Helvetica,sans-Serif\" font-size=\"14.00\" fill=\"#000000\">value = [0, 0, 0, 0, 0, 0, 0, 0, 0, 0, 0, 0, 0, 0</text>\n<text text-anchor=\"middle\" x=\"10622\" y=\"-328.3\" font-family=\"Helvetica,sans-Serif\" font-size=\"14.00\" fill=\"#000000\">0, 0, 0, 0, 0, 0, 0, 0, 0, 0, 0, 0, 0, 0</text>\n<text text-anchor=\"middle\" x=\"10622\" y=\"-313.3\" font-family=\"Helvetica,sans-Serif\" font-size=\"14.00\" fill=\"#000000\">0, 0, 0, 0, 0, 0, 0, 0, 0, 0, 0, 0, 0, 0</text>\n<text text-anchor=\"middle\" x=\"10622\" y=\"-298.3\" font-family=\"Helvetica,sans-Serif\" font-size=\"14.00\" fill=\"#000000\">0, 1]</text>\n</g>\n<!-- 104&#45;&gt;106 -->\n<g id=\"edge106\" class=\"edge\">\n<title>104&#45;&gt;106</title>\n<path fill=\"none\" stroke=\"#000000\" d=\"M10528.5174,-431.7444C10540.3888,-420.0303 10552.89,-407.6946 10564.7519,-395.9899\"/>\n<polygon fill=\"#000000\" stroke=\"#000000\" points=\"10567.3838,-398.3099 10572.0435,-388.7948 10562.4671,-393.3273 10567.3838,-398.3099\"/>\n</g>\n</g>\n</svg>\n"
          },
          "metadata": {},
          "execution_count": 37
        }
      ]
    }
  ]
}